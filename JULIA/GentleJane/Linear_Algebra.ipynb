{
 "cells": [
  {
   "cell_type": "markdown",
   "id": "1d6086fb-13c2-46c6-9674-6f0b42aa69fe",
   "metadata": {},
   "source": [
    "# Linear Algebra"
   ]
  },
  {
   "cell_type": "markdown",
   "id": "8ba30a5a-44d4-426a-833f-e9a24f321c8a",
   "metadata": {},
   "source": [
    "#### In Julia, rand(1:4, 3, 3) generates a 3×3 matrix filled with random integers sampled from the range 1:4 (i.e., each element can be 1, 2, 3, or 4). Here's a detailed breakdown:"
   ]
  },
  {
   "cell_type": "code",
   "execution_count": 3,
   "id": "fd413d98-2d7f-46a5-92c5-67414d671bd0",
   "metadata": {},
   "outputs": [
    {
     "data": {
      "text/plain": [
       "3×3 Matrix{Int64}:\n",
       " 2  1  1\n",
       " 4  1  4\n",
       " 4  3  3"
      ]
     },
     "execution_count": 3,
     "metadata": {},
     "output_type": "execute_result"
    }
   ],
   "source": [
    "rand(1:4 , 3 , 3)"
   ]
  },
  {
   "cell_type": "code",
   "execution_count": 5,
   "id": "da6412b9-5783-4c2d-b385-340a47fff962",
   "metadata": {},
   "outputs": [
    {
     "data": {
      "text/plain": [
       "3×3 Matrix{Int64}:\n",
       " 2  2  1\n",
       " 2  1  1\n",
       " 4  1  2"
      ]
     },
     "execution_count": 5,
     "metadata": {},
     "output_type": "execute_result"
    }
   ],
   "source": [
    "rand(1:4 , 3 , 3)   ## another matrix\n"
   ]
  },
  {
   "cell_type": "code",
   "execution_count": 7,
   "id": "3d508988-5a88-4793-9486-edb4f4b1e994",
   "metadata": {},
   "outputs": [
    {
     "ename": "LoadError",
     "evalue": "UndefVarError: `Random` not defined",
     "output_type": "error",
     "traceback": [
      "UndefVarError: `Random` not defined",
      "",
      "Stacktrace:",
      " [1] top-level scope",
      "\u001b[90m   @\u001b[39m \u001b[90m\u001b[4mIn[7]:1\u001b[24m\u001b[39m"
     ]
    }
   ],
   "source": [
    "Random.seed!(123) ##  before calling rand to get the same results every time."
   ]
  },
  {
   "cell_type": "code",
   "execution_count": 9,
   "id": "1d5be9a3-39a4-406b-a7e3-1ab88c7193d7",
   "metadata": {},
   "outputs": [
    {
     "data": {
      "text/plain": [
       "1"
      ]
     },
     "execution_count": 9,
     "metadata": {},
     "output_type": "execute_result"
    }
   ],
   "source": [
    "rand(1:4)\t## Single random integer (1, 2, 3, or 4)\tScalar output."
   ]
  },
  {
   "cell_type": "code",
   "execution_count": 11,
   "id": "9ca2df9a-866e-4bb2-9c58-0a74b65418f5",
   "metadata": {},
   "outputs": [
    {
     "data": {
      "text/plain": [
       "5-element Vector{Int64}:\n",
       " 2\n",
       " 1\n",
       " 2\n",
       " 3\n",
       " 1"
      ]
     },
     "execution_count": 11,
     "metadata": {},
     "output_type": "execute_result"
    }
   ],
   "source": [
    "rand(1:4, 5)\t### 5-element Vector{Int64}"
   ]
  },
  {
   "cell_type": "code",
   "execution_count": 13,
   "id": "399f8aa3-27bb-49df-abc5-48e170ea8d86",
   "metadata": {},
   "outputs": [
    {
     "data": {
      "text/plain": [
       "2×3 Matrix{Int64}:\n",
       " 2  4  3\n",
       " 3  4  4"
      ]
     },
     "execution_count": 13,
     "metadata": {},
     "output_type": "execute_result"
    }
   ],
   "source": [
    "rand(1:4, (2, 3))\t### 2×3 Matrix{Int64}"
   ]
  },
  {
   "cell_type": "code",
   "execution_count": 15,
   "id": "548f2de6-022b-4b5c-886f-8b251e3809e2",
   "metadata": {},
   "outputs": [
    {
     "data": {
      "text/plain": [
       "3×3 Matrix{Int64}:\n",
       " 1  2  4\n",
       " 2  4  1\n",
       " 2  4  4"
      ]
     },
     "execution_count": 15,
     "metadata": {},
     "output_type": "execute_result"
    }
   ],
   "source": [
    "A = rand(1:4,3,3)"
   ]
  },
  {
   "cell_type": "code",
   "execution_count": 17,
   "id": "57a977cd-de2f-456d-9846-bb3770e5efb0",
   "metadata": {},
   "outputs": [
    {
     "data": {
      "text/plain": [
       "3×3 Matrix{Int64}:\n",
       " 1  2  4\n",
       " 2  4  1\n",
       " 2  4  4"
      ]
     },
     "execution_count": 17,
     "metadata": {},
     "output_type": "execute_result"
    }
   ],
   "source": [
    "B = A"
   ]
  },
  {
   "cell_type": "code",
   "execution_count": 19,
   "id": "ed163ab7-1fdf-44c7-bf7c-09a628d7d044",
   "metadata": {},
   "outputs": [
    {
     "data": {
      "text/plain": [
       "3×3 Matrix{Int64}:\n",
       " 1  2  4\n",
       " 2  4  1\n",
       " 2  4  4"
      ]
     },
     "execution_count": 19,
     "metadata": {},
     "output_type": "execute_result"
    }
   ],
   "source": [
    "B"
   ]
  },
  {
   "cell_type": "code",
   "execution_count": 21,
   "id": "d4faea33-3b41-4d7d-ace9-5f3742373472",
   "metadata": {},
   "outputs": [
    {
     "data": {
      "text/plain": [
       "3×3 Matrix{Int64}:\n",
       " 1  2  4\n",
       " 2  4  1\n",
       " 2  4  4"
      ]
     },
     "execution_count": 21,
     "metadata": {},
     "output_type": "execute_result"
    }
   ],
   "source": [
    "C = copy(A)"
   ]
  },
  {
   "cell_type": "code",
   "execution_count": 23,
   "id": "33b24ff3-7ce8-4d79-9b62-bebcaf6cc69f",
   "metadata": {},
   "outputs": [
    {
     "data": {
      "text/plain": [
       "3×3 Matrix{Int64}:\n",
       " 1  2  4\n",
       " 2  4  1\n",
       " 2  4  4"
      ]
     },
     "execution_count": 23,
     "metadata": {},
     "output_type": "execute_result"
    }
   ],
   "source": [
    "C"
   ]
  },
  {
   "cell_type": "code",
   "execution_count": 25,
   "id": "6057766f-9a52-4d08-a415-9402ecef5522",
   "metadata": {},
   "outputs": [
    {
     "data": {
      "text/plain": [
       "3×6 Matrix{Int64}:\n",
       " 1  2  4  1  2  4\n",
       " 2  4  1  2  4  1\n",
       " 2  4  4  2  4  4"
      ]
     },
     "execution_count": 25,
     "metadata": {},
     "output_type": "execute_result"
    }
   ],
   "source": [
    "[B C]"
   ]
  },
  {
   "cell_type": "code",
   "execution_count": 27,
   "id": "49bceff6-e637-4edb-85e4-ca5ec7329a4f",
   "metadata": {},
   "outputs": [
    {
     "data": {
      "text/plain": [
       "17"
      ]
     },
     "execution_count": 27,
     "metadata": {},
     "output_type": "execute_result"
    }
   ],
   "source": [
    "A[1] = 17"
   ]
  },
  {
   "cell_type": "code",
   "execution_count": 29,
   "id": "e2b22e8b-2739-4996-a945-e6a66f23a68c",
   "metadata": {},
   "outputs": [
    {
     "data": {
      "text/plain": [
       "3×3 Matrix{Int64}:\n",
       " 17  2  4\n",
       "  2  4  1\n",
       "  2  4  4"
      ]
     },
     "execution_count": 29,
     "metadata": {},
     "output_type": "execute_result"
    }
   ],
   "source": [
    "A"
   ]
  },
  {
   "cell_type": "code",
   "execution_count": 33,
   "id": "757b46b6-d43c-4564-9aeb-d0c0caa38f12",
   "metadata": {},
   "outputs": [
    {
     "data": {
      "text/plain": [
       "3×6 Matrix{Int64}:\n",
       " 17  2  4  1  2  4\n",
       "  2  4  1  2  4  1\n",
       "  2  4  4  2  4  4"
      ]
     },
     "execution_count": 33,
     "metadata": {},
     "output_type": "execute_result"
    }
   ],
   "source": [
    "[B C]"
   ]
  },
  {
   "cell_type": "code",
   "execution_count": 35,
   "id": "d6934ed6-cc27-4420-bfb7-07b4a8a6b63f",
   "metadata": {},
   "outputs": [
    {
     "data": {
      "text/plain": [
       "3-element Vector{Float64}:\n",
       " 1.0\n",
       " 1.0\n",
       " 1.0"
      ]
     },
     "execution_count": 35,
     "metadata": {},
     "output_type": "execute_result"
    }
   ],
   "source": [
    "x=ones(3)"
   ]
  },
  {
   "cell_type": "code",
   "execution_count": 37,
   "id": "117c1636-de85-44ca-bb64-3b4c9cf70c03",
   "metadata": {},
   "outputs": [
    {
     "data": {
      "text/plain": [
       "3-element Vector{Float64}:\n",
       " 23.0\n",
       "  7.0\n",
       " 10.0"
      ]
     },
     "execution_count": 37,
     "metadata": {},
     "output_type": "execute_result"
    }
   ],
   "source": [
    "b = A*x  ###  (3x3)*(3x1)=3x1"
   ]
  },
  {
   "cell_type": "markdown",
   "id": "0a07f844-e49d-4f05-9dc3-354191128f0d",
   "metadata": {},
   "source": [
    "### TRANSPOSITION\n",
    "#### In other languages A' is the conjugate transpose.\n",
    "#### A' is Just TRANSPOSE"
   ]
  },
  {
   "cell_type": "code",
   "execution_count": 40,
   "id": "476ad6b4-2493-4dce-a9b7-ec4154003fee",
   "metadata": {},
   "outputs": [
    {
     "data": {
      "text/plain": [
       "3×3 adjoint(::Matrix{Int64}) with eltype Int64:\n",
       " 17  2  2\n",
       "  2  4  4\n",
       "  4  1  4"
      ]
     },
     "execution_count": 40,
     "metadata": {},
     "output_type": "execute_result"
    }
   ],
   "source": [
    "A'\n"
   ]
  },
  {
   "cell_type": "code",
   "execution_count": 42,
   "id": "bc72dba5-8777-4ee9-88c2-b8a28da74571",
   "metadata": {},
   "outputs": [
    {
     "data": {
      "text/plain": [
       "1×3 adjoint(::Vector{Float64}) with eltype Float64:\n",
       " 23.0  7.0  10.0"
      ]
     },
     "execution_count": 42,
     "metadata": {},
     "output_type": "execute_result"
    }
   ],
   "source": [
    "b'"
   ]
  },
  {
   "cell_type": "code",
   "execution_count": null,
   "id": "f7ea56cc-1ba9-40b2-b53b-f1fd30aa3a53",
   "metadata": {},
   "outputs": [],
   "source": [
    "In Julia, there is no separate \"row vector\" type, but you can work with row-like behavior \n",
    "    using the adjoint operation ('). Here’s what’s happening in your example:\n",
    "\n",
    "1. What is adjoint?\n",
    "The adjoint of a vector (or matrix) is its conjugate transpose:\n",
    "\n",
    "For real numbers (no complex part), adjoint == transpose (turns columns into rows).\n",
    "\n",
    "For complex numbers, it also takes the complex conjugate.\n",
    "\n",
    "Syntax:\n",
    "\n",
    "x' is shorthand for adjoint(x).\n",
    "\n",
    "transpose(x) is similar but does not conjugate (preferred for real numbers)."
   ]
  },
  {
   "cell_type": "code",
   "execution_count": 44,
   "id": "238b9fa6-078f-4a2d-883a-7824de077781",
   "metadata": {},
   "outputs": [
    {
     "data": {
      "text/plain": [
       "3-element Vector{Float64}:\n",
       " 23.0\n",
       "  7.0\n",
       " 10.0"
      ]
     },
     "execution_count": 44,
     "metadata": {},
     "output_type": "execute_result"
    }
   ],
   "source": [
    "transpose(b')"
   ]
  },
  {
   "cell_type": "code",
   "execution_count": 46,
   "id": "9a24018c-eb30-486f-93da-9f3e057f3515",
   "metadata": {},
   "outputs": [
    {
     "data": {
      "text/plain": [
       "3-element Vector{Float64}:\n",
       " 23.0\n",
       "  7.0\n",
       " 10.0"
      ]
     },
     "execution_count": 46,
     "metadata": {},
     "output_type": "execute_result"
    }
   ],
   "source": [
    "b''"
   ]
  },
  {
   "cell_type": "markdown",
   "id": "1bfead32-0fb4-4f20-8822-3beccd35e834",
   "metadata": {},
   "source": [
    "### ✅ 1. Definitions\n",
    "### 🔁 Transpose (transpose(A) or A.')\n",
    "#### Swaps rows and columns.\n",
    "\n",
    "#### Does not conjugate complex numbers.\n",
    "\n",
    "### 🧲 Adjoint / Conjugate Transpose (adjoint(A) or A')\n",
    "#### Swaps rows and columns and takes the complex conjugate of each element.\n",
    "\n"
   ]
  },
  {
   "cell_type": "code",
   "execution_count": 49,
   "id": "5ff58ff2-e8d5-4fde-8caa-b6665b66def8",
   "metadata": {},
   "outputs": [
    {
     "data": {
      "text/plain": [
       "2×2 transpose(::Matrix{Int64}) with eltype Int64:\n",
       " 1  3\n",
       " 2  4"
      ]
     },
     "execution_count": 49,
     "metadata": {},
     "output_type": "execute_result"
    }
   ],
   "source": [
    "\n",
    "### REALS\n",
    "\n",
    "A = [1 2; 3 4]\n",
    "\n",
    "transpose(A)   # or A'\n",
    "\n"
   ]
  },
  {
   "cell_type": "code",
   "execution_count": 51,
   "id": "ec28f8f4-8494-4423-a436-a92f1b32031c",
   "metadata": {},
   "outputs": [
    {
     "data": {
      "text/plain": [
       "2×2 adjoint(::Matrix{Int64}) with eltype Int64:\n",
       " 1  3\n",
       " 2  4"
      ]
     },
     "execution_count": 51,
     "metadata": {},
     "output_type": "execute_result"
    }
   ],
   "source": [
    "adjoint(A)     # or A'\n",
    "# Output: same as above for real numbers\n",
    "# 2×2 Matrix{Int64}:\n",
    "# 1  3\n",
    "# 2  4"
   ]
  },
  {
   "cell_type": "markdown",
   "id": "c0e29e70-949e-4337-80c6-abaa15434d49",
   "metadata": {},
   "source": [
    "### For real numbers (no complex part),\n",
    "### adjoint == transpose (turns columns into rows)."
   ]
  },
  {
   "cell_type": "code",
   "execution_count": 54,
   "id": "d9382819-514a-49b6-bd6d-ae10ea08d732",
   "metadata": {},
   "outputs": [
    {
     "data": {
      "text/plain": [
       "2×2 transpose(::Matrix{Complex{Int64}}) with eltype Complex{Int64}:\n",
       " 1+2im  4+0im\n",
       " 3+0im  5+6im"
      ]
     },
     "execution_count": 54,
     "metadata": {},
     "output_type": "execute_result"
    }
   ],
   "source": [
    "B = [1+2im 3; 4 5+6im]\n",
    "\n",
    "transpose(B)   # or B.'"
   ]
  },
  {
   "cell_type": "code",
   "execution_count": 56,
   "id": "ad5f0290-80a2-4f14-9261-4c71f7694dd3",
   "metadata": {},
   "outputs": [
    {
     "data": {
      "text/plain": [
       "2×2 adjoint(::Matrix{Complex{Int64}}) with eltype Complex{Int64}:\n",
       " 1-2im  4+0im\n",
       " 3+0im  5-6im"
      ]
     },
     "execution_count": 56,
     "metadata": {},
     "output_type": "execute_result"
    }
   ],
   "source": [
    "adjoint(B)"
   ]
  },
  {
   "cell_type": "code",
   "execution_count": 58,
   "id": "8b56ad16-2cc2-4e1a-9e71-c3ee650c93b2",
   "metadata": {},
   "outputs": [
    {
     "data": {
      "text/plain": [
       "2×2 adjoint(::Matrix{Complex{Int64}}) with eltype Complex{Int64}:\n",
       " 1-2im  4+0im\n",
       " 3+0im  5-6im"
      ]
     },
     "execution_count": 58,
     "metadata": {},
     "output_type": "execute_result"
    }
   ],
   "source": [
    "B'"
   ]
  },
  {
   "cell_type": "code",
   "execution_count": 60,
   "id": "fba72a44-b127-405b-9013-15b0e73f863a",
   "metadata": {},
   "outputs": [
    {
     "data": {
      "text/plain": [
       "2×2 adjoint(::Matrix{Int64}) with eltype Int64:\n",
       " 1  3\n",
       " 2  4"
      ]
     },
     "execution_count": 60,
     "metadata": {},
     "output_type": "execute_result"
    }
   ],
   "source": [
    "A'"
   ]
  },
  {
   "cell_type": "markdown",
   "id": "8e06098c-2ee5-4361-8934-75eac866644a",
   "metadata": {},
   "source": [
    "Summary Table\n",
    "Operation\tSyntax\tSwaps Rows & Columns\tConjugates Complex Values\n",
    "Transpose\tA.' or transpose(A)\t✅ Yes\t❌ No\n",
    "Adjoint\t    A'  or adjoint(A)\t✅ Yes\t✅ Yes"
   ]
  },
  {
   "cell_type": "markdown",
   "id": "c2e7db31-274d-4d1b-95db-e2bba6acee3e",
   "metadata": {},
   "source": [
    "### Use Cases\n",
    "A' (adjoint) is used in linear algebra, especially for:\n",
    "\n",
    "Inner products\n",
    "\n",
    "Hermitian matrices (A == A')\n",
    "\n",
    "Unitary matrices (A' * A == I)\n",
    "\n",
    "transpose(A) is used when:\n",
    "\n",
    "You need to manipulate the layout but not conjugate.\n",
    "\n",
    "#### Common Mistake\n",
    "If A has complex entries and you write A' instead of transpose(A), you’ll accidentally conjugate the entries. Always double-check!"
   ]
  },
  {
   "cell_type": "code",
   "execution_count": null,
   "id": "082b8b1d-8da0-4a3c-a1a6-7b414f13ba85",
   "metadata": {},
   "outputs": [],
   "source": [
    "How to Convert to a True Matrix (If Needed)\n",
    "If you explicitly want a 1×3 matrix (not a lazy adjoint):\n",
    "\n",
    "julia\n",
    "julia> row_vec = reshape(x, 1, :)  # 1×3 Matrix\n",
    "1×3 Matrix{Float64}:\n",
    " 23.0  7.0  10.0\n",
    "\n",
    "julia> transpose(x)  # Explicit transpose (no conjugation)\n",
    "1×3 transpose(::Vector{Float64}) with eltype Float64:\n",
    " 23.0  7.0  10.0\n"
   ]
  },
  {
   "cell_type": "markdown",
   "id": "0cb2e800-122d-4286-adb9-8806734a1114",
   "metadata": {},
   "source": [
    "Why Does Julia Use Adjoint Instead of Row Vectors?\n",
    "Performance: Avoids unnecessary memory allocation.\n",
    "\n",
    "Consistency: Handles complex numbers correctly (unlike a naive transpose).\n",
    "\n",
    "Flexibility: Works seamlessly in linear algebra (e.g., A * x' is valid if dimensions match)."
   ]
  },
  {
   "cell_type": "code",
   "execution_count": 69,
   "id": "8ef762db-5dc1-48ea-8e5b-a76faf2fbb90",
   "metadata": {},
   "outputs": [
    {
     "data": {
      "text/plain": [
       "3×3 Matrix{Int64}:\n",
       " 2  0  2\n",
       " 1  1  0\n",
       " 0  1  1"
      ]
     },
     "execution_count": 69,
     "metadata": {},
     "output_type": "execute_result"
    }
   ],
   "source": [
    "A = rand(0:2,3, 3)"
   ]
  },
  {
   "cell_type": "code",
   "execution_count": 67,
   "id": "b30d4081-fc51-4976-b613-f80360d895ce",
   "metadata": {},
   "outputs": [
    {
     "data": {
      "text/plain": [
       "3-element Vector{Int64}:\n",
       " 0\n",
       " 1\n",
       " 1"
      ]
     },
     "execution_count": 67,
     "metadata": {},
     "output_type": "execute_result"
    }
   ],
   "source": [
    "\n",
    "x = rand(0:2,3)"
   ]
  },
  {
   "cell_type": "code",
   "execution_count": null,
   "id": "2a785e12-b669-4659-94d3-89776bce6bc6",
   "metadata": {},
   "outputs": [],
   "source": []
  },
  {
   "cell_type": "code",
   "execution_count": null,
   "id": "cf8f4391-f0c4-4bc7-9a28-cc2a5d4cda33",
   "metadata": {},
   "outputs": [],
   "source": []
  },
  {
   "cell_type": "code",
   "execution_count": 71,
   "id": "d3eabd00-e10a-4998-85cc-4ed584961872",
   "metadata": {},
   "outputs": [
    {
     "data": {
      "text/plain": [
       "3-element Vector{Int64}:\n",
       " 2\n",
       " 1\n",
       " 2"
      ]
     },
     "execution_count": 71,
     "metadata": {},
     "output_type": "execute_result"
    }
   ],
   "source": [
    "A * x"
   ]
  },
  {
   "cell_type": "code",
   "execution_count": 74,
   "id": "aa252f7f-5184-4d59-9887-df8aacd31fe2",
   "metadata": {},
   "outputs": [
    {
     "data": {
      "text/plain": [
       "1×3 adjoint(::Vector{Int64}) with eltype Int64:\n",
       " 1  2  1"
      ]
     },
     "execution_count": 74,
     "metadata": {},
     "output_type": "execute_result"
    }
   ],
   "source": [
    "x'*A"
   ]
  },
  {
   "cell_type": "markdown",
   "id": "f8facd8e-8b43-4cfc-a045-db84395fe7df",
   "metadata": {},
   "source": [
    "### Inner/Outer Products\n",
    "\n",
    "#### dot(x, y) == x' * y  .....        Inner product (scalar)\n",
    "#### x * y'               .....        Outer product (matrix)"
   ]
  },
  {
   "cell_type": "code",
   "execution_count": null,
   "id": "063ac53a-be0a-419b-95b1-281c046fde40",
   "metadata": {},
   "outputs": [],
   "source": [
    " Why No RowVector Type?\n",
    "Julia’s design avoids dedicated row vectors because:\n",
    "\n",
    "Adjoint/Transpose are sufficient for math operations.\n",
    "\n",
    "Reduces type complexity (no need for RowVector + Matrix).\n",
    "\n",
    "Follows the principle: \"Row vectors are just transposed columns.\"\n",
    "\n",
    "Summary\n",
    "x' (adjoint) is Julia’s way of representing row vectors without allocating new memory.\n",
    "\n",
    "It’s a view, not a copy, and behaves like a row in linear algebra.\n",
    "\n",
    "For explicit row matrices, use reshape or transpose.\n",
    "\n",
    "This design balances performance, correctness, and simplicity.\n",
    "\n"
   ]
  },
  {
   "cell_type": "markdown",
   "id": "62ebfd05-0456-40f8-a0f3-2bfad2851368",
   "metadata": {},
   "source": [
    "## Jane"
   ]
  },
  {
   "cell_type": "markdown",
   "id": "442a0b1d-1fc8-4489-9a44-deaccb4d716d",
   "metadata": {},
   "source": [
    "### As in other languages A' is the CONJUGATE TRANSPOSE, \n",
    "### whereas A.' is deprecated => \n",
    "## transpose(A) now"
   ]
  },
  {
   "cell_type": "code",
   "execution_count": 83,
   "id": "73237135-42d9-4323-b762-cb0aea21fc24",
   "metadata": {},
   "outputs": [
    {
     "data": {
      "text/plain": [
       "2×2 Matrix{Complex{Int64}}:\n",
       " 1+2im  3+0im\n",
       " 4+0im  5+6im"
      ]
     },
     "execution_count": 83,
     "metadata": {},
     "output_type": "execute_result"
    }
   ],
   "source": [
    "B = [1+2im 3; 4 5+6im]"
   ]
  },
  {
   "cell_type": "code",
   "execution_count": 91,
   "id": "a0bdd044-ee13-4757-b39f-3df2f4151d4f",
   "metadata": {},
   "outputs": [
    {
     "data": {
      "text/plain": [
       "2×2 adjoint(::Matrix{Complex{Int64}}) with eltype Complex{Int64}:\n",
       " 1-2im  4+0im\n",
       " 3+0im  5-6im"
      ]
     },
     "execution_count": 91,
     "metadata": {},
     "output_type": "execute_result"
    }
   ],
   "source": [
    "B'"
   ]
  },
  {
   "cell_type": "code",
   "execution_count": 87,
   "id": "2373d7ca-5b14-4f2f-bef6-c9ab8c1a411e",
   "metadata": {},
   "outputs": [
    {
     "ename": "LoadError",
     "evalue": "ParseError:\n\u001b[90m# Error @ \u001b[0;0m\u001b]8;;file:///home/pacos/Documents/PROJECTS/Jupyter-Lab/JULIA/GentleJane/In[87]#1:2\u001b\\\u001b[90mIn[87]:1:2\u001b[0;0m\u001b]8;;\u001b\\\nB\u001b[48;2;120;70;70m.'\u001b[0;0m\n\u001b[90m#└┘ ── \u001b[0;0m\u001b[91mthe .' operator for transpose is discontinued\u001b[0;0m",
     "output_type": "error",
     "traceback": [
      "ParseError:\n\u001b[90m# Error @ \u001b[0;0m\u001b]8;;file:///home/pacos/Documents/PROJECTS/Jupyter-Lab/JULIA/GentleJane/In[87]#1:2\u001b\\\u001b[90mIn[87]:1:2\u001b[0;0m\u001b]8;;\u001b\\\nB\u001b[48;2;120;70;70m.'\u001b[0;0m\n\u001b[90m#└┘ ── \u001b[0;0m\u001b[91mthe .' operator for transpose is discontinued\u001b[0;0m",
      "",
      "Stacktrace:",
      " [1] top-level scope",
      "\u001b[90m   @\u001b[39m \u001b[90m\u001b[4mIn[87]:1\u001b[24m\u001b[39m"
     ]
    }
   ],
   "source": [
    "B.'"
   ]
  },
  {
   "cell_type": "code",
   "execution_count": null,
   "id": "d61aacaf-81fc-4780-be3e-d7d05b497a52",
   "metadata": {},
   "outputs": [],
   "source": [
    "In Julia, the .' operator (used for transposing matrices) was deprecated and later removed. Here’s what happened:\n",
    "\n",
    "Old Syntax (Pre-Julia 1.0):\n",
    "\n",
    "A.' was used for non-conjugate (simple) transpose.\n",
    "\n",
    "Example: B = [1 2; 3 4]; B.' would return [1 3; 2 4].\n",
    "\n",
    "New Syntax (Julia 1.0+):\n",
    "\n",
    ".' was replaced with transpose(A) for clarity and consistency.\n",
    "\n",
    "The ' operator (adjoint) is now reserved for conjugate transpose (relevant for complex numbers).\n",
    "\n"
   ]
  },
  {
   "cell_type": "code",
   "execution_count": null,
   "id": "fcd17182-06af-4f45-868d-76841e96c0e7",
   "metadata": {},
   "outputs": [],
   "source": [
    "B_complex = [1+2im 3+4im; 5+6im 7+8im]\n",
    "2×2 Matrix{Complex{Int64}}:\n",
    " 1+2im  3+4im\n",
    " 5+6im  7+8im\n",
    "\n",
    "julia> B_complex'  # Conjugate transpose\n",
    "2×2 adjoint(::Matrix{Complex{Int64}}) with eltype Complex{Int64}:\n",
    " 1-2im  5-6im\n",
    " 3-4im  7-8im\n",
    "\n",
    "julia> transpose(B_complex)  # Just transpose (no conjugation)\n",
    "2×2 transpose(::Matrix{Complex{Int64}}) with eltype Complex{Int64}:\n",
    " 1+2im  5+6im\n",
    " 3+4im  7+8im\n",
    "Key Takeaways\n",
    "Operation\tSyntax\tBehavior\n",
    "Transpose\ttranspose(A)\tSwaps rows and columns (no conjugation).\n",
    "Adjoint\tA'\tConjugate transpose (use for complex).\n",
    "Deprecated\tA.'\tNo longer works (throws ParseError).\n",
    "Why Was .' Removed?\n",
    "Avoid Confusion: .' looked like broadcasting (e.g., A .+ B).\n",
    "\n",
    "Explicitness: transpose(A) is clearer than A.'.\n",
    "\n",
    "Consistency: ' now strictly means conjugate transpose (standard in math).\n",
    "\n",
    "What to Do If You See Legacy Code\n",
    "Replace all instances of A.' with:\n",
    "\n",
    "transpose(A) for simple transposes.\n",
    "\n",
    "A' if conjugate transpose is intended (and the matrix is complex).\n",
    "\n",
    "Example Fix\n",
    "Before (Broken):\n",
    "\n",
    "julia\n",
    "B = [1 2; 3 4]\n",
    "B.'  # Throws ParseError\n",
    "After (Fixed):\n",
    "\n",
    "julia\n",
    "B = [1 2; 3 4]\n",
    "transpose(B)  # Works!\n",
    "Summary\n",
    "Use transpose(A) for non-conjugate transposes.\n",
    "\n",
    "Use A' for conjugate transposes (or real matrices where it doesn’t matter).\n",
    "\n",
    "Never use A.'—it’s discontinued in modern Julia.\n",
    "\n",
    "This change makes Julia’s linear algebra syntax clearer and more consistent! 🚀\n",
    "\n"
   ]
  },
  {
   "cell_type": "markdown",
   "id": "398eed18-a994-42e4-a944-27979d40961b",
   "metadata": {},
   "source": [
    "## Ax = b"
   ]
  },
  {
   "cell_type": "markdown",
   "id": "3efd7ea4-0de9-4c72-b57a-2ee30d98c4f1",
   "metadata": {},
   "source": [
    "In Julia, the linear system \n",
    "\n",
    "Ax=b (where A is a square matrix and \n",
    "\n",
    "b is a vector) can be solved efficiently using built-in functions from \n",
    "#### the standard library or \n",
    "### optimized packages like LinearAlgebra\n",
    "#### Using the Backslash Operator \\ operator, which dispatches to the best solver based on A's properties."
   ]
  },
  {
   "cell_type": "code",
   "execution_count": 100,
   "id": "c83bf156-f2f3-454b-8b9b-cb8c68697cd7",
   "metadata": {},
   "outputs": [
    {
     "data": {
      "text/plain": [
       "2-element Vector{Float64}:\n",
       " -3.9999999999999987\n",
       "  4.499999999999999"
      ]
     },
     "execution_count": 100,
     "metadata": {},
     "output_type": "execute_result"
    }
   ],
   "source": [
    "using LinearAlgebra\n",
    "\n",
    "# Define A (square matrix) and b (vector)\n",
    "A = [1 2; 3 4]  # 2×2 matrix\n",
    "b = [5, 6]      # 2-element vector\n",
    "\n",
    "# Solve for x\n",
    "x = A \\ b"
   ]
  },
  {
   "cell_type": "code",
   "execution_count": 104,
   "id": "339224d7-f582-4aba-8e06-62de5c75c570",
   "metadata": {},
   "outputs": [
    {
     "data": {
      "text/plain": [
       "2-element Vector{Float64}:\n",
       " 5.0\n",
       " 6.0"
      ]
     },
     "execution_count": 104,
     "metadata": {},
     "output_type": "execute_result"
    }
   ],
   "source": [
    "### verification \n",
    "A*x"
   ]
  },
  {
   "cell_type": "markdown",
   "id": "c30c7d04-73fe-4e3f-9b24-f87e25949888",
   "metadata": {},
   "source": [
    "####  Meaning of A[:, 1:2]\n",
    ": (colon) selects all rows.\n",
    "\n",
    "1:2 selects columns 1 to 2 (inclusive).\n",
    "\n",
    "Result: A new matrix containing \n",
    "##### all rows but only columns 1 and 2 of A\n",
    "#### Atall = A[: , 1:2]"
   ]
  },
  {
   "cell_type": "code",
   "execution_count": 108,
   "id": "c801aa54-b05b-4059-b6f1-d51d0505754a",
   "metadata": {},
   "outputs": [
    {
     "data": {
      "text/plain": [
       "3×3 Matrix{Int64}:\n",
       " 1  2  3\n",
       " 4  5  6\n",
       " 7  8  9"
      ]
     },
     "execution_count": 108,
     "metadata": {},
     "output_type": "execute_result"
    }
   ],
   "source": [
    "A = [1 2 3; 4 5 6; 7 8 9]  # 3×3 matrix\n"
   ]
  },
  {
   "cell_type": "code",
   "execution_count": 110,
   "id": "92fa2910-50f4-42cd-8342-fbb97d34bc1a",
   "metadata": {},
   "outputs": [
    {
     "data": {
      "text/plain": [
       "3×2 Matrix{Int64}:\n",
       " 1  2\n",
       " 4  5\n",
       " 7  8"
      ]
     },
     "execution_count": 110,
     "metadata": {},
     "output_type": "execute_result"
    }
   ],
   "source": [
    "A[:, 1:2]  # All rows, columns 1-2\n"
   ]
  },
  {
   "cell_type": "raw",
   "id": "8aeb3a93-cfd4-4db8-a3e7-4e0f6190bbdc",
   "metadata": {},
   "source": [
    "Variations\n",
    "Code\tDescription\tOutput Shape\n",
    "A[:, 2]\tAll rows, only column 2\t(3,) (vector)\n",
    "A[2:3, :]\tRows 2-3, all columns\t2×3 matrix\n",
    "A[[1,3], 1:2]\tRows 1 and 3, columns 1-2\t2×2 matrix\n"
   ]
  },
  {
   "cell_type": "code",
   "execution_count": 112,
   "id": "5b21159c-71a5-4398-a3b1-0118b9156998",
   "metadata": {},
   "outputs": [
    {
     "data": {
      "text/plain": [
       "3-element Vector{Int64}:\n",
       " 2\n",
       " 5\n",
       " 8"
      ]
     },
     "execution_count": 112,
     "metadata": {},
     "output_type": "execute_result"
    }
   ],
   "source": [
    "A[:, 2]   # All rows, only column 2"
   ]
  },
  {
   "cell_type": "code",
   "execution_count": 114,
   "id": "f68512df-fa7e-42b9-8402-7999a9a9ee08",
   "metadata": {},
   "outputs": [
    {
     "data": {
      "text/plain": [
       "2×3 Matrix{Int64}:\n",
       " 4  5  6\n",
       " 7  8  9"
      ]
     },
     "execution_count": 114,
     "metadata": {},
     "output_type": "execute_result"
    }
   ],
   "source": [
    "A[2:3, :]\t# Rows 2-3, all columns\t2×3 matrix"
   ]
  },
  {
   "cell_type": "code",
   "execution_count": 116,
   "id": "b31733bf-cec2-44d6-b6ae-89f3c13a029c",
   "metadata": {},
   "outputs": [
    {
     "data": {
      "text/plain": [
       "2×2 Matrix{Int64}:\n",
       " 1  2\n",
       " 7  8"
      ]
     },
     "execution_count": 116,
     "metadata": {},
     "output_type": "execute_result"
    }
   ],
   "source": [
    "A[[1,3], 1:2]\t# Rows 1 and 3, columns 1-2\t2×2 matrix"
   ]
  },
  {
   "cell_type": "code",
   "execution_count": 142,
   "id": "65605ad1-515a-425d-9619-ac4c7997c936",
   "metadata": {},
   "outputs": [
    {
     "data": {
      "text/plain": [
       "3×3 Matrix{Int64}:\n",
       " 1  2  3\n",
       " 4  5  6\n",
       " 7  8  9"
      ]
     },
     "execution_count": 142,
     "metadata": {},
     "output_type": "execute_result"
    }
   ],
   "source": [
    "## RAPPEL\n",
    "A = [i + 3*j for j in 0:2 , i in 1:3]"
   ]
  },
  {
   "cell_type": "code",
   "execution_count": 144,
   "id": "21ec598d-f6f1-4c53-a016-b3211d958771",
   "metadata": {},
   "outputs": [
    {
     "ename": "LoadError",
     "evalue": "ParseError:\n\u001b[90m# Error @ \u001b[0;0m\u001b]8;;file:///home/pacos/Documents/PROJECTS/Jupyter-Lab/JULIA/GentleJane/In[144]#1:19\u001b\\\u001b[90mIn[144]:1:19\u001b[0;0m\u001b]8;;\u001b\\\nA = [i + 3*j for j\u001b[48;2;120;70;70m i = 0:2\u001b[0;0m , i i = 1:3]\n\u001b[90m#                 └──────┘ ── \u001b[0;0m\u001b[91minvalid iteration spec: expected one of `=` `in` or `∈`\u001b[0;0m",
     "output_type": "error",
     "traceback": [
      "ParseError:\n\u001b[90m# Error @ \u001b[0;0m\u001b]8;;file:///home/pacos/Documents/PROJECTS/Jupyter-Lab/JULIA/GentleJane/In[144]#1:19\u001b\\\u001b[90mIn[144]:1:19\u001b[0;0m\u001b]8;;\u001b\\\nA = [i + 3*j for j\u001b[48;2;120;70;70m i = 0:2\u001b[0;0m , i i = 1:3]\n\u001b[90m#                 └──────┘ ── \u001b[0;0m\u001b[91minvalid iteration spec: expected one of `=` `in` or `∈`\u001b[0;0m",
      "",
      "Stacktrace:",
      " [1] top-level scope",
      "\u001b[90m   @\u001b[39m \u001b[90m\u001b[4mIn[144]:1\u001b[24m\u001b[39m"
     ]
    }
   ],
   "source": [
    "A = [i + 3*j for j i = 0:2 , i i = 1:3]"
   ]
  },
  {
   "cell_type": "code",
   "execution_count": 146,
   "id": "22cc8e12-35b3-434c-a3f6-7acdb17ed738",
   "metadata": {},
   "outputs": [
    {
     "data": {
      "text/plain": [
       "1:4"
      ]
     },
     "execution_count": 146,
     "metadata": {},
     "output_type": "execute_result"
    }
   ],
   "source": [
    "n=1:4"
   ]
  },
  {
   "cell_type": "code",
   "execution_count": 148,
   "id": "105201bc-c689-451c-a0cd-1f2aeee8e3c1",
   "metadata": {},
   "outputs": [
    {
     "data": {
      "text/plain": [
       "false"
      ]
     },
     "execution_count": 148,
     "metadata": {},
     "output_type": "execute_result"
    }
   ],
   "source": [
    "n in 1:4"
   ]
  },
  {
   "cell_type": "code",
   "execution_count": 150,
   "id": "dfb0367f-cf56-4bc2-ab18-93357a69fa52",
   "metadata": {},
   "outputs": [
    {
     "data": {
      "text/plain": [
       "1:4"
      ]
     },
     "execution_count": 150,
     "metadata": {},
     "output_type": "execute_result"
    }
   ],
   "source": [
    "n\n"
   ]
  },
  {
   "cell_type": "code",
   "execution_count": 152,
   "id": "3db182ae-1d67-483b-b92d-afd0807a4b26",
   "metadata": {},
   "outputs": [
    {
     "data": {
      "text/plain": [
       "1:3"
      ]
     },
     "execution_count": 152,
     "metadata": {},
     "output_type": "execute_result"
    }
   ],
   "source": [
    "z=1:3"
   ]
  },
  {
   "cell_type": "markdown",
   "id": "3caeea43-9ab1-4e26-b040-5c42e09a9012",
   "metadata": {},
   "source": [
    "### Factorization"
   ]
  },
  {
   "cell_type": "markdown",
   "id": "1a7ed491-3cf6-4829-ae5b-edbb8dbd5715",
   "metadata": {},
   "source": [
    "#### Factorization is a fundamental operation in linear algebra that decomposes a matrix into a \n",
    "#### product of matrices. \n",
    "### LU Factorization.....από το Lower & Upper                   \n",
    "#### LU factorization decomposes a matrix into a lower triangular matrix (L) and an upper triangular matrix"
   ]
  },
  {
   "cell_type": "code",
   "execution_count": null,
   "id": "1b3e3062-3e1b-49b7-b8d4-cbb58782ea6a",
   "metadata": {},
   "outputs": [],
   "source": []
  },
  {
   "cell_type": "code",
   "execution_count": 157,
   "id": "e5f5eb84-da96-44af-9ffd-29d5a3734e38",
   "metadata": {},
   "outputs": [
    {
     "data": {
      "text/plain": [
       "LU{Float64, Matrix{Float64}, Vector{Int64}}\n",
       "L factor:\n",
       "2×2 Matrix{Float64}:\n",
       " 1.0       0.0\n",
       " 0.666667  1.0\n",
       "U factor:\n",
       "2×2 Matrix{Float64}:\n",
       " 6.0  3.0\n",
       " 0.0  1.0"
      ]
     },
     "execution_count": 157,
     "metadata": {},
     "output_type": "execute_result"
    }
   ],
   "source": [
    "using LinearAlgebra\n",
    "A = [4.0 3.0; 6.0 3.0]\n",
    "lu_fact = lu(A)  # LU factorization"
   ]
  },
  {
   "cell_type": "code",
   "execution_count": 159,
   "id": "09adc3f6-1576-4159-bcc2-24925aadc9e9",
   "metadata": {},
   "outputs": [
    {
     "data": {
      "text/plain": [
       "2×2 Matrix{Float64}:\n",
       " 1.0       0.0\n",
       " 0.666667  1.0"
      ]
     },
     "execution_count": 159,
     "metadata": {},
     "output_type": "execute_result"
    }
   ],
   "source": [
    "L = lu_fact.L"
   ]
  },
  {
   "cell_type": "code",
   "execution_count": 161,
   "id": "576f1439-e970-4f5f-9840-56926b74426a",
   "metadata": {},
   "outputs": [
    {
     "data": {
      "text/plain": [
       "2×2 Matrix{Float64}:\n",
       " 6.0  3.0\n",
       " 0.0  1.0"
      ]
     },
     "execution_count": 161,
     "metadata": {},
     "output_type": "execute_result"
    }
   ],
   "source": [
    "U = lu_fact.U"
   ]
  },
  {
   "cell_type": "markdown",
   "id": "3745c0d0-d855-4f78-9a2c-037e8dffe6fa",
   "metadata": {},
   "source": [
    "### QR Factorization\n",
    "#### QR factorization decomposes a matrix into an orthogonal matrix (Q) and an upper triangular matrix (R)."
   ]
  },
  {
   "cell_type": "code",
   "execution_count": 167,
   "id": "d64b644b-c9de-4897-b717-45120d8883b3",
   "metadata": {},
   "outputs": [
    {
     "data": {
      "text/plain": [
       "3×2 Matrix{Float64}:\n",
       " 1.0  2.0\n",
       " 3.0  4.0\n",
       " 5.0  6.0"
      ]
     },
     "execution_count": 167,
     "metadata": {},
     "output_type": "execute_result"
    }
   ],
   "source": [
    "A = [1.0 2.0; 3.0 4.0; 5.0 6.0]\n"
   ]
  },
  {
   "cell_type": "code",
   "execution_count": 169,
   "id": "ec16f769-a900-44e4-b79c-3c3341c501b4",
   "metadata": {},
   "outputs": [
    {
     "data": {
      "text/plain": [
       "LinearAlgebra.QRCompactWY{Float64, Matrix{Float64}, Matrix{Float64}}\n",
       "Q factor: 3×3 LinearAlgebra.QRCompactWYQ{Float64, Matrix{Float64}, Matrix{Float64}}\n",
       "R factor:\n",
       "2×2 Matrix{Float64}:\n",
       " -5.91608  -7.43736\n",
       "  0.0       0.828079"
      ]
     },
     "execution_count": 169,
     "metadata": {},
     "output_type": "execute_result"
    }
   ],
   "source": [
    "qr_fact = qr(A)  # QR factorization"
   ]
  },
  {
   "cell_type": "code",
   "execution_count": 173,
   "id": "6880fc63-fe02-49f9-a247-703239cfcf7e",
   "metadata": {},
   "outputs": [
    {
     "data": {
      "text/plain": [
       "LinearAlgebra.QRCompactWY{Float64, Matrix{Float64}, Matrix{Float64}}\n",
       "Q factor: 3×3 LinearAlgebra.QRCompactWYQ{Float64, Matrix{Float64}, Matrix{Float64}}\n",
       "R factor:\n",
       "2×2 Matrix{Float64}:\n",
       " -5.91608  -7.43736\n",
       "  0.0       0.828079"
      ]
     },
     "execution_count": 173,
     "metadata": {},
     "output_type": "execute_result"
    }
   ],
   "source": [
    "Q = qr_fact\n"
   ]
  },
  {
   "cell_type": "code",
   "execution_count": 175,
   "id": "f364074c-b386-41db-aec5-e823e1866127",
   "metadata": {},
   "outputs": [
    {
     "data": {
      "text/plain": [
       "2×2 Matrix{Float64}:\n",
       " -5.91608  -7.43736\n",
       "  0.0       0.828079"
      ]
     },
     "execution_count": 175,
     "metadata": {},
     "output_type": "execute_result"
    }
   ],
   "source": [
    "R = qr_fact.R"
   ]
  },
  {
   "cell_type": "code",
   "execution_count": null,
   "id": "14ef9fea-75bc-4a3e-add0-397cb81c6ae5",
   "metadata": {},
   "outputs": [],
   "source": []
  },
  {
   "cell_type": "code",
   "execution_count": null,
   "id": "9f89847c-bb73-4523-ac45-33f5aa81531d",
   "metadata": {},
   "outputs": [],
   "source": []
  }
 ],
 "metadata": {
  "kernelspec": {
   "display_name": "Julia 1.10.9",
   "language": "julia",
   "name": "julia-1.10"
  },
  "language_info": {
   "file_extension": ".jl",
   "mimetype": "application/julia",
   "name": "julia",
   "version": "1.10.9"
  }
 },
 "nbformat": 4,
 "nbformat_minor": 5
}
