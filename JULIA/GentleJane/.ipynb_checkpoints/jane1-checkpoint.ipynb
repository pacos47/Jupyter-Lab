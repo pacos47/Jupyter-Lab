{
 "cells": [
  {
   "cell_type": "markdown",
   "id": "bd7f884d-e66d-41d1-922c-6a59f2dee86f",
   "metadata": {},
   "source": [
    "##### multiple line comments : #=............=#"
   ]
  },
  {
   "cell_type": "code",
   "execution_count": 2,
   "id": "82b778a9-23d1-48dc-9453-019a64c1d59d",
   "metadata": {},
   "outputs": [
    {
     "data": {
      "text/plain": [
       "1"
      ]
     },
     "execution_count": 2,
     "metadata": {},
     "output_type": "execute_result"
    }
   ],
   "source": [
    "modulus=101%10                 #.....%"
   ]
  },
  {
   "cell_type": "code",
   "execution_count": 4,
   "id": "2b7b1bf1-f167-4a6e-a33d-bf02e436ce4c",
   "metadata": {},
   "outputs": [
    {
     "data": {
      "text/plain": [
       "\"I am s string\""
      ]
     },
     "execution_count": 4,
     "metadata": {},
     "output_type": "execute_result"
    }
   ],
   "source": [
    "s1 = \"I am s string\""
   ]
  },
  {
   "cell_type": "code",
   "execution_count": 6,
   "id": "f0ca9c41-40a3-436c-a6a9-863159e12ed8",
   "metadata": {},
   "outputs": [
    {
     "data": {
      "text/plain": [
       "\"I am also a string !!!\""
      ]
     },
     "execution_count": 6,
     "metadata": {},
     "output_type": "execute_result"
    }
   ],
   "source": [
    "s2 = \"\"\"I am also a string !!!\"\"\""
   ]
  },
  {
   "cell_type": "markdown",
   "id": "92a2bf4c-68f3-43e9-8c06-655556f6a705",
   "metadata": {},
   "source": [
    "#### Why??   \"\"\"\"\"\""
   ]
  },
  {
   "cell_type": "code",
   "execution_count": 9,
   "id": "e899b693-f720-464b-ada4-b997b03015cd",
   "metadata": {},
   "outputs": [
    {
     "ename": "LoadError",
     "evalue": "ParseError:\n\u001b[90m# Error @ \u001b[0;0m\u001b]8;;file:///home/pacos/Documents/PROJECTS/Jupyter-Lab/JULIA/GentleJane/In[9]#1:24\u001b\\\u001b[90mIn[9]:1:24\u001b[0;0m\u001b]8;;\u001b\\\nS3 = \" Here we get an \"\u001b[48;2;120;70;70m\u001b[0;0merror\" because its ambiquous here the string starts.....\"\n\u001b[90m#                      └ ── \u001b[0;0m\u001b[91mcannot juxtapose string literal\u001b[0;0m",
     "output_type": "error",
     "traceback": [
      "ParseError:\n\u001b[90m# Error @ \u001b[0;0m\u001b]8;;file:///home/pacos/Documents/PROJECTS/Jupyter-Lab/JULIA/GentleJane/In[9]#1:24\u001b\\\u001b[90mIn[9]:1:24\u001b[0;0m\u001b]8;;\u001b\\\nS3 = \" Here we get an \"\u001b[48;2;120;70;70m\u001b[0;0merror\" because its ambiquous here the string starts.....\"\n\u001b[90m#                      └ ── \u001b[0;0m\u001b[91mcannot juxtapose string literal\u001b[0;0m",
      "",
      "Stacktrace:",
      " [1] top-level scope",
      "\u001b[90m   @\u001b[39m \u001b[90m\u001b[4mIn[9]:1\u001b[24m\u001b[39m"
     ]
    }
   ],
   "source": [
    "S3 = \" Here we get an \"error\" because its ambiquous here the string starts.....\""
   ]
  },
  {
   "cell_type": "code",
   "execution_count": 13,
   "id": "f631389a-b305-4343-9d35-f571bd4ee7e9",
   "metadata": {},
   "outputs": [
    {
     "data": {
      "text/plain": [
       "\"Look mom there are no \\\"errors\\\"...\""
      ]
     },
     "execution_count": 13,
     "metadata": {},
     "output_type": "execute_result"
    }
   ],
   "source": [
    "s4 = \"\"\"Look mom there are no \"errors\"...\"\"\""
   ]
  },
  {
   "cell_type": "markdown",
   "id": "022f3c4b-e07e-4622-9290-ddcc4e7f096e",
   "metadata": {},
   "source": [
    "#### '' defines a character not a string"
   ]
  },
  {
   "cell_type": "code",
   "execution_count": 17,
   "id": "f59101da-3d5d-464a-a54d-05417781b298",
   "metadata": {},
   "outputs": [
    {
     "data": {
      "text/plain": [
       "'b': ASCII/Unicode U+0062 (category Ll: Letter, lowercase)"
      ]
     },
     "execution_count": 17,
     "metadata": {},
     "output_type": "execute_result"
    }
   ],
   "source": [
    "'b'\n"
   ]
  },
  {
   "cell_type": "markdown",
   "id": "6d36a57e-1b8f-4e1c-ac86-e8016f52d47c",
   "metadata": {},
   "source": [
    "### Srting Interpolation "
   ]
  },
  {
   "cell_type": "code",
   "execution_count": 21,
   "id": "2f211302-cdf8-4cc7-8dda-1a542d002869",
   "metadata": {},
   "outputs": [
    {
     "data": {
      "text/plain": [
       "10"
      ]
     },
     "execution_count": 21,
     "metadata": {},
     "output_type": "execute_result"
    }
   ],
   "source": [
    "name = \"Jane\"\n",
    "num_fingers = 10\n",
    "num_toes = 10"
   ]
  },
  {
   "cell_type": "code",
   "execution_count": 27,
   "id": "b0f8d6f7-245a-4116-9251-5fbfbb3da49b",
   "metadata": {},
   "outputs": [
    {
     "name": "stdout",
     "output_type": "stream",
     "text": [
      "My name is Jane\n",
      "I have 10 fingers, 10 toes, total 20 digits in all!\n"
     ]
    }
   ],
   "source": [
    "println(\"My name is $name\")\n",
    "println(\"I have $num_fingers fingers, $num_toes toes, total $(num_fingers+num_toes) digits in all!\")"
   ]
  },
  {
   "cell_type": "markdown",
   "id": "c6ef1636-3965-486c-9af8-6521a598f17c",
   "metadata": {},
   "source": []
  }
 ],
 "metadata": {
  "kernelspec": {
   "display_name": "Julia 1.10.9",
   "language": "julia",
   "name": "julia-1.10"
  },
  "language_info": {
   "file_extension": ".jl",
   "mimetype": "application/julia",
   "name": "julia",
   "version": "1.10.9"
  }
 },
 "nbformat": 4,
 "nbformat_minor": 5
}
