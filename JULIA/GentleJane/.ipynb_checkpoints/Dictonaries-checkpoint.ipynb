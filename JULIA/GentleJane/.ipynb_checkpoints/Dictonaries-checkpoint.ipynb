{
 "cells": [
  {
   "cell_type": "code",
   "execution_count": null,
   "id": "f96f1d7f-0e64-4456-a422-30689e76505a",
   "metadata": {},
   "outputs": [],
   "source": []
  },
  {
   "cell_type": "markdown",
   "id": "b8bdad74-34a4-4cef-845b-1b585e36c31d",
   "metadata": {},
   "source": [
    "#### DICTIONARIES"
   ]
  },
  {
   "cell_type": "markdown",
   "id": "1f868a58-bbf2-44da-9f01-4da7ef2e2092",
   "metadata": {},
   "source": [
    "#### Basic Dictionary in Julia\n",
    "\n",
    "my_dict = Dict(\"name\" => \"Paraskevas\", \"age\" => 35, \"city\" => \"Athens\")\n",
    "Dict is the type.\n",
    "\n",
    "\"name\" => \"Paraskevas\" creates a key-value pair."
   ]
  },
  {
   "cell_type": "code",
   "execution_count": 71,
   "id": "3f648f6a-4a7f-45f8-8e32-a6c13176cc24",
   "metadata": {
    "jupyter": {
     "source_hidden": true
    }
   },
   "outputs": [
    {
     "data": {
      "text/plain": [
       "Dict{String, Any} with 3 entries:\n",
       "  \"name\" => \"Paraskevas\"\n",
       "  \"city\" => \"Athens\"\n",
       "  \"age\"  => 35"
      ]
     },
     "execution_count": 71,
     "metadata": {},
     "output_type": "execute_result"
    }
   ],
   "source": [
    "my_dict = Dict(\"name\" => \"Paraskevas\", \"age\" => 35, \"city\" => \"Athens\")\n"
   ]
  },
  {
   "cell_type": "markdown",
   "id": "083c813b-292f-4d41-9b7a-fe92b319ff37",
   "metadata": {},
   "source": [
    "#### In Julia, Dict{String, Any} means:\n",
    "\n",
    "A dictionary where the keys are String type and the values can be of any type.\n",
    "\n",
    "#### Dict{K, V} is the general form of a typed dictionary:\n",
    "\n",
    "K = type of keys\n",
    "\n",
    "V = type of values"
   ]
  },
  {
   "cell_type": "code",
   "execution_count": 76,
   "id": "23470d5c-0df7-4a52-9716-1a5594c11978",
   "metadata": {},
   "outputs": [
    {
     "data": {
      "text/plain": [
       "3-element Vector{Float64}:\n",
       "  8.5\n",
       "  9.0\n",
       " 10.0"
      ]
     },
     "execution_count": 76,
     "metadata": {},
     "output_type": "execute_result"
    }
   ],
   "source": [
    "# EXAMPLE\n",
    "d = Dict{String, Any}()\n",
    "d[\"name\"] = \"Paraskevas\"      # String\n",
    "d[\"age\"] = 35                 # Int\n",
    "d[\"grades\"] = [8.5, 9.0, 10]  # Array{Float64}\n",
    "\n",
    "## another way to define and populate a dictionary"
   ]
  },
  {
   "cell_type": "markdown",
   "id": "9afd7002-ad91-41c4-8d05-659354293293",
   "metadata": {},
   "source": [
    "#### List Dictionary content\n",
    "##### using for"
   ]
  },
  {
   "cell_type": "code",
   "execution_count": 78,
   "id": "8be12a30-708b-4ff2-93a0-8a4c9f094982",
   "metadata": {},
   "outputs": [
    {
     "name": "stdout",
     "output_type": "stream",
     "text": [
      "name => Paraskevas\n",
      "city => Athens\n",
      "age => 35\n"
     ]
    }
   ],
   "source": [
    "for (key, value) in my_dict\n",
    "    println(\"$key => $value\")\n",
    "end"
   ]
  },
  {
   "cell_type": "code",
   "execution_count": null,
   "id": "06558d10-1044-4b2c-b18b-6cda7e26151f",
   "metadata": {},
   "outputs": [],
   "source": []
  }
 ],
 "metadata": {
  "kernelspec": {
   "display_name": "Julia 1.10.9",
   "language": "julia",
   "name": "julia-1.10"
  },
  "language_info": {
   "file_extension": ".jl",
   "mimetype": "application/julia",
   "name": "julia",
   "version": "1.10.9"
  }
 },
 "nbformat": 4,
 "nbformat_minor": 5
}
