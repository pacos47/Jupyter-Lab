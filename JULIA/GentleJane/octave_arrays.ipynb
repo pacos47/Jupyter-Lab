{
 "cells": [
  {
   "cell_type": "markdown",
   "id": "674424ab-d723-403d-828f-35658ee0e15e",
   "metadata": {},
   "source": [
    "linespcace"
   ]
  },
  {
   "cell_type": "code",
   "execution_count": 3,
   "id": "b38aff68-16c9-49ed-a492-392c2bc6f403",
   "metadata": {},
   "outputs": [
    {
     "name": "stdout",
     "output_type": "stream",
     "text": [
      "ans =\n",
      "\n",
      "   1   2   3   4   5\n",
      "\n"
     ]
    }
   ],
   "source": [
    "linspace(1, 5, 5)"
   ]
  },
  {
   "cell_type": "code",
   "execution_count": 5,
   "id": "758f57a0-488d-438c-b4d6-7b01c554721c",
   "metadata": {},
   "outputs": [
    {
     "name": "stdout",
     "output_type": "stream",
     "text": [
      "ans =\n",
      "\n",
      "   2.0000   2.1429   2.2857   2.4286   2.5714   2.7143   2.8571   3.0000\n",
      "\n"
     ]
    }
   ],
   "source": [
    "linspace(2,3,8)"
   ]
  },
  {
   "cell_type": "raw",
   "id": "1fab82da-7f05-4bc9-9c73-3090a0c40c00",
   "metadata": {},
   "source": []
  },
  {
   "cell_type": "code",
   "execution_count": 7,
   "id": "8e46d319-94fd-4136-83c4-d6a0c6cb4e00",
   "metadata": {
    "collapsed": true,
    "jupyter": {
     "outputs_hidden": true,
     "source_hidden": true
    }
   },
   "outputs": [
    {
     "name": "stdout",
     "output_type": "stream",
     "text": [
      "error: Invalid call to range.  Correct usage is:\n",
      "\n",
      " -- range (X)\n",
      " -- range (X, DIM)\n",
      "\n",
      "Additional help for built-in functions and operators is\n",
      "available in the online version of the manual.  Use the command\n",
      "'doc <topic>' to search the manual index.\n",
      "\n",
      "Help and information about Octave is also available on the WWW\n",
      "at https://www.octave.org and via the help@octave.org\n",
      "mailing list.\n"
     ]
    }
   ],
   "source": []
  },
  {
   "cell_type": "code",
   "execution_count": 10,
   "id": "f90619e3-cf92-4281-8a36-c17433d94853",
   "metadata": {},
   "outputs": [
    {
     "name": "stdout",
     "output_type": "stream",
     "text": [
      "ans =\n",
      "\n",
      "Diagonal Matrix\n",
      "\n",
      "   1   0   0\n",
      "   0   1   0\n",
      "   0   0   1\n",
      "\n"
     ]
    }
   ],
   "source": [
    "eye(3)"
   ]
  },
  {
   "cell_type": "raw",
   "id": "3210a0a2-8ae8-45b3-aeb2-242647d25357",
   "metadata": {},
   "source": [
    "6. Modifying Arrays\n",
    "📌 Julia\n",
    "\n",
    "a = [1, 2, 3]\n",
    "push!(a, 4)         # [1, 2, 3, 4]\n",
    "pop!(a)             # [1, 2, 3]\n",
    "append!(a, [5, 6])  # [1, 2, 3, 5, 6]\n",
    "📌 Octave\n",
    "\n",
    "a = [1, 2, 3];\n",
    "a(end+1) = 4;       % [1, 2, 3, 4]\n",
    "a(end) = [];        % remove last element\n",
    "a = [a, 5, 6];      % append\n",
    "Operation\tJulia\tOctave\n",
    "Push / Append\tpush!, append!\tend+1 assignment\n",
    "Remove last\tpop!\ta(end) = []\n"
   ]
  }
 ],
 "metadata": {
  "kernelspec": {
   "display_name": "Octave",
   "language": "octave",
   "name": "octave"
  },
  "language_info": {
   "file_extension": ".m",
   "help_links": [
    {
     "text": "GNU Octave",
     "url": "https://www.gnu.org/software/octave/support.html"
    },
    {
     "text": "Octave Kernel",
     "url": "https://github.com/Calysto/octave_kernel"
    },
    {
     "text": "MetaKernel Magics",
     "url": "https://metakernel.readthedocs.io/en/latest/source/README.html"
    }
   ],
   "mimetype": "text/x-octave",
   "name": "octave",
   "version": "6.4.0"
  }
 },
 "nbformat": 4,
 "nbformat_minor": 5
}
