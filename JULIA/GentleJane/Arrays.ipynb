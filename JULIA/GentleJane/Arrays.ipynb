{
 "cells": [
  {
   "cell_type": "markdown",
   "id": "56d7b090-a26e-4be4-9fb1-b3895e5c7dbc",
   "metadata": {},
   "source": [
    "### ARRAYS"
   ]
  },
  {
   "cell_type": "markdown",
   "id": "c1a6b14d-f6e0-4cbc-a3eb-fdaeb0741b8f",
   "metadata": {},
   "source": [
    "##### Arrays are 1-based and column-major (like Octave and MATLAB)"
   ]
  },
  {
   "cell_type": "code",
   "execution_count": 39,
   "id": "50d9852e-3144-4835-be61-63511e7cecea",
   "metadata": {},
   "outputs": [
    {
     "data": {
      "text/plain": [
       "3-element Vector{Int64}:\n",
       " 1\n",
       " 2\n",
       " 3"
      ]
     },
     "execution_count": 39,
     "metadata": {},
     "output_type": "execute_result"
    }
   ],
   "source": [
    "a = [1, 2, 3]              # 1D row vector\n"
   ]
  },
  {
   "cell_type": "code",
   "execution_count": 41,
   "id": "ad3ee48e-5c5b-4e42-abb3-05605d8c2f3e",
   "metadata": {},
   "outputs": [
    {
     "data": {
      "text/plain": [
       "3-element Vector{Int64}:\n",
       " 1\n",
       " 2\n",
       " 3"
      ]
     },
     "execution_count": 41,
     "metadata": {},
     "output_type": "execute_result"
    }
   ],
   "source": [
    "b = [1; 2; 3]              # 1D column vector"
   ]
  },
  {
   "cell_type": "code",
   "execution_count": 47,
   "id": "bedd1b4f-43a3-4396-9663-d085b618c15e",
   "metadata": {},
   "outputs": [
    {
     "data": {
      "text/plain": [
       "true"
      ]
     },
     "execution_count": 47,
     "metadata": {},
     "output_type": "execute_result"
    }
   ],
   "source": [
    "a==b"
   ]
  },
  {
   "cell_type": "code",
   "execution_count": 45,
   "id": "99c2b03a-ea28-4a14-83e1-f3024711adbc",
   "metadata": {},
   "outputs": [
    {
     "data": {
      "text/plain": [
       "2×2 Matrix{Int64}:\n",
       " 1  2\n",
       " 3  4"
      ]
     },
     "execution_count": 45,
     "metadata": {},
     "output_type": "execute_result"
    }
   ],
   "source": [
    "c = [1 2; 3 4]             # 2x2 matrix"
   ]
  },
  {
   "cell_type": "code",
   "execution_count": 5,
   "id": "6a9f9868-cfb5-424f-aa51-af6a5f5bf03f",
   "metadata": {},
   "outputs": [
    {
     "data": {
      "text/plain": [
       "1"
      ]
     },
     "execution_count": 5,
     "metadata": {},
     "output_type": "execute_result"
    }
   ],
   "source": [
    "a[1]      #indexing from 1"
   ]
  },
  {
   "cell_type": "code",
   "execution_count": 49,
   "id": "cdc9fbe7-a6ca-4b74-8a67-680fd2b83b6c",
   "metadata": {},
   "outputs": [
    {
     "data": {
      "text/plain": [
       "1×3 Matrix{Int64}:\n",
       " 1  2  3"
      ]
     },
     "execution_count": 49,
     "metadata": {},
     "output_type": "execute_result"
    }
   ],
   "source": [
    "\n",
    "w=[1 2 3]"
   ]
  },
  {
   "cell_type": "markdown",
   "id": "bf2fae15-9e76-4942-b344-49e2116f4a3a",
   "metadata": {},
   "source": [
    "#### εξήγηση"
   ]
  },
  {
   "cell_type": "markdown",
   "id": "9b6fc6b9-2b05-4d5d-8ce6-f09cd5922c2f",
   "metadata": {},
   "source": [
    "#### In Julia, the difference between:\n",
    "\n",
    "a = [1 2 3]\n",
    "\n",
    "w = [1, 2, 3]\n",
    "\n",
    "is in the\n",
    "#### dimensions (shape) of the resulting arrays:\n",
    "\n",
    "🔹 a = [1 2 3]\n",
    "\n",
    "This creates a 2D row matrix of size 1×3.\n",
    "\n",
    "Type: Matrix{Int64}"
   ]
  },
  {
   "cell_type": "code",
   "execution_count": 15,
   "id": "1ca5e07b-22a5-432f-bc4b-69cf9892f7e9",
   "metadata": {},
   "outputs": [
    {
     "data": {
      "text/plain": [
       "1×3 Matrix{Int64}:\n",
       " 1  2  3"
      ]
     },
     "execution_count": 15,
     "metadata": {},
     "output_type": "execute_result"
    }
   ],
   "source": [
    "a=[1 2 3]"
   ]
  },
  {
   "cell_type": "code",
   "execution_count": 17,
   "id": "a83b606f-1da5-4050-9e17-881757285d4d",
   "metadata": {},
   "outputs": [
    {
     "data": {
      "text/plain": [
       "3-element Vector{Int64}:\n",
       " 1\n",
       " 2\n",
       " 3"
      ]
     },
     "execution_count": 17,
     "metadata": {},
     "output_type": "execute_result"
    }
   ],
   "source": [
    "w=[1,2,3]"
   ]
  },
  {
   "cell_type": "code",
   "execution_count": 19,
   "id": "ab5b35c6-902f-46d2-9d07-470af75936eb",
   "metadata": {},
   "outputs": [
    {
     "data": {
      "text/plain": [
       "3-element Vector{Int64}:\n",
       " 1\n",
       " 2\n",
       " 3"
      ]
     },
     "execution_count": 19,
     "metadata": {},
     "output_type": "execute_result"
    }
   ],
   "source": [
    "y=[1;2;3]"
   ]
  },
  {
   "cell_type": "code",
   "execution_count": 21,
   "id": "b51f30dd-6d0e-44d0-b283-2e0d8ccdcd35",
   "metadata": {},
   "outputs": [
    {
     "data": {
      "text/plain": [
       "true"
      ]
     },
     "execution_count": 21,
     "metadata": {},
     "output_type": "execute_result"
    }
   ],
   "source": [
    "y==w\n"
   ]
  },
  {
   "cell_type": "markdown",
   "id": "289ade44-feab-49da-a783-56e39f78a96c",
   "metadata": {},
   "source": [
    "In Julia, the behavior of semicolons can \n",
    "#### depend on context, especially when used inside array constructors.\n",
    "\n",
    "Let’s carefully and correctly distinguish these cases:"
   ]
  },
  {
   "cell_type": "code",
   "execution_count": 24,
   "id": "6e51fa10-8e9a-41be-924b-8b07c5180a45",
   "metadata": {},
   "outputs": [
    {
     "data": {
      "text/plain": [
       "3-element Vector{Int64}:\n",
       " 1\n",
       " 2\n",
       " 3"
      ]
     },
     "execution_count": 24,
     "metadata": {},
     "output_type": "execute_result"
    }
   ],
   "source": [
    "y = [1; 2; 3]"
   ]
  },
  {
   "cell_type": "markdown",
   "id": "10248129-d47f-4592-939f-c0ce5aa36b1d",
   "metadata": {},
   "source": [
    "Result: Vector{Int64}\n",
    "\n",
    "Shape: (3,) → a 1D vector, not a 3×1 matrix.\n",
    "\n",
    "Julia \"flattens\" the semicolon-separated values into a 1D vector when all elements are scalars. This is different from what many expect coming from \n",
    "##### This is different from what many expect coming from MATLAB/Octave.\n",
    "\n"
   ]
  },
  {
   "cell_type": "markdown",
   "id": "43880b18-f93c-41ab-8306-25b5a7f43255",
   "metadata": {},
   "source": []
  },
  {
   "cell_type": "code",
   "execution_count": 26,
   "id": "7e9b2834-c742-43e2-a5de-bdf792c51d16",
   "metadata": {},
   "outputs": [
    {
     "data": {
      "text/plain": [
       "3-element Vector{Int64}:\n",
       " 1\n",
       " 2\n",
       " 3"
      ]
     },
     "execution_count": 26,
     "metadata": {},
     "output_type": "execute_result"
    }
   ],
   "source": [
    "m = [[1]; [2]; [3]]"
   ]
  },
  {
   "cell_type": "markdown",
   "id": "3241dda9-4928-4f98-9627-b4eb0f998c23",
   "metadata": {},
   "source": [
    "\n",
    "####  Correct Ways to Create a 3×1 Matrix\n",
    "✅ Method 1: \n",
    "### Use reshape\n",
    "\n"
   ]
  },
  {
   "cell_type": "code",
   "execution_count": 30,
   "id": "ebd7b640-5dc6-42f3-9b51-ece5e31d8036",
   "metadata": {},
   "outputs": [
    {
     "data": {
      "text/plain": [
       "3×1 Matrix{Int64}:\n",
       " 1\n",
       " 2\n",
       " 3"
      ]
     },
     "execution_count": 30,
     "metadata": {},
     "output_type": "execute_result"
    }
   ],
   "source": [
    "reshape([1, 2, 3], 3, 1)"
   ]
  },
  {
   "cell_type": "markdown",
   "id": "a9320db1-69e7-4be7-a0a2-76fd08f698bc",
   "metadata": {},
   "source": [
    "#### Method 2"
   ]
  },
  {
   "cell_type": "markdown",
   "id": "bd30eb09-0516-4d48-a297-c068ca2ed05d",
   "metadata": {},
   "source": [
    "#### Direct matrix construction\n"
   ]
  },
  {
   "cell_type": "code",
   "execution_count": 36,
   "id": "54d8c9c4-7da6-464b-a11d-0d613dec085c",
   "metadata": {},
   "outputs": [
    {
     "data": {
      "text/plain": [
       "3×1 adjoint(::Matrix{Int64}) with eltype Int64:\n",
       " 1\n",
       " 2\n",
       " 3"
      ]
     },
     "execution_count": 36,
     "metadata": {},
     "output_type": "execute_result"
    }
   ],
   "source": [
    "m = [1 2 3]'   # transpose a row vector"
   ]
  },
  {
   "cell_type": "markdown",
   "id": "e1458b39-ea46-46fe-8dfd-2ca3ffd356a6",
   "metadata": {},
   "source": [
    "✅ Comparison\n",
    "Feature\tJulia\tOctave\n",
    "1-based index\t✅\t✅\n",
    "Column-major\t✅\t✅       way  they ate put in memory\n",
    "Dynamic sizes\t✅ (push!)\t✅ (end+1)"
   ]
  },
  {
   "cell_type": "markdown",
   "id": "a36dd2eb-47e8-492d-925d-9d59a27b217e",
   "metadata": {},
   "source": [
    "#### Indexing & Slicing\n"
   ]
  },
  {
   "cell_type": "code",
   "execution_count": 55,
   "id": "b8f1e93e-32f2-41e5-9677-bbb13e22094e",
   "metadata": {},
   "outputs": [
    {
     "data": {
      "text/plain": [
       "4-element Vector{Int64}:\n",
       " 10\n",
       " 20\n",
       " 30\n",
       " 40"
      ]
     },
     "execution_count": 55,
     "metadata": {},
     "output_type": "execute_result"
    }
   ],
   "source": [
    "a = [10, 20, 30, 40]"
   ]
  },
  {
   "cell_type": "code",
   "execution_count": 57,
   "id": "35fb3145-57e4-4b78-9938-e1c646d5227d",
   "metadata": {},
   "outputs": [
    {
     "data": {
      "text/plain": [
       "10"
      ]
     },
     "execution_count": 57,
     "metadata": {},
     "output_type": "execute_result"
    }
   ],
   "source": [
    "a[1]"
   ]
  },
  {
   "cell_type": "code",
   "execution_count": 59,
   "id": "2461d794-2282-498b-81ae-96c05a50f90a",
   "metadata": {},
   "outputs": [
    {
     "data": {
      "text/plain": [
       "2-element Vector{Int64}:\n",
       " 20\n",
       " 30"
      ]
     },
     "execution_count": 59,
     "metadata": {},
     "output_type": "execute_result"
    }
   ],
   "source": [
    "a[2:3]"
   ]
  },
  {
   "cell_type": "code",
   "execution_count": 61,
   "id": "3ae0938c-bd0a-4273-ba16-b6512bae4eec",
   "metadata": {},
   "outputs": [
    {
     "data": {
      "text/plain": [
       "40"
      ]
     },
     "execution_count": 61,
     "metadata": {},
     "output_type": "execute_result"
    }
   ],
   "source": [
    "a[end]"
   ]
  },
  {
   "cell_type": "markdown",
   "id": "70b87fb1-5d27-45e5-9744-b1ed8fd6ee52",
   "metadata": {},
   "source": [
    "#### Octave : IDEM except parenthesis instead of []\n",
    "\n",
    "a = [10, 20, 30, 40];\n",
    "a(1)             % 10\n",
    "a(2:3)           % [20, 30]\n",
    "a(end)           % 40"
   ]
  },
  {
   "cell_type": "markdown",
   "id": "71705399-1d1b-4a04-b404-23e650147eda",
   "metadata": {},
   "source": [
    "### Ranges"
   ]
  },
  {
   "cell_type": "markdown",
   "id": "b1704114-08d3-40f7-8c5c-e89789905ecc",
   "metadata": {},
   "source": [
    "### Ranges\n",
    "📌 Julia\n",
    "\n",
    "1:5              # 1, 2, 3, 4, 5 (unit step)\n",
    "1:2:9            # 1, 3, 5, 7, 9\n",
    "📌 Octave\n",
    "\n",
    "1:5              % 1, 2, 3, 4, 5\n",
    "1:2:9            % 1, 3, 5, 7, 9\n",
    "\n",
    "#### Identical syntax for colon operator."
   ]
  },
  {
   "cell_type": "markdown",
   "id": "06f6812f-eadc-4204-af19-006f0e02e751",
   "metadata": {},
   "source": [
    "### Linear Spacing (linspace equivalent)"
   ]
  },
  {
   "cell_type": "raw",
   "id": "688fa817-fed8-4f93-b95d-0af90274fdf3",
   "metadata": {},
   "source": [
    "Linear Spacing (linspace equivalent)\n",
    "📌 Julia\n",
    "\n",
    "range(1, stop=5, length=5)       # 1.0, 2.0, 3.0, 4.0, 5.0\n",
    "collect(range(1, stop=5, length=5))\n",
    "📌 Octave\n",
    "\n",
    "linspace(1, 5, 5)         % 1.0, 2.0, 3.0, 4.0, 5.0\n",
    "\n",
    "Feature\tJulia\tOctave\n",
    "Create range\trange(start, stop, length=n)\tlinspace(start, end, n)\n",
    "Collect values\tcollect(...)\tN/A (implicit)\n",
    "\n",
    "Julia uses lazy range objects. Use collect() to force evaluation.\n",
    "\n"
   ]
  },
  {
   "cell_type": "code",
   "execution_count": 64,
   "id": "5ea936a8-b527-46ab-ba77-43bf296492d8",
   "metadata": {},
   "outputs": [
    {
     "data": {
      "text/plain": [
       "1.0:1.0:5.0"
      ]
     },
     "execution_count": 64,
     "metadata": {},
     "output_type": "execute_result"
    }
   ],
   "source": [
    "range(1, stop=5, length=5) "
   ]
  },
  {
   "cell_type": "code",
   "execution_count": 66,
   "id": "02f0366f-ac9f-4cba-87ab-395ac2558807",
   "metadata": {},
   "outputs": [
    {
     "data": {
      "text/plain": [
       "1.0:0.16666666666666666:2.0"
      ]
     },
     "execution_count": 66,
     "metadata": {},
     "output_type": "execute_result"
    }
   ],
   "source": [
    "range(1, stop=2, length=7)"
   ]
  },
  {
   "cell_type": "code",
   "execution_count": 69,
   "id": "e359d983-c613-4ee0-ba8e-e080f77dd09d",
   "metadata": {},
   "outputs": [
    {
     "data": {
      "text/plain": [
       "5-element Vector{Float64}:\n",
       " 1.0\n",
       " 2.0\n",
       " 3.0\n",
       " 4.0\n",
       " 5.0"
      ]
     },
     "execution_count": 69,
     "metadata": {},
     "output_type": "execute_result"
    }
   ],
   "source": [
    "collect(range(start=1, stop=5, length=5))"
   ]
  },
  {
   "cell_type": "code",
   "execution_count": 71,
   "id": "54c94388-4b12-49a1-a5d3-b9b67adc86b3",
   "metadata": {},
   "outputs": [
    {
     "data": {
      "text/plain": [
       "5-element Vector{Float64}:\n",
       " 1.0\n",
       " 2.0\n",
       " 3.0\n",
       " 4.0\n",
       " 5.0"
      ]
     },
     "execution_count": 71,
     "metadata": {},
     "output_type": "execute_result"
    }
   ],
   "source": [
    "collect(range(1, stop=5, length=5))   # start above was optional\n"
   ]
  },
  {
   "cell_type": "markdown",
   "id": "c3a719f7-ff09-4c4e-8a5f-22a40f8bc9f0",
   "metadata": {},
   "source": [
    "#### Matrix Creation Functions"
   ]
  },
  {
   "cell_type": "markdown",
   "id": "0a0af9a1-3cef-4d4e-bbb2-9b766754dc83",
   "metadata": {},
   "source": [
    " Matrix Creation Functions\n",
    "Operation\tJulia\tOctave\n",
    "Zeros\tzeros(3, 2)\tzeros(3, 2)\n",
    "Ones\tones(2, 3)\tones(2, 3)\n",
    "Identity matrix\tI (unit range) or Matrix{Float64}(I, 3, 3)\teye(3)\n",
    "Random matrix\trand(3, 3)\trand(3, 3)"
   ]
  },
  {
   "cell_type": "code",
   "execution_count": 77,
   "id": "8afd1629-8161-4727-8a58-7122f36377ca",
   "metadata": {},
   "outputs": [
    {
     "data": {
      "text/plain": [
       "2×3 Matrix{Float64}:\n",
       " 0.0  0.0  0.0\n",
       " 0.0  0.0  0.0"
      ]
     },
     "execution_count": 77,
     "metadata": {},
     "output_type": "execute_result"
    }
   ],
   "source": [
    "x=zeros(2,3)"
   ]
  },
  {
   "cell_type": "code",
   "execution_count": 79,
   "id": "c52f723f-54da-4d4f-8489-ddd24704b595",
   "metadata": {},
   "outputs": [
    {
     "data": {
      "text/plain": [
       "3×2 Matrix{Float64}:\n",
       " 1.0  1.0\n",
       " 1.0  1.0\n",
       " 1.0  1.0"
      ]
     },
     "execution_count": 79,
     "metadata": {},
     "output_type": "execute_result"
    }
   ],
   "source": [
    "y=ones(3,2)"
   ]
  },
  {
   "cell_type": "markdown",
   "id": "2bd47bf3-e0ca-4928-939e-88a24bb06eb0",
   "metadata": {},
   "source": [
    "#### Identity Matrix"
   ]
  },
  {
   "cell_type": "code",
   "execution_count": 86,
   "id": "fbb8a460-5b69-4ae6-827c-c1e6a1354229",
   "metadata": {},
   "outputs": [
    {
     "ename": "LoadError",
     "evalue": "UndefVarError: `I` not defined",
     "output_type": "error",
     "traceback": [
      "UndefVarError: `I` not defined",
      "",
      "Stacktrace:",
      " [1] top-level scope",
      "\u001b[90m   @\u001b[39m \u001b[90m\u001b[4mIn[86]:1\u001b[24m\u001b[39m"
     ]
    }
   ],
   "source": [
    "I(3,3)"
   ]
  },
  {
   "cell_type": "code",
   "execution_count": 88,
   "id": "89998f94-349c-421f-bc5b-d9a15e1eca89",
   "metadata": {},
   "outputs": [
    {
     "ename": "LoadError",
     "evalue": "UndefVarError: `I` not defined",
     "output_type": "error",
     "traceback": [
      "UndefVarError: `I` not defined",
      "",
      "Stacktrace:",
      " [1] top-level scope",
      "\u001b[90m   @\u001b[39m \u001b[90m\u001b[4mIn[88]:1\u001b[24m\u001b[39m"
     ]
    }
   ],
   "source": [
    "Matrix{Float64}(I, 3, 3)  # 3×3 concrete identity matrix"
   ]
  },
  {
   "cell_type": "code",
   "execution_count": null,
   "id": "4d9bcf99-f66a-42da-b329-6cf388938b67",
   "metadata": {},
   "outputs": [],
   "source": []
  },
  {
   "cell_type": "code",
   "execution_count": 90,
   "id": "c18cd7a2-6d69-4615-9dac-5cd7aad60628",
   "metadata": {},
   "outputs": [
    {
     "ename": "LoadError",
     "evalue": "UndefVarError: `I` not defined",
     "output_type": "error",
     "traceback": [
      "UndefVarError: `I` not defined",
      "",
      "Stacktrace:",
      " [1] top-level scope",
      "\u001b[90m   @\u001b[39m \u001b[90m\u001b[4mIn[90]:1\u001b[24m\u001b[39m"
     ]
    }
   ],
   "source": [
    "Matrix{Int}(I, 3, 3)"
   ]
  },
  {
   "cell_type": "code",
   "execution_count": 92,
   "id": "bca5cd0c-6335-44c5-80d7-c50661a47476",
   "metadata": {},
   "outputs": [
    {
     "data": {
      "text/plain": [
       "3×3 Matrix{Bool}:\n",
       " 1  0  0\n",
       " 0  1  0\n",
       " 0  0  1"
      ]
     },
     "execution_count": 92,
     "metadata": {},
     "output_type": "execute_result"
    }
   ],
   "source": [
    "using LinearAlgebra\n",
    "Matrix(I, 3, 3)"
   ]
  },
  {
   "cell_type": "code",
   "execution_count": 94,
   "id": "34251153-d9c7-4f8f-b525-96a97a7ab26f",
   "metadata": {},
   "outputs": [
    {
     "data": {
      "text/plain": [
       "3×3 Matrix{Int64}:\n",
       " 1  0  0\n",
       " 0  1  0\n",
       " 0  0  1"
      ]
     },
     "execution_count": 94,
     "metadata": {},
     "output_type": "execute_result"
    }
   ],
   "source": [
    "Matrix{Int}(I, 3, 3)     ### after usin Linear Algebra"
   ]
  },
  {
   "cell_type": "markdown",
   "id": "661d5912-be70-4021-9393-f71aa5ac4c01",
   "metadata": {},
   "source": [
    "### random"
   ]
  },
  {
   "cell_type": "code",
   "execution_count": 97,
   "id": "362b1d34-d824-4dd0-a153-347561939cea",
   "metadata": {},
   "outputs": [
    {
     "data": {
      "text/plain": [
       "3×3 Matrix{Float64}:\n",
       " 0.244555  0.157787  0.32189\n",
       " 0.857501  0.941878  0.898591\n",
       " 0.111881  0.192304  0.0698448"
      ]
     },
     "execution_count": 97,
     "metadata": {},
     "output_type": "execute_result"
    }
   ],
   "source": [
    "rand(3,3)"
   ]
  },
  {
   "cell_type": "markdown",
   "id": "7b2801fd-0800-4a4e-a8d8-565b0d7ce8e6",
   "metadata": {},
   "source": [
    "#### Modifying Arrays"
   ]
  },
  {
   "cell_type": "raw",
   "id": "764e4b7c-ad45-4556-be4e-12d28b7d0182",
   "metadata": {},
   "source": [
    " 6. Modifying Arrays\n",
    "📌 Julia\n",
    "\n",
    "a = [1, 2, 3]\n",
    "push!(a, 4)         # [1, 2, 3, 4]\n",
    "pop!(a)             # [1, 2, 3]\n",
    "append!(a, [5, 6])  # [1, 2, 3, 5, 6]\n",
    "📌 Octave\n",
    "\n",
    "a = [1, 2, 3];\n",
    "a(end+1) = 4;       % [1, 2, 3, 4]\n",
    "a(end) = [];        % remove last element\n",
    "a = [a, 5, 6];      % append\n",
    "Operation\tJulia\tOctave\n",
    "Push / Append\tpush!, append!\tend+1 assignment\n",
    "Remove last\tpop!\ta(end) = []\n",
    "\n"
   ]
  },
  {
   "cell_type": "code",
   "execution_count": 101,
   "id": "4336ca17-9e15-4c14-975d-cb58ce68cd87",
   "metadata": {},
   "outputs": [
    {
     "data": {
      "text/plain": [
       "4-element Vector{Int64}:\n",
       " 1\n",
       " 2\n",
       " 3\n",
       " 4"
      ]
     },
     "execution_count": 101,
     "metadata": {},
     "output_type": "execute_result"
    }
   ],
   "source": [
    "a = [1, 2, 3]\n",
    "push!(a, 4)"
   ]
  },
  {
   "cell_type": "code",
   "execution_count": 103,
   "id": "f6e273a5-a902-4d05-a1ae-2542ce114325",
   "metadata": {},
   "outputs": [
    {
     "data": {
      "text/plain": [
       "4"
      ]
     },
     "execution_count": 103,
     "metadata": {},
     "output_type": "execute_result"
    }
   ],
   "source": [
    "pop!(a)"
   ]
  },
  {
   "cell_type": "code",
   "execution_count": 105,
   "id": "418f0a95-e3cd-4fba-a72c-c656eb80ff03",
   "metadata": {},
   "outputs": [
    {
     "data": {
      "text/plain": [
       "3-element Vector{Int64}:\n",
       " 1\n",
       " 2\n",
       " 3"
      ]
     },
     "execution_count": 105,
     "metadata": {},
     "output_type": "execute_result"
    }
   ],
   "source": [
    "a\n"
   ]
  },
  {
   "cell_type": "code",
   "execution_count": 107,
   "id": "d2fe34bc-aca9-4238-8233-24e8cb20d513",
   "metadata": {},
   "outputs": [
    {
     "data": {
      "text/plain": [
       "5-element Vector{Int64}:\n",
       " 1\n",
       " 2\n",
       " 3\n",
       " 5\n",
       " 6"
      ]
     },
     "execution_count": 107,
     "metadata": {},
     "output_type": "execute_result"
    }
   ],
   "source": [
    "append!(a, [5, 6])"
   ]
  },
  {
   "cell_type": "raw",
   "id": "c06f3dc8-4072-4e19-9e5c-bac3bde9da86",
   "metadata": {},
   "source": [
    " 7. Broadcasting (Element-wise)\n",
    "📌 Julia\n",
    "julia\n",
    "Copy\n",
    "Edit\n",
    "a = [1, 2, 3]\n",
    "b = a .^ 2          # [1, 4, 9]\n",
    "📌 Octave\n",
    "octave\n",
    "Copy\n",
    "Edit\n",
    "a = [1, 2, 3];\n",
    "b = a .^ 2;         % [1, 4, 9]\n",
    "✅ Same behavior with dot . operators.\n",
    "\n"
   ]
  },
  {
   "cell_type": "markdown",
   "id": "e6e50140-b827-418c-9074-b19293ea88dd",
   "metadata": {},
   "source": [
    "#### Broadcasting (Element-wise)"
   ]
  },
  {
   "cell_type": "raw",
   "id": "6ee3ac58-2896-4cf7-8585-95b976539ee4",
   "metadata": {},
   "source": [
    "Broadcasting (Element-wise)\n",
    "📌 Julia\n",
    "julia\n",
    "Copy\n",
    "Edit\n",
    "a = [1, 2, 3]\n",
    "b = a .^ 2          # [1, 4, 9]\n",
    "📌 Octave\n",
    "octave\n",
    "Copy\n",
    "Edit\n",
    "a = [1, 2, 3];\n",
    "b = a .^ 2;         % [1, 4, 9]"
   ]
  },
  {
   "cell_type": "raw",
   "id": "d9be8d21-2805-4d57-bbc0-59afe8f38ed3",
   "metadata": {},
   "source": [
    "Summary Table\n",
    "Concept\tJulia\tOctave\tNotes\n",
    "Basic arrays\t[], semicolons, spaces\tsame\tMostly identical\n",
    "Ranges\t1:2:9, range(...)\t1:2:9, linspace(...)\tJulia uses lazy ranges\n",
    "Indexing\ta[1], a[end]\ta(1), a(end)\tDifferent brackets\n",
    "Matrix funcs\tzeros(), rand()\tsame\tCompatible\n",
    "Append/remove\tpush!, pop!\ta(end+1)=..., a(end)=[]\tDifferent style\n",
    "Element-wise\t.op (broadcasting)\t.op\tIdentical"
   ]
  },
  {
   "cell_type": "code",
   "execution_count": 110,
   "id": "0e4b0dcd-de22-46dd-be97-d33d398f3ef4",
   "metadata": {},
   "outputs": [
    {
     "data": {
      "text/plain": [
       "3-element Vector{Int64}:\n",
       " 1\n",
       " 4\n",
       " 9"
      ]
     },
     "execution_count": 110,
     "metadata": {},
     "output_type": "execute_result"
    }
   ],
   "source": [
    "a = [1, 2, 3]\n",
    "b = a .^ 2          # [1, 4, 9]"
   ]
  },
  {
   "cell_type": "code",
   "execution_count": 112,
   "id": "f7346f5f-57cc-4ff3-9af5-b02de55c7212",
   "metadata": {},
   "outputs": [
    {
     "data": {
      "text/plain": [
       "1×3 Matrix{Int64}:\n",
       " 1  4  9"
      ]
     },
     "execution_count": 112,
     "metadata": {},
     "output_type": "execute_result"
    }
   ],
   "source": [
    "s=[1 2 3]\n",
    "t=s.^2"
   ]
  },
  {
   "cell_type": "code",
   "execution_count": null,
   "id": "2cc2966e-2517-4c56-92d8-21b77c22390d",
   "metadata": {},
   "outputs": [],
   "source": []
  }
 ],
 "metadata": {
  "kernelspec": {
   "display_name": "Julia 1.10.9",
   "language": "julia",
   "name": "julia-1.10"
  },
  "language_info": {
   "file_extension": ".jl",
   "mimetype": "application/julia",
   "name": "julia",
   "version": "1.10.9"
  }
 },
 "nbformat": 4,
 "nbformat_minor": 5
}
