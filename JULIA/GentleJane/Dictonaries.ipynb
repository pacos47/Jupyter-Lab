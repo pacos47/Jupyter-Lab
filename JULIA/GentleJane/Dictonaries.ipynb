{
 "cells": [
  {
   "cell_type": "code",
   "execution_count": null,
   "id": "f96f1d7f-0e64-4456-a422-30689e76505a",
   "metadata": {},
   "outputs": [],
   "source": []
  },
  {
   "cell_type": "markdown",
   "id": "b8bdad74-34a4-4cef-845b-1b585e36c31d",
   "metadata": {},
   "source": [
    "#### DICTIONARIES"
   ]
  },
  {
   "cell_type": "markdown",
   "id": "1f868a58-bbf2-44da-9f01-4da7ef2e2092",
   "metadata": {},
   "source": [
    "#### Basic Dictionary in Julia\n",
    "\n",
    "my_dict = Dict(\"name\" => \"Paraskevas\", \"age\" => 35, \"city\" => \"Athens\")\n",
    "Dict is the type.\n",
    "\n",
    "\"name\" => \"Paraskevas\" creates a key-value pair."
   ]
  },
  {
   "cell_type": "code",
   "execution_count": 6,
   "id": "3f648f6a-4a7f-45f8-8e32-a6c13176cc24",
   "metadata": {},
   "outputs": [
    {
     "data": {
      "text/plain": [
       "Dict{String, Any} with 3 entries:\n",
       "  \"name\" => \"Paraskevas\"\n",
       "  \"city\" => \"Athens\"\n",
       "  \"age\"  => 35"
      ]
     },
     "execution_count": 6,
     "metadata": {},
     "output_type": "execute_result"
    }
   ],
   "source": [
    "my_dict = Dict(\"name\" => \"Paraskevas\", \"age\" => 35, \"city\" => \"Athens\")\n"
   ]
  },
  {
   "cell_type": "markdown",
   "id": "083c813b-292f-4d41-9b7a-fe92b319ff37",
   "metadata": {},
   "source": [
    "#### In Julia, Dict{String, Any} means:\n",
    "\n",
    "A dictionary where the keys are String type and the values can be of any type.\n",
    "\n",
    "#### Dict{K, V} is the general form of a typed dictionary:\n",
    "\n",
    "K = type of keys\n",
    "\n",
    "V = type of values"
   ]
  },
  {
   "cell_type": "code",
   "execution_count": 8,
   "id": "23470d5c-0df7-4a52-9716-1a5594c11978",
   "metadata": {},
   "outputs": [
    {
     "data": {
      "text/plain": [
       "3-element Vector{Float64}:\n",
       "  8.5\n",
       "  9.0\n",
       " 10.0"
      ]
     },
     "execution_count": 8,
     "metadata": {},
     "output_type": "execute_result"
    }
   ],
   "source": [
    "# EXAMPLE\n",
    "d = Dict{String, Any}()\n",
    "d[\"name\"] = \"Paraskevas\"      # String\n",
    "d[\"age\"] = 35                 # Int\n",
    "d[\"grades\"] = [8.5, 9.0, 10]  # Array{Float64}\n",
    "\n",
    "## another way to define and populate a dictionary"
   ]
  },
  {
   "cell_type": "markdown",
   "id": "9afd7002-ad91-41c4-8d05-659354293293",
   "metadata": {},
   "source": [
    "#### List Dictionary content\n",
    "##### using for"
   ]
  },
  {
   "cell_type": "code",
   "execution_count": 10,
   "id": "8be12a30-708b-4ff2-93a0-8a4c9f094982",
   "metadata": {},
   "outputs": [
    {
     "name": "stdout",
     "output_type": "stream",
     "text": [
      "name => Paraskevas\n",
      "city => Athens\n",
      "age => 35\n"
     ]
    }
   ],
   "source": [
    "for (key, value) in my_dict\n",
    "    println(\"$key => $value\")\n",
    "end"
   ]
  },
  {
   "cell_type": "markdown",
   "id": "78b5250f-d875-4709-bc63-5e6e906408a7",
   "metadata": {},
   "source": [
    "#### Accessing Values"
   ]
  },
  {
   "cell_type": "code",
   "execution_count": 12,
   "id": "06558d10-1044-4b2c-b18b-6cda7e26151f",
   "metadata": {},
   "outputs": [
    {
     "data": {
      "text/plain": [
       "\"Paraskevas\""
      ]
     },
     "execution_count": 12,
     "metadata": {},
     "output_type": "execute_result"
    }
   ],
   "source": [
    "#### Accessing Values\n",
    "my_dict[\"name\"]"
   ]
  },
  {
   "cell_type": "markdown",
   "id": "30b28e6c-06d3-4c5e-9965-a4758a11919a",
   "metadata": {},
   "source": [
    "##### Adding or Updating\n"
   ]
  },
  {
   "cell_type": "code",
   "execution_count": 15,
   "id": "f7f4add2-fabc-42a2-b1bf-4e739f433ccf",
   "metadata": {},
   "outputs": [
    {
     "data": {
      "text/plain": [
       "36"
      ]
     },
     "execution_count": 15,
     "metadata": {},
     "output_type": "execute_result"
    }
   ],
   "source": [
    "\n",
    "my_dict[\"profession\"] = \"Engineer\"  # Add new key-value\n",
    "my_dict[\"age\"] = 36                 # Update value"
   ]
  },
  {
   "cell_type": "markdown",
   "id": "7bc5c175-61c3-47de-8b2d-fe458784429c",
   "metadata": {},
   "source": [
    "#### Removing a Key"
   ]
  },
  {
   "cell_type": "code",
   "execution_count": 18,
   "id": "693103ac-3ed0-4b40-b4a8-9aac28012265",
   "metadata": {},
   "outputs": [
    {
     "data": {
      "text/plain": [
       "Dict{String, Any} with 3 entries:\n",
       "  \"name\"       => \"Paraskevas\"\n",
       "  \"profession\" => \"Engineer\"\n",
       "  \"age\"        => 36"
      ]
     },
     "execution_count": 18,
     "metadata": {},
     "output_type": "execute_result"
    }
   ],
   "source": [
    "delete!(my_dict, \"city\")"
   ]
  },
  {
   "cell_type": "markdown",
   "id": "276be064-290f-4b3a-9ac8-6a2a673ce6cb",
   "metadata": {},
   "source": [
    "### Dictionary Functions\n",
    "Julia Method\tPurpose\n",
    "\n",
    "keys(my_dict)\tAll keys\n",
    "\n",
    "values(my_dict)\tAll values\n",
    "\n",
    "haskey(my_dict, key)\tCheck if key exists\n",
    "\n",
    "get(my_dict, key, def)\tGet value or return def if missing\n",
    "\n",
    "pop!(my_dict, key)\tRemove and return value\n",
    "\n",
    "merge(dict1, dict2)\tCombine two dictionaries]"
   ]
  },
  {
   "cell_type": "code",
   "execution_count": 25,
   "id": "dd48fefb-c9d5-4c59-afdf-69cac862554c",
   "metadata": {},
   "outputs": [
    {
     "name": "stdout",
     "output_type": "stream",
     "text": [
      "name => Paraskevas\n",
      "profession => Engineer\n",
      "age => 36\n"
     ]
    }
   ],
   "source": [
    "for (k, v) in my_dict\n",
    "    println(\"$k => $v\")\n",
    "end"
   ]
  },
  {
   "cell_type": "markdown",
   "id": "462866bb-5b3e-4561-b3f9-fca8a6a8e3c3",
   "metadata": {},
   "source": [
    "#### Dictionary with Typed Keys and Values\n",
    "\n",
    "d = Dict{String, Int}(\"a\" => 1, \"b\" => 2)\n",
    "\n",
    "Forces all keys to be String, values to be Int."
   ]
  },
  {
   "cell_type": "markdown",
   "id": "577f078d-094f-4b50-ad47-db6d422a02ce",
   "metadata": {},
   "source": [
    "#### Nested Dictionary"
   ]
  },
  {
   "cell_type": "code",
   "execution_count": 30,
   "id": "88e41641-ec11-46ea-b3c1-fb3655826781",
   "metadata": {},
   "outputs": [
    {
     "data": {
      "text/plain": [
       "\"Patras\""
      ]
     },
     "execution_count": 30,
     "metadata": {},
     "output_type": "execute_result"
    }
   ],
   "source": [
    "# Nested Dictionary\n",
    "\n",
    "nested = Dict(\n",
    "    \"Alice\" => Dict(\"age\" => 30, \"city\" => \"Patras\"),\n",
    "    \"Bob\" => Dict(\"age\" => 25, \"city\" => \"Athens\")\n",
    ")\n",
    "\n",
    "nested[\"Alice\"][\"city\"]  # \"Patras\""
   ]
  },
  {
   "cell_type": "code",
   "execution_count": null,
   "id": "73648677-d9de-48c2-90df-7a75e208313c",
   "metadata": {},
   "outputs": [],
   "source": []
  }
 ],
 "metadata": {
  "kernelspec": {
   "display_name": "Julia 1.10.9",
   "language": "julia",
   "name": "julia-1.10"
  },
  "language_info": {
   "file_extension": ".jl",
   "mimetype": "application/julia",
   "name": "julia",
   "version": "1.10.9"
  }
 },
 "nbformat": 4,
 "nbformat_minor": 5
}
