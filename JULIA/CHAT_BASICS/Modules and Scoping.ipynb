{
 "cells": [
  {
   "cell_type": "markdown",
   "id": "8c671a9c-6fd1-4c2c-967f-a5ae1a0db82f",
   "metadata": {},
   "source": [
    "### Modules and Scoping\n",
    "##### A module is a namespace that encapsulates variables, functions, types, and other definitions. It helps:\n",
    "\n",
    "Organize code into logical units\n",
    "\n",
    "Avoid name clashes (e.g., plot() from two different packages)\n",
    "\n",
    "Control what is exposed (via export)"
   ]
  },
  {
   "cell_type": "code",
   "execution_count": 2,
   "id": "c93eab33-da1d-40b5-9406-9433ceeb538a",
   "metadata": {},
   "outputs": [
    {
     "data": {
      "text/plain": [
       "Main.MyModule"
      ]
     },
     "execution_count": 2,
     "metadata": {},
     "output_type": "execute_result"
    }
   ],
   "source": [
    "module MyModule\n",
    "    export greet\n",
    "    greet(name) = println(\"Hello, $name\")\n",
    "end"
   ]
  },
  {
   "cell_type": "code",
   "execution_count": 4,
   "id": "5d099306-c3c4-421d-8c09-46f78feb119e",
   "metadata": {},
   "outputs": [
    {
     "name": "stdout",
     "output_type": "stream",
     "text": [
      "Hello, Julia\n"
     ]
    }
   ],
   "source": [
    "using .MyModule\n",
    "greet(\"Julia\")"
   ]
  },
  {
   "cell_type": "markdown",
   "id": "40b5d66d-8073-4466-8750-9fcbfdd35669",
   "metadata": {},
   "source": [
    "###### another module"
   ]
  },
  {
   "cell_type": "code",
   "execution_count": 2,
   "id": "c8a4cbc7-23a9-440f-8a5c-83a3eea60579",
   "metadata": {},
   "outputs": [
    {
     "data": {
      "text/plain": [
       "Main.MathTools"
      ]
     },
     "execution_count": 2,
     "metadata": {},
     "output_type": "execute_result"
    }
   ],
   "source": [
    "module MathTools\n",
    "\n",
    "export square, cube\n",
    "\n",
    "square(x) = x^2\n",
    "cube(x) = x^3\n",
    "\n",
    "# Internal function (not exported)\n",
    "_secret(x) = x + 42\n",
    "\n",
    "end"
   ]
  },
  {
   "cell_type": "code",
   "execution_count": 5,
   "id": "1b379fab-cc49-4683-a43f-32bf1c02f5e6",
   "metadata": {},
   "outputs": [
    {
     "data": {
      "text/plain": [
       "43"
      ]
     },
     "execution_count": 5,
     "metadata": {},
     "output_type": "execute_result"
    }
   ],
   "source": [
    "using .MathTools  # dot means it's in the same file/scope\n",
    "\n",
    "square(4)   # 16\n",
    "cube(2)     # 8\n",
    "MathTools._secret(1)  # You can still access it, but it's not meant for external use"
   ]
  },
  {
   "cell_type": "markdown",
   "id": "b2886cfb-1520-4ad3-8692-0e0149089be7",
   "metadata": {},
   "source": [
    "#### MathTools.jl as a file:"
   ]
  },
  {
   "cell_type": "code",
   "execution_count": 8,
   "id": "0836ae60-b9b5-41c5-bc26-e3f098cf2a21",
   "metadata": {},
   "outputs": [
    {
     "name": "stderr",
     "output_type": "stream",
     "text": [
      "WARNING: replacing module MathTools.\n",
      "WARNING: using MathTools.square in module Main conflicts with an existing identifier.\n",
      "WARNING: using MathTools.cube in module Main conflicts with an existing identifier.\n"
     ]
    },
    {
     "data": {
      "text/plain": [
       "27"
      ]
     },
     "execution_count": 8,
     "metadata": {},
     "output_type": "execute_result"
    }
   ],
   "source": [
    "include(\"MathTools.jl\")\n",
    "using .MathTools\n",
    "cube(3)"
   ]
  },
  {
   "cell_type": "markdown",
   "id": "db0d1d23-2124-4313-a40a-ad8a17764d9f",
   "metadata": {},
   "source": [
    "##### So use it in another scope"
   ]
  },
  {
   "cell_type": "code",
   "execution_count": null,
   "id": "9bb4a912-84a1-46b0-b31f-3db5a1d7a0e7",
   "metadata": {},
   "outputs": [],
   "source": []
  }
 ],
 "metadata": {
  "kernelspec": {
   "display_name": "Julia 1.10.9",
   "language": "julia",
   "name": "julia-1.10"
  },
  "language_info": {
   "file_extension": ".jl",
   "mimetype": "application/julia",
   "name": "julia",
   "version": "1.10.9"
  }
 },
 "nbformat": 4,
 "nbformat_minor": 5
}
