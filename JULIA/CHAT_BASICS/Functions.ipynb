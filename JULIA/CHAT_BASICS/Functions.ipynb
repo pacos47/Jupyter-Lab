{
 "cells": [
  {
   "cell_type": "markdown",
   "id": "28c24618-cf12-4e73-9bb3-b1c5902f97e0",
   "metadata": {},
   "source": [
    "### FUNCTIONS"
   ]
  },
  {
   "cell_type": "code",
   "execution_count": 2,
   "id": "c4158168-2ed0-4356-bac9-47ddbbad47fb",
   "metadata": {},
   "outputs": [
    {
     "data": {
      "text/plain": [
       "square (generic function with 1 method)"
      ]
     },
     "execution_count": 2,
     "metadata": {},
     "output_type": "execute_result"
    }
   ],
   "source": [
    "function square(x)\n",
    "    return x^2\n",
    "end\n"
   ]
  },
  {
   "cell_type": "code",
   "execution_count": 4,
   "id": "3b449a1c-81ed-4b58-80a0-deb52283d3fa",
   "metadata": {},
   "outputs": [
    {
     "data": {
      "text/plain": [
       "16"
      ]
     },
     "execution_count": 4,
     "metadata": {},
     "output_type": "execute_result"
    }
   ],
   "source": [
    "square(4)"
   ]
  },
  {
   "cell_type": "markdown",
   "id": "5a7b5591-49e0-4ccc-a0a0-a60ef4074c82",
   "metadata": {},
   "source": [
    "#### In one line"
   ]
  },
  {
   "cell_type": "code",
   "execution_count": 7,
   "id": "d44f1bd2-7cf8-42a7-b95d-38416a9ac77b",
   "metadata": {},
   "outputs": [
    {
     "data": {
      "text/plain": [
       "cube (generic function with 1 method)"
      ]
     },
     "execution_count": 7,
     "metadata": {},
     "output_type": "execute_result"
    }
   ],
   "source": [
    "cube(x) = x^3"
   ]
  },
  {
   "cell_type": "code",
   "execution_count": 9,
   "id": "cff986f0-27a8-4680-aa94-4125e1bc41f8",
   "metadata": {},
   "outputs": [
    {
     "data": {
      "text/plain": [
       "64"
      ]
     },
     "execution_count": 9,
     "metadata": {},
     "output_type": "execute_result"
    }
   ],
   "source": [
    "cube(4)"
   ]
  },
  {
   "cell_type": "code",
   "execution_count": null,
   "id": "c84ecf20-0815-47b7-9364-ddf35b1b2d90",
   "metadata": {},
   "outputs": [],
   "source": []
  }
 ],
 "metadata": {
  "kernelspec": {
   "display_name": "Julia 1.10.9",
   "language": "julia",
   "name": "julia-1.10"
  },
  "language_info": {
   "file_extension": ".jl",
   "mimetype": "application/julia",
   "name": "julia",
   "version": "1.10.9"
  }
 },
 "nbformat": 4,
 "nbformat_minor": 5
}
