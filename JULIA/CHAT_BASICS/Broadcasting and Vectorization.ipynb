{
 "cells": [
  {
   "cell_type": "markdown",
   "id": "15fa8f2c-708d-49f4-b91a-fb0a519e0bdf",
   "metadata": {},
   "source": [
    "### Broadcasting and Vectorization"
   ]
  },
  {
   "cell_type": "markdown",
   "id": "474db0f8-6082-48e8-b7ce-1ba03d027c5c",
   "metadata": {},
   "source": [
    "#### element-wise"
   ]
  },
  {
   "cell_type": "code",
   "execution_count": 4,
   "id": "051b018c-1503-426d-9735-e0ecc54bdf3f",
   "metadata": {},
   "outputs": [
    {
     "data": {
      "text/plain": [
       "3-element Vector{Int64}:\n",
       " 1\n",
       " 4\n",
       " 9"
      ]
     },
     "execution_count": 4,
     "metadata": {},
     "output_type": "execute_result"
    }
   ],
   "source": [
    "x = [1, 2, 3]\n",
    "x .^ 2       # [1, 4, 9] element-wise power\n"
   ]
  },
  {
   "cell_type": "markdown",
   "id": "80e93a5f-b640-4b74-935b-0f77ffd1ea1c",
   "metadata": {},
   "source": [
    "#### broadcast"
   ]
  },
  {
   "cell_type": "code",
   "execution_count": 6,
   "id": "0228f487-d106-4c96-9da3-18d7eb78dd4d",
   "metadata": {},
   "outputs": [
    {
     "data": {
      "text/plain": [
       "3-element Vector{Float64}:\n",
       " 0.8414709848078965\n",
       " 0.9092974268256817\n",
       " 0.1411200080598672"
      ]
     },
     "execution_count": 6,
     "metadata": {},
     "output_type": "execute_result"
    }
   ],
   "source": [
    "sin.(x)      # broadcast sin function"
   ]
  },
  {
   "cell_type": "code",
   "execution_count": null,
   "id": "9b021593-de45-4f0d-8017-b04d6d8fb589",
   "metadata": {},
   "outputs": [],
   "source": []
  }
 ],
 "metadata": {
  "kernelspec": {
   "display_name": "Julia 1.10.9",
   "language": "julia",
   "name": "julia-1.10"
  },
  "language_info": {
   "file_extension": ".jl",
   "mimetype": "application/julia",
   "name": "julia",
   "version": "1.10.9"
  }
 },
 "nbformat": 4,
 "nbformat_minor": 5
}
