{
 "cells": [
  {
   "cell_type": "markdown",
   "id": "68663a4e-8074-4179-9ca2-4988b5f731b2",
   "metadata": {},
   "source": [
    "### COLLECTIONS"
   ]
  },
  {
   "cell_type": "markdown",
   "id": "303d3268-58ba-478c-9444-02486100aebe",
   "metadata": {},
   "source": [
    "### Arrays"
   ]
  },
  {
   "cell_type": "code",
   "execution_count": 9,
   "id": "ef0ed427-5daf-4279-bd43-786c168a8b1f",
   "metadata": {},
   "outputs": [
    {
     "data": {
      "text/plain": [
       "3-element Vector{Int64}:\n",
       " 1\n",
       " 2\n",
       " 3"
      ]
     },
     "execution_count": 9,
     "metadata": {},
     "output_type": "execute_result"
    }
   ],
   "source": [
    "x=[1,2,3]"
   ]
  },
  {
   "cell_type": "code",
   "execution_count": 7,
   "id": "e54b8627-8111-49c5-9389-04e25d9fe5fa",
   "metadata": {},
   "outputs": [
    {
     "data": {
      "text/plain": [
       "2-element Vector{Any}:\n",
       " 1\n",
       "  \"jumbo\""
      ]
     },
     "execution_count": 7,
     "metadata": {},
     "output_type": "execute_result"
    }
   ],
   "source": [
    "y=[1, \"jumbo\"]       # ανόμοια"
   ]
  },
  {
   "cell_type": "code",
   "execution_count": 11,
   "id": "9f9546ee-6fef-49b0-a788-9be125406b17",
   "metadata": {},
   "outputs": [
    {
     "name": "stdout",
     "output_type": "stream",
     "text": [
      "1\n"
     ]
    }
   ],
   "source": [
    "println(x[1])     # counting index starts at 1"
   ]
  },
  {
   "cell_type": "markdown",
   "id": "7509f29e-80b4-4d47-b91f-62489e088f94",
   "metadata": {},
   "source": [
    "### Tuples\n",
    "#####  immutable (can’t be changed after creation)"
   ]
  },
  {
   "cell_type": "code",
   "execution_count": 14,
   "id": "dfa99bfd-24e8-455b-a4a3-ed47e7536ee6",
   "metadata": {},
   "outputs": [
    {
     "data": {
      "text/plain": [
       "(1, \"a\", 3.5)"
      ]
     },
     "execution_count": 14,
     "metadata": {},
     "output_type": "execute_result"
    }
   ],
   "source": [
    "t = (1, \"a\", 3.5)    ## parenthesis instead of []"
   ]
  },
  {
   "cell_type": "code",
   "execution_count": 16,
   "id": "3f3cbec5-5592-414f-b72e-d65c25e3d4ab",
   "metadata": {},
   "outputs": [
    {
     "ename": "LoadError",
     "evalue": "MethodError: objects of type Tuple{Int64, String, Float64} are not callable",
     "output_type": "error",
     "traceback": [
      "MethodError: objects of type Tuple{Int64, String, Float64} are not callable",
      "",
      "Stacktrace:",
      " [1] top-level scope",
      "\u001b[90m   @\u001b[39m \u001b[90m\u001b[4mIn[16]:1\u001b[24m\u001b[39m"
     ]
    }
   ],
   "source": [
    "t(2)     ##Indexing with [] like arrays"
   ]
  },
  {
   "cell_type": "code",
   "execution_count": 21,
   "id": "b72ade29-cdd1-41b5-a943-5981765b3c33",
   "metadata": {},
   "outputs": [
    {
     "data": {
      "text/plain": [
       "\"a\""
      ]
     },
     "execution_count": 21,
     "metadata": {},
     "output_type": "execute_result"
    }
   ],
   "source": [
    "t[2]"
   ]
  },
  {
   "cell_type": "markdown",
   "id": "1c8d7fac-e1de-4fad-a84d-5455f671add9",
   "metadata": {},
   "source": [
    "#### Tuple Unpacking"
   ]
  },
  {
   "cell_type": "code",
   "execution_count": 23,
   "id": "57f72bf7-046d-4d42-af3f-10104877cdd5",
   "metadata": {},
   "outputs": [
    {
     "data": {
      "text/plain": [
       "(10, 20)"
      ]
     },
     "execution_count": 23,
     "metadata": {},
     "output_type": "execute_result"
    }
   ],
   "source": [
    "a, b = (10, 20)"
   ]
  },
  {
   "cell_type": "code",
   "execution_count": 25,
   "id": "e6b17e30-723a-4922-a3b6-e8fe34c56e84",
   "metadata": {},
   "outputs": [
    {
     "data": {
      "text/plain": [
       "10"
      ]
     },
     "execution_count": 25,
     "metadata": {},
     "output_type": "execute_result"
    }
   ],
   "source": [
    "a\n"
   ]
  },
  {
   "cell_type": "code",
   "execution_count": 27,
   "id": "2558511b-e7df-4f16-85d2-58231eaf25fc",
   "metadata": {},
   "outputs": [
    {
     "data": {
      "text/plain": [
       "20"
      ]
     },
     "execution_count": 27,
     "metadata": {},
     "output_type": "execute_result"
    }
   ],
   "source": [
    "b"
   ]
  },
  {
   "cell_type": "markdown",
   "id": "7daeb590-52f4-4c20-95f5-33ec066e8d01",
   "metadata": {},
   "source": [
    "##### Used often in functions:"
   ]
  },
  {
   "cell_type": "code",
   "execution_count": 32,
   "id": "b5ec47d4-8222-4744-b197-1f37088b6cec",
   "metadata": {},
   "outputs": [
    {
     "data": {
      "text/plain": [
       "stats (generic function with 1 method)"
      ]
     },
     "execution_count": 32,
     "metadata": {},
     "output_type": "execute_result"
    }
   ],
   "source": [
    "function stats(x, y)\n",
    "    return (x + y, x * y)\n",
    "end"
   ]
  },
  {
   "cell_type": "code",
   "execution_count": 34,
   "id": "bcf4e8c7-4f74-4b79-b101-b15385471c73",
   "metadata": {},
   "outputs": [
    {
     "data": {
      "text/plain": [
       "(7, 12)"
      ]
     },
     "execution_count": 34,
     "metadata": {},
     "output_type": "execute_result"
    }
   ],
   "source": [
    "sum, prod = stats(3, 4)"
   ]
  },
  {
   "cell_type": "markdown",
   "id": "a565008a-d96f-4b53-8b1f-e838bdfef647",
   "metadata": {},
   "source": [
    "### Tuple vs Array\n",
    "Feature\tTuple\tArray\n",
    "Syntax\t(1, 2, 3)\t[1, 2, 3]\n",
    "Mutable\t❌ No\t✅ Yes\n",
    "Fixed length\t✅ Yes\t❌ No\n",
    "Fast dispatch\t✅ (static types)\t❌\n",
    "Mixed types\t✅ Yes\t✅ Yes"
   ]
  },
  {
   "cell_type": "markdown",
   "id": "a3423ef0-1e13-4da1-a56f-f8da5ff83819",
   "metadata": {},
   "source": [
    "### Dictionaries"
   ]
  },
  {
   "cell_type": "code",
   "execution_count": 42,
   "id": "b4ad591a-cd4f-4c94-8a8b-76e2ddcaf5ee",
   "metadata": {},
   "outputs": [
    {
     "data": {
      "text/plain": [
       "1"
      ]
     },
     "execution_count": 42,
     "metadata": {},
     "output_type": "execute_result"
    }
   ],
   "source": [
    "# Dictionaries\n",
    "d = Dict(\"a\" => 1, \"b\" => 2)\n",
    "d[\"a\"]      # 1"
   ]
  },
  {
   "cell_type": "markdown",
   "id": "c8fd4515-9ceb-4a62-a767-9cb03c5ec932",
   "metadata": {},
   "source": [
    "### Sets"
   ]
  },
  {
   "cell_type": "markdown",
   "id": "56536558-7aed-4bd4-8ddd-efc3aee45fce",
   "metadata": {},
   "source": [
    "##### Unordered: Unlike arrays or tuples, the order of elements in a Set is not preserved. You cannot access elements by index.\n",
    "\n",
    "##### Unique Elements: A key feature of sets is that they only store unique elements. If you try to add a duplicate element to a set, it will be ignored.\n",
    "##### Mutable: Sets are mutable, meaning you can add, remove, or modify elements after the set has been created.\n",
    "##### Heterogeneous (by default): Like other Julia collections, a Set can contain elements of different data types (e.g., Int, String, Float). If you don't specify a type, it will default to Set{Any}. \n",
    "#### You can also create a Set that is restricted to a specific type, like Set{Int}"
   ]
  },
  {
   "cell_type": "markdown",
   "id": "267ed7ad-036a-4f8c-afab-bd98d3be5cfc",
   "metadata": {},
   "source": [
    "#### SYNTAX:   Set([...........])"
   ]
  },
  {
   "cell_type": "code",
   "execution_count": 47,
   "id": "bacb263a-358d-45e0-9e0c-f8de0229abf0",
   "metadata": {},
   "outputs": [
    {
     "data": {
      "text/plain": [
       "Set{Any}()"
      ]
     },
     "execution_count": 47,
     "metadata": {},
     "output_type": "execute_result"
    }
   ],
   "source": [
    "# Empty set\n",
    "Set()"
   ]
  },
  {
   "cell_type": "code",
   "execution_count": 51,
   "id": "ea49f623-f6a1-43a0-875c-780f532fc290",
   "metadata": {},
   "outputs": [
    {
     "data": {
      "text/plain": [
       "Set{Int64} with 4 elements:\n",
       "  4\n",
       "  2\n",
       "  3\n",
       "  1"
      ]
     },
     "execution_count": 51,
     "metadata": {},
     "output_type": "execute_result"
    }
   ],
   "source": [
    "Set([1, 2, 3, 2, 4, 1]) # Duplicates are automatically removed"
   ]
  },
  {
   "cell_type": "code",
   "execution_count": 53,
   "id": "ff94fa4a-66b1-4465-9d2c-551d60df647b",
   "metadata": {},
   "outputs": [
    {
     "data": {
      "text/plain": [
       "Set{Any} with 3 elements:\n",
       "  \"hello\"\n",
       "  3.14\n",
       "  1"
      ]
     },
     "execution_count": 53,
     "metadata": {},
     "output_type": "execute_result"
    }
   ],
   "source": [
    "Set([1, \"hello\", 3.14])"
   ]
  },
  {
   "cell_type": "code",
   "execution_count": 55,
   "id": "860f1125-fe00-430c-9f59-8c976fc1d01a",
   "metadata": {},
   "outputs": [
    {
     "data": {
      "text/plain": [
       "Set{String} with 2 elements:\n",
       "  \"banana\"\n",
       "  \"apple\""
      ]
     },
     "execution_count": 55,
     "metadata": {},
     "output_type": "execute_result"
    }
   ],
   "source": [
    "Set{String}([\"apple\", \"banana\", \"apple\"])"
   ]
  },
  {
   "cell_type": "code",
   "execution_count": null,
   "id": "4b53d3d1-6833-4f56-b645-d88dbee60720",
   "metadata": {},
   "outputs": [],
   "source": []
  }
 ],
 "metadata": {
  "kernelspec": {
   "display_name": "Julia 1.10.9",
   "language": "julia",
   "name": "julia-1.10"
  },
  "language_info": {
   "file_extension": ".jl",
   "mimetype": "application/julia",
   "name": "julia",
   "version": "1.10.9"
  }
 },
 "nbformat": 4,
 "nbformat_minor": 5
}
