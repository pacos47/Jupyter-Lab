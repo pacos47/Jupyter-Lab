{
 "cells": [
  {
   "cell_type": "markdown",
   "id": "a7f8f5d4-ce74-44cf-a1d9-57305abd83d0",
   "metadata": {},
   "source": [
    "### CUSTOM STRUCT"
   ]
  },
  {
   "cell_type": "markdown",
   "id": "86f6d4ef-e4e3-4af3-b8ad-45131c67396f",
   "metadata": {},
   "source": [
    "##### custom structs in Julia are very similar to objects (classes) in object-oriented programming (OOP).\n",
    "They define new data types, \n",
    "and while they don’t hold methods inside like traditional classes, \n",
    "Julia gives you powerful ways to associate behavior (functions) with them \n",
    "##### via multiple dispatch.\n",
    "\n"
   ]
  },
  {
   "cell_type": "code",
   "execution_count": 3,
   "id": "b309e36e-6dcb-499f-a015-e0b9e10c9bc0",
   "metadata": {},
   "outputs": [],
   "source": [
    "struct Person\n",
    "    name::String\n",
    "    age::Int\n",
    "end"
   ]
  },
  {
   "cell_type": "code",
   "execution_count": 5,
   "id": "1d961ed5-ff1f-4cd8-a4f0-8c64a6449f64",
   "metadata": {},
   "outputs": [
    {
     "data": {
      "text/plain": [
       "30"
      ]
     },
     "execution_count": 5,
     "metadata": {},
     "output_type": "execute_result"
    }
   ],
   "source": [
    "p = Person(\"Μαρία\", 30)\n",
    "\n",
    "p.name    # \"Μαρία\"\n",
    "p.age     # 30\n"
   ]
  },
  {
   "cell_type": "code",
   "execution_count": 7,
   "id": "ed068c20-0393-48f5-b91a-ba8a14a4f15c",
   "metadata": {},
   "outputs": [
    {
     "ename": "LoadError",
     "evalue": "setfield!: immutable struct of type Person cannot be changed",
     "output_type": "error",
     "traceback": [
      "setfield!: immutable struct of type Person cannot be changed",
      "",
      "Stacktrace:",
      " [1] \u001b[0m\u001b[1msetproperty!\u001b[22m\u001b[0m\u001b[1m(\u001b[22m\u001b[90mx\u001b[39m::\u001b[0mPerson, \u001b[90mf\u001b[39m::\u001b[0mSymbol, \u001b[90mv\u001b[39m::\u001b[0mInt64\u001b[0m\u001b[1m)\u001b[22m",
      "\u001b[90m   @\u001b[39m \u001b[90mBase\u001b[39m \u001b[90m./\u001b[39m\u001b[90m\u001b[4mBase.jl:41\u001b[24m\u001b[39m",
      " [2] top-level scope",
      "\u001b[90m   @\u001b[39m \u001b[90m\u001b[4mIn[7]:1\u001b[24m\u001b[39m"
     ]
    }
   ],
   "source": [
    "p.age = 40      ## maria cheats?"
   ]
  },
  {
   "cell_type": "markdown",
   "id": "33c1402a-1116-4f7c-84f2-cf01d7879278",
   "metadata": {},
   "source": [
    "#### To make a mutable version:"
   ]
  },
  {
   "cell_type": "code",
   "execution_count": 10,
   "id": "07c1c34d-f5f7-493e-b3ee-18eb8c214f0d",
   "metadata": {},
   "outputs": [
    {
     "ename": "LoadError",
     "evalue": "invalid redefinition of constant Main.Person",
     "output_type": "error",
     "traceback": [
      "invalid redefinition of constant Main.Person",
      "",
      "Stacktrace:",
      " [1] top-level scope",
      "\u001b[90m   @\u001b[39m \u001b[90m\u001b[4mIn[10]:1\u001b[24m\u001b[39m"
     ]
    }
   ],
   "source": [
    "mutable struct Person\n",
    "    name::String\n",
    "    age::Int\n",
    "end"
   ]
  },
  {
   "cell_type": "code",
   "execution_count": 12,
   "id": "7bbf09ad-b165-40d2-b5f5-87db9ad8b53d",
   "metadata": {},
   "outputs": [
    {
     "ename": "LoadError",
     "evalue": "setfield!: immutable struct of type Person cannot be changed",
     "output_type": "error",
     "traceback": [
      "setfield!: immutable struct of type Person cannot be changed",
      "",
      "Stacktrace:",
      " [1] \u001b[0m\u001b[1msetproperty!\u001b[22m\u001b[0m\u001b[1m(\u001b[22m\u001b[90mx\u001b[39m::\u001b[0mPerson, \u001b[90mf\u001b[39m::\u001b[0mSymbol, \u001b[90mv\u001b[39m::\u001b[0mInt64\u001b[0m\u001b[1m)\u001b[22m",
      "\u001b[90m   @\u001b[39m \u001b[90mBase\u001b[39m \u001b[90m./\u001b[39m\u001b[90m\u001b[4mBase.jl:41\u001b[24m\u001b[39m",
      " [2] top-level scope",
      "\u001b[90m   @\u001b[39m \u001b[90m\u001b[4mIn[12]:1\u001b[24m\u001b[39m"
     ]
    }
   ],
   "source": [
    "p.age = 31   # ✅ works in another world\n"
   ]
  },
  {
   "cell_type": "markdown",
   "id": "003584f0-deb8-49e6-851e-e295b2fcc23b",
   "metadata": {},
   "source": [
    "#### Are Structs Like Objects?\n",
    "Yes, but with differences:\n",
    "\n",
    "Feature\tJulia struct\tOOP Class (e.g., Python/Java)\n",
    "Fields\t✅ Yes\t✅ Yes\n",
    "Methods inside the type\t❌ No (defined outside)\t✅ Yes\n",
    "Inheritance\t❌ Limited\t✅ Full\n",
    "Constructors\t✅ Yes (default/custom)\t✅ Yes\n",
    "Encapsulation (private)\t❌ No true privacy\t✅ Yes"
   ]
  },
  {
   "cell_type": "markdown",
   "id": "c02bb385-33c8-4f68-9ea7-b728c2a52b04",
   "metadata": {},
   "source": [
    "#### Adding “Methods” — Via Functions"
   ]
  },
  {
   "cell_type": "code",
   "execution_count": 15,
   "id": "752227d7-eda9-4076-908a-656d35017141",
   "metadata": {},
   "outputs": [
    {
     "data": {
      "text/plain": [
       "\"Γεια σου, Μαρία!\""
      ]
     },
     "execution_count": 15,
     "metadata": {},
     "output_type": "execute_result"
    }
   ],
   "source": [
    "function greet(p::Person)\n",
    "    return \"Γεια σου, $(p.name)!\"\n",
    "end\n",
    "\n",
    "greet(p)   # \"Γεια σου, Μαρία!\""
   ]
  },
  {
   "cell_type": "markdown",
   "id": "c6029467-2176-46be-8bd2-db14eac111fa",
   "metadata": {},
   "source": [
    "#### Multiple Dispatch\n"
   ]
  },
  {
   "cell_type": "code",
   "execution_count": 18,
   "id": "59a803fb-c050-4d31-a73b-3131c1591be2",
   "metadata": {},
   "outputs": [
    {
     "data": {
      "text/plain": [
       "agegroup (generic function with 1 method)"
      ]
     },
     "execution_count": 18,
     "metadata": {},
     "output_type": "execute_result"
    }
   ],
   "source": [
    "\n",
    "function agegroup(p::Person)\n",
    "    if p.age < 18\n",
    "        return \"Παιδί\"\n",
    "    elseif p.age < 65\n",
    "        return \"Ενήλικας\"\n",
    "    else\n",
    "        return \"Συνταξιούχος\"\n",
    "    end\n",
    "end"
   ]
  },
  {
   "cell_type": "code",
   "execution_count": 20,
   "id": "fdbf8376-e014-4446-a7cf-932ce1610aaf",
   "metadata": {},
   "outputs": [
    {
     "data": {
      "text/plain": [
       "\"Ενήλικας\""
      ]
     },
     "execution_count": 20,
     "metadata": {},
     "output_type": "execute_result"
    }
   ],
   "source": [
    "agegroup(p)       #πρεπει να απαντησει για την Μαρία"
   ]
  },
  {
   "cell_type": "markdown",
   "id": "89ed5ab4-addf-4b3f-bf46-387a95bc5dcc",
   "metadata": {},
   "source": [
    "#### You can even define new methods with different types:"
   ]
  },
  {
   "cell_type": "code",
   "execution_count": 22,
   "id": "ed8a2daf-ff2c-4492-90c7-e88fd3b2d94c",
   "metadata": {},
   "outputs": [
    {
     "data": {
      "text/plain": [
       "\"Γεια σου, σκύλε Ρεξ!\""
      ]
     },
     "execution_count": 22,
     "metadata": {},
     "output_type": "execute_result"
    }
   ],
   "source": [
    "struct Dog\n",
    "    name::String\n",
    "end\n",
    "\n",
    "greet(d::Dog) = \"Γεια σου, σκύλε $(d.name)!\"\n",
    "\n",
    "greet(Dog(\"Ρεξ\"))  # → Γεια σου, σκύλε Ρεξ\n"
   ]
  },
  {
   "cell_type": "markdown",
   "id": "0091f225-f308-4df9-b2de-5048f7064b81",
   "metadata": {},
   "source": [
    "### Custom Constructors\n"
   ]
  },
  {
   "cell_type": "code",
   "execution_count": 26,
   "id": "7c532fb1-1b5c-442d-8129-c74efacbb847",
   "metadata": {},
   "outputs": [
    {
     "data": {
      "text/plain": [
       "Point(6.123233995736766e-17, 1.0)"
      ]
     },
     "execution_count": 26,
     "metadata": {},
     "output_type": "execute_result"
    }
   ],
   "source": [
    "\n",
    "struct Point\n",
    "    x::Float64\n",
    "    y::Float64\n",
    "\n",
    "    function Point(r::Real, θ::Real)\n",
    "        new(r * cos(θ), r * sin(θ))\n",
    "    end\n",
    "end\n",
    "\n",
    "p = Point(1.0, π/2)   # creates point (0.0, 1.0)"
   ]
  },
  {
   "cell_type": "markdown",
   "id": "6db4b880-a15e-4fd1-b6bb-1aa7672e8563",
   "metadata": {},
   "source": [
    "#### Pretty Printing"
   ]
  },
  {
   "cell_type": "code",
   "execution_count": 32,
   "id": "952da40e-f13a-4067-9a73-5fab30d4ad78",
   "metadata": {},
   "outputs": [],
   "source": [
    "Base.show(io::IO, p::Person) = print(io, \"$(p.name), $(p.age) ετών\")\n",
    "\n",
    "\n"
   ]
  },
  {
   "cell_type": "markdown",
   "id": "3acd780a-9458-4e54-9c0b-be7330f4f1fd",
   "metadata": {},
   "source": [
    "should print Μαρία , 30 ετών  αλλα μπερδεύτηκε διοτι π= καο person και point!!!!"
   ]
  },
  {
   "cell_type": "markdown",
   "id": "b7d911d5-37d3-4215-ad0b-9ee47ad050ec",
   "metadata": {},
   "source": [
    "#### Summary: What You Can Do with structs\n",
    "Capability\tSupported\n",
    "Hold named fields\t✅ Yes\n",
    "Be mutable\t✅ (with mutable struct)\n",
    "Define constructors\t✅ Yes\n",
    "Add behavior (methods)\t✅ Yes (with multiple dispatch)\n",
    "Overload operators\t✅ Yes\n",
    "Inheritance / subclasses\t❌ Not in classic OOP sense, but abstract types exist"
   ]
  }
 ],
 "metadata": {
  "kernelspec": {
   "display_name": "Julia 1.10.9",
   "language": "julia",
   "name": "julia-1.10"
  },
  "language_info": {
   "file_extension": ".jl",
   "mimetype": "application/julia",
   "name": "julia",
   "version": "1.10.9"
  }
 },
 "nbformat": 4,
 "nbformat_minor": 5
}
