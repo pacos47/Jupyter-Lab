{
 "cells": [
  {
   "cell_type": "markdown",
   "id": "8c671a9c-6fd1-4c2c-967f-a5ae1a0db82f",
   "metadata": {},
   "source": [
    "### Modules and Scoping"
   ]
  },
  {
   "cell_type": "code",
   "execution_count": 2,
   "id": "c93eab33-da1d-40b5-9406-9433ceeb538a",
   "metadata": {},
   "outputs": [
    {
     "data": {
      "text/plain": [
       "Main.MyModule"
      ]
     },
     "execution_count": 2,
     "metadata": {},
     "output_type": "execute_result"
    }
   ],
   "source": [
    "module MyModule\n",
    "    export greet\n",
    "    greet(name) = println(\"Hello, $name\")\n",
    "end"
   ]
  },
  {
   "cell_type": "code",
   "execution_count": 4,
   "id": "5d099306-c3c4-421d-8c09-46f78feb119e",
   "metadata": {},
   "outputs": [
    {
     "name": "stdout",
     "output_type": "stream",
     "text": [
      "Hello, Julia\n"
     ]
    }
   ],
   "source": [
    "using .MyModule\n",
    "greet(\"Julia\")"
   ]
  },
  {
   "cell_type": "code",
   "execution_count": null,
   "id": "c8a4cbc7-23a9-440f-8a5c-83a3eea60579",
   "metadata": {},
   "outputs": [],
   "source": []
  }
 ],
 "metadata": {
  "kernelspec": {
   "display_name": "Julia 1.10.9",
   "language": "julia",
   "name": "julia-1.10"
  },
  "language_info": {
   "file_extension": ".jl",
   "mimetype": "application/julia",
   "name": "julia",
   "version": "1.10.9"
  }
 },
 "nbformat": 4,
 "nbformat_minor": 5
}
