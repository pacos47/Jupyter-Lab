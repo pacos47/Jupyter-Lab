{
 "cells": [
  {
   "cell_type": "markdown",
   "id": "a7f8f5d4-ce74-44cf-a1d9-57305abd83d0",
   "metadata": {},
   "source": [
    "### CUSTOM STRUCT"
   ]
  },
  {
   "cell_type": "markdown",
   "id": "86f6d4ef-e4e3-4af3-b8ad-45131c67396f",
   "metadata": {},
   "source": [
    "##### custom structs in Julia are very similar to objects (classes) in object-oriented programming (OOP).\n",
    "They define new data types, \n",
    "and while they don’t hold methods inside like traditional classes, \n",
    "Julia gives you powerful ways to associate behavior (functions) with them \n",
    "##### via multiple dispatch.\n",
    "\n"
   ]
  },
  {
   "cell_type": "code",
   "execution_count": null,
   "id": "b309e36e-6dcb-499f-a015-e0b9e10c9bc0",
   "metadata": {},
   "outputs": [],
   "source": []
  }
 ],
 "metadata": {
  "kernelspec": {
   "display_name": "Julia 1.10.9",
   "language": "julia",
   "name": "julia-1.10"
  },
  "language_info": {
   "file_extension": ".jl",
   "mimetype": "application/julia",
   "name": "julia",
   "version": "1.10.9"
  }
 },
 "nbformat": 4,
 "nbformat_minor": 5
}
