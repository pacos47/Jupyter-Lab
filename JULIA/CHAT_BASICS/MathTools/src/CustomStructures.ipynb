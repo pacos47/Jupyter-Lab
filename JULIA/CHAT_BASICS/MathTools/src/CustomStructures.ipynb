{
 "cells": [
  {
   "cell_type": "markdown",
   "id": "a7f8f5d4-ce74-44cf-a1d9-57305abd83d0",
   "metadata": {},
   "source": [
    "### CUSTOM STRUCT"
   ]
  },
  {
   "cell_type": "code",
   "execution_count": null,
   "id": "7b5865d6-6b31-4fe7-a150-2bd79bc6cada",
   "metadata": {},
   "outputs": [],
   "source": []
  }
 ],
 "metadata": {
  "kernelspec": {
   "display_name": "Julia 1.10.9",
   "language": "julia",
   "name": "julia-1.10"
  },
  "language_info": {
   "file_extension": ".jl",
   "mimetype": "application/julia",
   "name": "julia",
   "version": "1.10.9"
  }
 },
 "nbformat": 4,
 "nbformat_minor": 5
}
