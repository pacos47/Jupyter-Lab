{
 "cells": [
  {
   "cell_type": "code",
   "execution_count": 3,
   "id": "07d85285-f1c9-43ed-aa80-7ecaa34e325c",
   "metadata": {},
   "outputs": [
    {
     "ename": "LoadError",
     "evalue": "The following package names could not be resolved:\n * Lumen (not found in project, manifest or registry)\n\u001b[36m   Suggestions:\u001b[39m F\u001b[0m\u001b[1ml\u001b[22m\u001b[0m\u001b[1mu\u001b[22mxperi\u001b[0m\u001b[1mm\u001b[22m\u001b[0m\u001b[1me\u001b[22m\u001b[0m\u001b[1mn\u001b[22mtal Mu\u001b[0m\u001b[1ml\u001b[22mtiDoc\u001b[0m\u001b[1mu\u001b[22m\u001b[0m\u001b[1mm\u001b[22m\u001b[0m\u001b[1me\u001b[22m\u001b[0m\u001b[1mn\u001b[22mter Sca\u001b[0m\u001b[1ml\u001b[22medN\u001b[0m\u001b[1mu\u001b[22m\u001b[0m\u001b[1mm\u001b[22mb\u001b[0m\u001b[1me\u001b[22mrsI\u001b[0m\u001b[1mn\u001b[22mput",
     "output_type": "error",
     "traceback": [
      "The following package names could not be resolved:\n * Lumen (not found in project, manifest or registry)\n\u001b[36m   Suggestions:\u001b[39m F\u001b[0m\u001b[1ml\u001b[22m\u001b[0m\u001b[1mu\u001b[22mxperi\u001b[0m\u001b[1mm\u001b[22m\u001b[0m\u001b[1me\u001b[22m\u001b[0m\u001b[1mn\u001b[22mtal Mu\u001b[0m\u001b[1ml\u001b[22mtiDoc\u001b[0m\u001b[1mu\u001b[22m\u001b[0m\u001b[1mm\u001b[22m\u001b[0m\u001b[1me\u001b[22m\u001b[0m\u001b[1mn\u001b[22mter Sca\u001b[0m\u001b[1ml\u001b[22medN\u001b[0m\u001b[1mu\u001b[22m\u001b[0m\u001b[1mm\u001b[22mb\u001b[0m\u001b[1me\u001b[22mrsI\u001b[0m\u001b[1mn\u001b[22mput",
      "",
      "Stacktrace:",
      " [1] \u001b[0m\u001b[1mpkgerror\u001b[22m\u001b[0m\u001b[1m(\u001b[22m\u001b[90mmsg\u001b[39m::\u001b[0mString\u001b[0m\u001b[1m)\u001b[22m",
      "\u001b[90m   @\u001b[39m \u001b[35mPkg.Types\u001b[39m \u001b[90m/opt/julia/share/julia/stdlib/v1.10/Pkg/src/\u001b[39m\u001b[90m\u001b[4mTypes.jl:70\u001b[24m\u001b[39m",
      " [2] \u001b[0m\u001b[1mensure_resolved\u001b[22m\u001b[0m\u001b[1m(\u001b[22m\u001b[90mctx\u001b[39m::\u001b[0mPkg.Types.Context, \u001b[90mmanifest\u001b[39m::\u001b[0mPkg.Types.Manifest, \u001b[90mpkgs\u001b[39m::\u001b[0mVector\u001b[90m{Pkg.Types.PackageSpec}\u001b[39m; \u001b[90mregistry\u001b[39m::\u001b[0mBool\u001b[0m\u001b[1m)\u001b[22m",
      "\u001b[90m   @\u001b[39m \u001b[35mPkg.Types\u001b[39m \u001b[90m/opt/julia/share/julia/stdlib/v1.10/Pkg/src/\u001b[39m\u001b[90m\u001b[4mTypes.jl:1045\u001b[24m\u001b[39m",
      " [3] \u001b[0m\u001b[1mensure_resolved\u001b[22m",
      "\u001b[90m   @\u001b[39m \u001b[90m/opt/julia/share/julia/stdlib/v1.10/Pkg/src/\u001b[39m\u001b[90m\u001b[4mTypes.jl:996\u001b[24m\u001b[39m\u001b[90m [inlined]\u001b[39m",
      " [4] \u001b[0m\u001b[1madd\u001b[22m\u001b[0m\u001b[1m(\u001b[22m\u001b[90mctx\u001b[39m::\u001b[0mPkg.Types.Context, \u001b[90mpkgs\u001b[39m::\u001b[0mVector\u001b[90m{Pkg.Types.PackageSpec}\u001b[39m; \u001b[90mpreserve\u001b[39m::\u001b[0mPkg.Types.PreserveLevel, \u001b[90mplatform\u001b[39m::\u001b[0mBase.BinaryPlatforms.Platform, \u001b[90mkwargs\u001b[39m::\u001b[0m@Kwargs\u001b[90m{io::IJulia.IJuliaStdio{Base.PipeEndpoint}}\u001b[39m\u001b[0m\u001b[1m)\u001b[22m",
      "\u001b[90m   @\u001b[39m \u001b[35mPkg.API\u001b[39m \u001b[90m/opt/julia/share/julia/stdlib/v1.10/Pkg/src/\u001b[39m\u001b[90m\u001b[4mAPI.jl:267\u001b[24m\u001b[39m",
      " [5] \u001b[0m\u001b[1madd\u001b[22m\u001b[0m\u001b[1m(\u001b[22m\u001b[90mpkgs\u001b[39m::\u001b[0mVector\u001b[90m{Pkg.Types.PackageSpec}\u001b[39m; \u001b[90mio\u001b[39m::\u001b[0mIJulia.IJuliaStdio\u001b[90m{Base.PipeEndpoint}\u001b[39m, \u001b[90mkwargs\u001b[39m::\u001b[0m@Kwargs\u001b[90m{}\u001b[39m\u001b[0m\u001b[1m)\u001b[22m",
      "\u001b[90m   @\u001b[39m \u001b[35mPkg.API\u001b[39m \u001b[90m/opt/julia/share/julia/stdlib/v1.10/Pkg/src/\u001b[39m\u001b[90m\u001b[4mAPI.jl:159\u001b[24m\u001b[39m",
      " [6] \u001b[0m\u001b[1madd\u001b[22m\u001b[0m\u001b[1m(\u001b[22m\u001b[90mpkgs\u001b[39m::\u001b[0mVector\u001b[90m{Pkg.Types.PackageSpec}\u001b[39m\u001b[0m\u001b[1m)\u001b[22m",
      "\u001b[90m   @\u001b[39m \u001b[35mPkg.API\u001b[39m \u001b[90m/opt/julia/share/julia/stdlib/v1.10/Pkg/src/\u001b[39m\u001b[90m\u001b[4mAPI.jl:148\u001b[24m\u001b[39m",
      " [7] \u001b[0m\u001b[1madd\u001b[22m",
      "\u001b[90m   @\u001b[39m \u001b[90m/opt/julia/share/julia/stdlib/v1.10/Pkg/src/\u001b[39m\u001b[90m\u001b[4mAPI.jl:147\u001b[24m\u001b[39m\u001b[90m [inlined]\u001b[39m",
      " [8] \u001b[0m\u001b[1madd\u001b[22m\u001b[0m\u001b[1m(\u001b[22m\u001b[90mpkg\u001b[39m::\u001b[0mString\u001b[0m\u001b[1m)\u001b[22m",
      "\u001b[90m   @\u001b[39m \u001b[35mPkg.API\u001b[39m \u001b[90m/opt/julia/share/julia/stdlib/v1.10/Pkg/src/\u001b[39m\u001b[90m\u001b[4mAPI.jl:146\u001b[24m\u001b[39m",
      " [9] top-level scope",
      "\u001b[90m   @\u001b[39m \u001b[90m\u001b[4mIn[3]:2\u001b[24m\u001b[39m"
     ]
    }
   ],
   "source": [
    "import Pkg\n",
    "Pkg.add(\"Lumen\")\n",
    "\n",
    "using Lumen, Observables\n",
    "\n",
    "x = Observable(1)\n",
    "\n",
    "ui = vbox(\n",
    "    slider(x, 1:10),\n",
    "    label(map(i -> \"Selected value: $i\", x))\n",
    ")\n",
    "\n",
    "preview(ui)"
   ]
  },
  {
   "cell_type": "code",
   "execution_count": null,
   "id": "023aa724-42ac-41a3-8107-8500addaf898",
   "metadata": {},
   "outputs": [],
   "source": []
  }
 ],
 "metadata": {
  "kernelspec": {
   "display_name": "Julia 1.10.9",
   "language": "julia",
   "name": "julia-1.10"
  },
  "language_info": {
   "file_extension": ".jl",
   "mimetype": "application/julia",
   "name": "julia",
   "version": "1.10.9"
  }
 },
 "nbformat": 4,
 "nbformat_minor": 5
}
