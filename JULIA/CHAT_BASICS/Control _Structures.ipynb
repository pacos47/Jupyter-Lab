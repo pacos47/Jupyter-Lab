{
 "cells": [
  {
   "cell_type": "markdown",
   "id": "17339ef2-1c9b-46e0-8cc1-01da6afb2998",
   "metadata": {},
   "source": [
    "### IF"
   ]
  },
  {
   "cell_type": "code",
   "execution_count": 8,
   "id": "67128d8b-69f9-4816-bfe4-a56d0459cf26",
   "metadata": {},
   "outputs": [
    {
     "name": "stdout",
     "output_type": "stream",
     "text": [
      "Big\n"
     ]
    }
   ],
   "source": [
    "x=7\n",
    "if x>5 println(\"Big\")\n",
    "elseif x==5 println(\"x=5\")\n",
    "else println(\"Small\")\n",
    "end"
   ]
  },
  {
   "cell_type": "markdown",
   "id": "f2df68bb-32c3-4f17-b789-f4e171a854bb",
   "metadata": {},
   "source": [
    "###### It works but cleaner:"
   ]
  },
  {
   "cell_type": "code",
   "execution_count": 11,
   "id": "064a5e2f-0444-44e0-bea7-db0221932bc3",
   "metadata": {},
   "outputs": [
    {
     "name": "stdout",
     "output_type": "stream",
     "text": [
      "Big\n"
     ]
    }
   ],
   "source": [
    "if x>5 \n",
    "    println(\"Big\")\n",
    "elseif x==5\n",
    "    println(\"x=5\")\n",
    "else \n",
    "    println(\"Small\")\n",
    "end"
   ]
  },
  {
   "cell_type": "markdown",
   "id": "c838e812-e14f-46ee-9e5d-fb6c38e8b377",
   "metadata": {},
   "source": [
    "### FOR"
   ]
  },
  {
   "cell_type": "code",
   "execution_count": 16,
   "id": "d7106c73-45c1-4120-96fa-90132087579d",
   "metadata": {},
   "outputs": [
    {
     "name": "stdout",
     "output_type": "stream",
     "text": [
      "123456"
     ]
    }
   ],
   "source": [
    "for j in 1:6\n",
    "    print(j)\n",
    "end"
   ]
  },
  {
   "cell_type": "markdown",
   "id": "cfcaefb7-2a68-4659-aec0-925010a8df54",
   "metadata": {},
   "source": [
    "### WHILE"
   ]
  },
  {
   "cell_type": "code",
   "execution_count": 30,
   "id": "3b5a32b8-c6e5-411c-b049-f60965622698",
   "metadata": {},
   "outputs": [
    {
     "name": "stdout",
     "output_type": "stream",
     "text": [
      "0  MamaMia.....2  MamaMia.....4  MamaMia....."
     ]
    }
   ],
   "source": [
    "i=0\n",
    "while i<5\n",
    "    print(\"$i  MamaMia.....\")\n",
    "    i += 2\n",
    "end"
   ]
  },
  {
   "cell_type": "code",
   "execution_count": null,
   "id": "b620e070-248f-415a-8baf-cc4ff3c03af7",
   "metadata": {},
   "outputs": [],
   "source": []
  }
 ],
 "metadata": {
  "kernelspec": {
   "display_name": "Julia 1.10.9",
   "language": "julia",
   "name": "julia-1.10"
  },
  "language_info": {
   "file_extension": ".jl",
   "mimetype": "application/julia",
   "name": "julia",
   "version": "1.10.9"
  }
 },
 "nbformat": 4,
 "nbformat_minor": 5
}
