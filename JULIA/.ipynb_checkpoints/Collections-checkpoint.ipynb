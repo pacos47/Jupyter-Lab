{
 "cells": [
  {
   "cell_type": "markdown",
   "id": "68663a4e-8074-4179-9ca2-4988b5f731b2",
   "metadata": {},
   "source": [
    "### COLLECTIONS"
   ]
  },
  {
   "cell_type": "code",
   "execution_count": null,
   "id": "6cb97a5f-e3c6-4f7b-b3aa-66d949302612",
   "metadata": {},
   "outputs": [],
   "source": []
  }
 ],
 "metadata": {
  "kernelspec": {
   "display_name": "Julia 1.10.9",
   "language": "julia",
   "name": "julia-1.10"
  },
  "language_info": {
   "file_extension": ".jl",
   "mimetype": "application/julia",
   "name": "julia",
   "version": "1.10.9"
  }
 },
 "nbformat": 4,
 "nbformat_minor": 5
}
