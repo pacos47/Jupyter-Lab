{
 "cells": [
  {
   "cell_type": "markdown",
   "id": "15fa8f2c-708d-49f4-b91a-fb0a519e0bdf",
   "metadata": {},
   "source": [
    "### Broadcasting and Vectorization"
   ]
  },
  {
   "cell_type": "code",
   "execution_count": null,
   "id": "051b018c-1503-426d-9735-e0ecc54bdf3f",
   "metadata": {},
   "outputs": [],
   "source": []
  }
 ],
 "metadata": {
  "kernelspec": {
   "display_name": "Julia 1.10.9",
   "language": "julia",
   "name": "julia-1.10"
  },
  "language_info": {
   "file_extension": ".jl",
   "mimetype": "application/julia",
   "name": "julia",
   "version": "1.10.9"
  }
 },
 "nbformat": 4,
 "nbformat_minor": 5
}
