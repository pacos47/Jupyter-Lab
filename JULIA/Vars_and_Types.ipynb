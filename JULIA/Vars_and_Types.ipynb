{
 "cells": [
  {
   "cell_type": "markdown",
   "id": "a8207676-68e2-4505-a0d8-6151485af04e",
   "metadata": {},
   "source": [
    "# BASICS"
   ]
  },
  {
   "cell_type": "code",
   "execution_count": 2,
   "id": "f4127e9c-9720-4348-bf1c-e96cc0900530",
   "metadata": {},
   "outputs": [
    {
     "data": {
      "text/plain": [
       "\"Julia\""
      ]
     },
     "execution_count": 2,
     "metadata": {},
     "output_type": "execute_result"
    }
   ],
   "source": [
    "# Comments\n",
    "# This is a comment\n",
    "\n",
    "# Variables\n",
    "x = 10\n",
    "y = 3.5\n",
    "name = \"Julia\"\n"
   ]
  },
  {
   "cell_type": "code",
   "execution_count": 4,
   "id": "f24e4a10-136a-4ab8-acbe-021a8ab17c79",
   "metadata": {},
   "outputs": [
    {
     "name": "stdout",
     "output_type": "stream",
     "text": [
      "Hello, Julia\n"
     ]
    }
   ],
   "source": [
    "# Printing\n",
    "println(\"Hello, $name\")  # String interpolation"
   ]
  },
  {
   "cell_type": "markdown",
   "id": "8894152d-33e6-45fe-850a-33464447c515",
   "metadata": {},
   "source": [
    "### Data Types"
   ]
  },
  {
   "cell_type": "code",
   "execution_count": 9,
   "id": "2cca0a17-0883-4699-868f-0b473a3b68bc",
   "metadata": {},
   "outputs": [
    {
     "data": {
      "text/plain": [
       "Int64"
      ]
     },
     "execution_count": 9,
     "metadata": {},
     "output_type": "execute_result"
    }
   ],
   "source": [
    "typeof(42)        # Int64\n",
    "#typeof(3.14)      # Float64\n",
    "#typeof(\"abc\")     # String\n",
    "#typeof(true)      # Bool"
   ]
  },
  {
   "cell_type": "code",
   "execution_count": 11,
   "id": "5e77ff59-37a2-4230-bb25-3ed9d261d1a4",
   "metadata": {},
   "outputs": [
    {
     "data": {
      "text/plain": [
       "Char"
      ]
     },
     "execution_count": 11,
     "metadata": {},
     "output_type": "execute_result"
    }
   ],
   "source": [
    "typeof('A')"
   ]
  },
  {
   "cell_type": "code",
   "execution_count": 13,
   "id": "bbb3346d-7a02-4e3c-b7f2-7a9992cf9d79",
   "metadata": {},
   "outputs": [
    {
     "data": {
      "text/plain": [
       "Vector{Int64}\u001b[90m (alias for \u001b[39m\u001b[90mArray{Int64, 1}\u001b[39m\u001b[90m)\u001b[39m"
      ]
     },
     "execution_count": 13,
     "metadata": {},
     "output_type": "execute_result"
    }
   ],
   "source": [
    "typeof([1,2,3])"
   ]
  },
  {
   "cell_type": "code",
   "execution_count": 15,
   "id": "da0b3457-2233-4f3c-8454-e1253906482d",
   "metadata": {},
   "outputs": [
    {
     "data": {
      "text/plain": [
       "2-element Vector{Int64}:\n",
       " 5\n",
       " 6"
      ]
     },
     "execution_count": 15,
     "metadata": {},
     "output_type": "execute_result"
    }
   ],
   "source": [
    "x=[5,6]"
   ]
  },
  {
   "cell_type": "code",
   "execution_count": 17,
   "id": "a62592e8-c767-4b9b-aa57-a045c404ecc4",
   "metadata": {},
   "outputs": [
    {
     "data": {
      "text/plain": [
       "Vector{Int64}\u001b[90m (alias for \u001b[39m\u001b[90mArray{Int64, 1}\u001b[39m\u001b[90m)\u001b[39m"
      ]
     },
     "execution_count": 17,
     "metadata": {},
     "output_type": "execute_result"
    }
   ],
   "source": [
    "typeof(x)"
   ]
  },
  {
   "cell_type": "code",
   "execution_count": 25,
   "id": "7ba9e644-ad93-4923-a4ab-0a6719d972e0",
   "metadata": {},
   "outputs": [
    {
     "data": {
      "text/plain": [
       "1×3 Matrix{Int64}:\n",
       " 1  2  3"
      ]
     },
     "execution_count": 25,
     "metadata": {},
     "output_type": "execute_result"
    }
   ],
   "source": [
    "y=[1 2 3]"
   ]
  },
  {
   "cell_type": "code",
   "execution_count": 23,
   "id": "7a24c390-6273-4031-9059-79e0e4d68d74",
   "metadata": {},
   "outputs": [
    {
     "data": {
      "text/plain": [
       "Matrix{Int64}\u001b[90m (alias for \u001b[39m\u001b[90mArray{Int64, 2}\u001b[39m\u001b[90m)\u001b[39m"
      ]
     },
     "execution_count": 23,
     "metadata": {},
     "output_type": "execute_result"
    }
   ],
   "source": [
    "typeof([1 2 3])"
   ]
  },
  {
   "cell_type": "markdown",
   "id": "246a380b-e90e-490b-8d84-5ce51eb5e216",
   "metadata": {},
   "source": [
    "##### Julia uses Vector{Int64} (instead of Array{Int64, 1})\n",
    "\n",
    "##### for better readability and adherence to mathematical conventions. Under the hood, they are \n",
    "### exactly the same type."
   ]
  },
  {
   "cell_type": "markdown",
   "id": "174d815b-eb63-451e-a0d7-508f8843ad71",
   "metadata": {},
   "source": [
    "### MATRIX\n",
    "##### exactly as in Matlab"
   ]
  },
  {
   "cell_type": "code",
   "execution_count": 2,
   "id": "ba367efd-a8fa-42ef-bea1-510ec3bdcb0c",
   "metadata": {},
   "outputs": [
    {
     "data": {
      "text/plain": [
       "2×3 Matrix{Int64}:\n",
       " 1  2  3\n",
       " 4  5  6"
      ]
     },
     "execution_count": 2,
     "metadata": {},
     "output_type": "execute_result"
    }
   ],
   "source": [
    "m=[1 2 3;4 5 6]"
   ]
  },
  {
   "cell_type": "code",
   "execution_count": 4,
   "id": "c29c6fce-ef8b-4485-9f4b-6aeb150805ff",
   "metadata": {},
   "outputs": [
    {
     "data": {
      "text/plain": [
       "3×3 Matrix{Int64}:\n",
       " 1  2  3\n",
       " 4  5  6\n",
       " 7  8  9"
      ]
     },
     "execution_count": 4,
     "metadata": {},
     "output_type": "execute_result"
    }
   ],
   "source": [
    "A = [1 2 3; 4 5 6; 7 8 9]\n"
   ]
  },
  {
   "cell_type": "code",
   "execution_count": null,
   "id": "07336ad2-a3a1-4727-a56a-1bd408fcdc3a",
   "metadata": {},
   "outputs": [],
   "source": []
  }
 ],
 "metadata": {
  "kernelspec": {
   "display_name": "Julia 1.10.9",
   "language": "julia",
   "name": "julia-1.10"
  },
  "language_info": {
   "file_extension": ".jl",
   "mimetype": "application/julia",
   "name": "julia",
   "version": "1.10.9"
  }
 },
 "nbformat": 4,
 "nbformat_minor": 5
}
