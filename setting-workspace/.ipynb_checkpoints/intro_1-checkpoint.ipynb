{
 "cells": [
  {
   "cell_type": "markdown",
   "id": "51edf4f6-6d33-4bc5-98e8-180911c8646a",
   "metadata": {
    "jp-MarkdownHeadingCollapsed": true
   },
   "source": [
    "## Remarks on starting lab\n",
    "\n",
    "I created anew directory for OCTAVE : \n",
    "\n",
    "/home/pacos/Documents/JUPYTER-LAB/OCTAVE/BASICS\n",
    "From within this dir (as suggsted so as to work from current directory)\\\n",
    "I asked for terminal and from terminal .....$jupyter-lab\n",
    "Two things :\n",
    "\n",
    "a. Creates Diredtories : anaconda_projects/db\\\n",
    "b. opens console tab and asks for which kernel\\\n",
    "         (both must be explained)\\\n",
    "aside console tab + = open new tab\\\n",
    "If pressed it brings all Jupyter lab icons including octave \\\n",
    "from there you choose and opens a third tab correspondingly\\\n",
    "\n",
    "#### the file cteated, say intro1.jpynb does not open with dooble click from nautilus \n"
   ]
  },
  {
   "cell_type": "markdown",
   "id": "10f361ff-e3a5-4d6d-b38c-30f22180d52a",
   "metadata": {},
   "source": [
    "# gpt\n",
    "How to Open a Jupyter Notebook Properly\n",
    "Option 1: Open from Terminal (Recommended)\n",
    "Open a terminal (Ctrl + Alt + T in Ubuntu).\n",
    "Navigate to the folder where your .ipynb file is located:\n",
    "bash\n",
    "Copy\n",
    "Edit\n",
    "cd /path/to/your/notebook/\n",
    "Run Jupyter Lab or Jupyter Notebook:\n",
    "bash\n",
    "Copy\n",
    "Edit\n",
    "jupyter lab\n",
    "or\n",
    "bash\n",
    "Copy\n",
    "Edit\n",
    "jupyter notebook\n",
    "This will open Jupyter in your default browser, and you can select the notebook to open.\n",
    "Option 2: Associate .ipynb Files with Jupyter\n",
    "If you want .ipynb files to open directly with Jupyter when double-clicked:\n",
    "\n",
    "Right-click the .ipynb file.\n",
    "Select Properties → Open With.\n",
    "Click Add Custom Command and enter:\n",
    "bash\n",
    "Copy\n",
    "Edit\n",
    "jupyter lab\n",
    "or\n",
    "bash\n",
    "Copy\n",
    "Edit\n",
    "jupyter notebook\n",
    "Click Set as Default.\n",
    "Now, double-clicking the .ipynb file should launch Jupyter correctly.\n",
    "\n",
    "Troubleshooting\n",
    "If jupyter lab is not found, install it with:\n",
    "bash\n",
    "Copy\n",
    "Edit\n",
    "pip install jupyterlab\n",
    "If Firefox opens but doesn't show Jupyter, check Jupyter’s status in the terminal. Try restarting it.\n",
    "# 44444444"
   ]
  },
  {
   "cell_type": "markdown",
   "id": "0713439e-bc58-4ca7-ba27-a49a5cb3c1fc",
   "metadata": {},
   "source": [
    "# gpt\n",
    "How to Open a Jupyter Notebook Properly\n",
    "Option 1: Open from Terminal (Recommended)\n",
    "Open a terminal (Ctrl + Alt + T in Ubuntu).\n",
    "Navigate to the folder where your .ipynb file is located:\n",
    "bash\n",
    "Copy\n",
    "Edit\n",
    "cd /path/to/your/notebook/\n",
    "Run Jupyter Lab or Jupyter Notebook:\n",
    "bash\n",
    "Copy\n",
    "Edit\n",
    "jupyter lab\n",
    "or\n",
    "bash\n",
    "Copy\n",
    "Edit\n",
    "jupyter notebook\n",
    "This will open Jupyter in your default browser, and you can select the notebook to open.\n",
    "Option 2: Associate .ipynb Files with Jupyter\n",
    "If you want .ipynb files to open directly with Jupyter when double-clicked:\n",
    "\n",
    "Right-click the .ipynb file.\n",
    "Select Properties → Open With.\n",
    "Click Add Custom Command and enter:\n",
    "bash\n",
    "Copy\n",
    "Edit\n",
    "jupyter lab\n",
    "or\n",
    "bash\n",
    "Copy\n",
    "Edit\n",
    "jupyter notebook\n",
    "Click Set as Default.\n",
    "Now, double-clicking the .ipynb file should launch Jupyter correctly.\n",
    "\n",
    "Troubleshooting\n",
    "If jupyter lab is not found, install it with:\n",
    "bash\n",
    "Copy\n",
    "Edit\n",
    "pip install jupyterlab\n",
    "If Firefox opens but doesn't show Jupyter, check Jupyter’s status in the terminal. Try restarting it.\n",
    "# 44444444"
   ]
  },
  {
   "cell_type": "code",
   "execution_count": null,
   "id": "b1eecce6-c8e1-4f06-993f-86829c185e70",
   "metadata": {},
   "outputs": [],
   "source": []
  },
  {
   "cell_type": "code",
   "execution_count": 1,
   "id": "e8b37381-4f60-4b2d-a848-35ef470f46b8",
   "metadata": {},
   "outputs": [
    {
     "name": "stdout",
     "output_type": "stream",
     "text": [
      "ans = 6\n"
     ]
    }
   ],
   "source": [
    "1+5\n"
   ]
  },
  {
   "cell_type": "code",
   "execution_count": 3,
   "id": "26047e33-6f57-487a-814d-73c27b907b29",
   "metadata": {},
   "outputs": [
    {
     "name": "stdout",
     "output_type": "stream",
     "text": [
      "ans =\n",
      "\n",
      "   1   2   3\n",
      "\n"
     ]
    }
   ],
   "source": [
    "[1 2 3]"
   ]
  },
  {
   "cell_type": "code",
   "execution_count": 5,
   "id": "0c83c66c-1ea2-4ca1-93e0-8948ad2aadce",
   "metadata": {},
   "outputs": [
    {
     "name": "stdout",
     "output_type": "stream",
     "text": [
      "ans =\n",
      "\n",
      "   1   2   3\n",
      "   4   5   6\n",
      "\n"
     ]
    }
   ],
   "source": [
    "[[1 2 3];[4 5 6]]"
   ]
  },
  {
   "cell_type": "code",
   "execution_count": null,
   "id": "8fa1a1c1-f2ea-4d9d-afde-95110c8911e4",
   "metadata": {},
   "outputs": [],
   "source": []
  }
 ],
 "metadata": {
  "kernelspec": {
   "display_name": "Octave [conda env:base] *",
   "language": "octave",
   "name": "conda-base-octave"
  },
  "language_info": {
   "file_extension": ".m",
   "help_links": [
    {
     "text": "GNU Octave",
     "url": "https://www.gnu.org/software/octave/support.html"
    },
    {
     "text": "Octave Kernel",
     "url": "https://github.com/Calysto/octave_kernel"
    },
    {
     "text": "MetaKernel Magics",
     "url": "https://metakernel.readthedocs.io/en/latest/source/README.html"
    }
   ],
   "mimetype": "text/x-octave",
   "name": "octave",
   "version": "6.4.0"
  }
 },
 "nbformat": 4,
 "nbformat_minor": 5
}
