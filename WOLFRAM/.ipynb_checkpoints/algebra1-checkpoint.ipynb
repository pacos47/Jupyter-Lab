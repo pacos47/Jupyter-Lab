{
 "cells": [
  {
   "cell_type": "code",
   "execution_count": 1,
   "id": "155d628d-5235-422b-8446-e4fd62df8878",
   "metadata": {},
   "outputs": [
    {
     "data": {
      "text/html": [
       "<div><pre style=\"&#102;&#111;&#110;&#116;&#45;&#102;&#97;&#109;&#105;&#108;&#121;&#58;&#32;&#34;&#67;&#111;&#117;&#114;&#105;&#101;&#114;&#32;&#78;&#101;&#119;&#34;&#44;&#67;&#111;&#117;&#114;&#105;&#101;&#114;&#44;&#109;&#111;&#110;&#111;&#115;&#112;&#97;&#99;&#101;&#59;\">&#52;</pre></div>"
      ],
      "text/plain": [
       "4"
      ]
     },
     "execution_count": 1,
     "metadata": {
      "text/html": [],
      "text/plain": []
     },
     "output_type": "execute_result"
    }
   ],
   "source": [
    "2+2"
   ]
  },
  {
   "cell_type": "code",
   "execution_count": 6,
   "id": "f9ccba4b-de90-46e3-b9dc-56f39dc3bcfc",
   "metadata": {},
   "outputs": [
    {
     "data": {
      "text/html": [
       "<div><img alt=\"Output\" src=\"data:image/png;base64,iVBORw0KGgoAAAANSUhEUgAAAFoAAAAWCAIAAADPUBxCAAAAz3pUWHRSYXcgcHJvZmlsZSB0eXBlIGV4aWYAAHjabU9RbgUhCPz3FD0CAg56HPc9X9Ib9Pgddm2bbd4kwjgMKGV9fb7KR0KrFG/RMQAhfPjQSdLlwpWrjDOeaHPX6l0vFVuflNpfAWvrx12P7df+b5DoRSxfIDffDXuQ6aXX/ZNj+3X2/nbQDyC/X397dwtFQw1ndJUIDPJeSJnQVFrghQdAY8VTxR/MCxFsQ6TDZjYmdMXdvQqMwjNXsDzNJrMxkrOVK5PXU3GDHqcrPbnON1CbWq04vzlrAAAACXBIWXMAAA7EAAAOxAGVKw4bAAAAPHRFWHRTb2Z0d2FyZQBDcmVhdGVkIHdpdGggdGhlIFdvbGZyYW0gTGFuZ3VhZ2UgOiB3d3cud29sZnJhbS5jb21coqaFAAAAIXRFWHRDcmVhdGlvbiBUaW1lADIwMjU6MDM6MjUgMDE6MTM6NDYYZAQDAAADZklEQVRYR+1X3St7cRy2ecvLBRlSoiyFNgsXlijsYi6WrOHeH2A1jbmREhdcuBXtajXEBW4oKzUv85qZlcgNs1hb69eyYSw8HL9jY+eczdnd9r067Xy+z/c5z/f5vIzz9vaWlFj/FeDGpxSLi4u1tbUikaitre3m5oYUIR7leH5+Pjo62tzctFgscrm8v7//2xNIlnheFxcXsAmpwJc7lpaW6uvrMzMzCwsL1Wq1z+djn0TLy8tisRiYRUVFXV1dZ2dn7DFjjgCSMpksxB2jo6Pp6ekjIyMbGxvT09NQRKFQsLTM7OxsVlbW8PAwMJGodXV1BQUFd3d3LGFjux0pA2s8PDyQsEl42t/fN5lM5E8rKytQy263szn75eXl6uqKRLi+vgamVqtlgxnbvVartbq6OpjkR5P9fcbt7S2oG43GGB6PFAUmnBkWc35+Pjk5eW9vj3h7f39fUlKCnGVDgB7z4OCgpqbm8vLyxxFh5IAQoG6z2WjYPD4+ejyeSOjCiqurq0KhUCqVBgIBqi2dnZ2VlZVPT08IUCqV5eXlwR7+vSsSAlSYLpcrOzu7uLgYjZZY5E2EkaO9vR3dmP5Tt7a2pqamGOUYGBggqlRPTw/aG0280+nMz89HrTk+Pk5JSUEXZE8gWswwyaLT6TIyMs7Pz9mzAYLD4djd3YVwuPnm5mZkAQ3swsJCWlpaVVVVb28vo9AR3kdUmD/l2NnZgRZQhIoNCuS/z7W2tjY5OUk8w7eM7L1eL8yp0WjoE5DH43E4HIyJsSIAboyYwWdxPiT5XCcnJy0tLX19fUNDQ1TtHbPDzMwM3qLcut1uVAQ8I7OwGCeC7u5u7Nre3qaKRO00GAxcLreiomJubi5sWLQEIsEMOYjQxmw25+XlDQ4OMt4zEcDoVcx1wa0aNZLP52MYo8KHMVNTU1HSMDjjQa/Xs8/WaDG/kuXw8DA3N7e1tRUfSS78SEOIUQ4YDaVxfHx8fX0dV93Y2Ijx9PT0NCwmhmC0EpVKRbwdGxvLycmhSZlI7uMPmF9yNDU1/XZmaWkpjRyotTA2TYDf75+YmBAIBChGGHM7OjpgQKp41M6ysjJ8ABGAftzQ0CCRSF5fX6m2MBL4AybO+q4djMkfDwHx+Aef5l4TcoSIk5AjIQd1tiTcEaLNOzXclVZU5EW+AAAAAElFTkSuQmCC\"></div>"
      ],
      "text/plain": [
       "           2\n",
       "2 + 3 x + x"
      ]
     },
     "execution_count": 6,
     "metadata": {
      "text/html": [],
      "text/plain": []
     },
     "output_type": "execute_result"
    }
   ],
   "source": [
    "Expand[(x + 1)(x + 2)]"
   ]
  },
  {
   "cell_type": "markdown",
   "id": "cfc77d21-0407-4834-809f-8fb1f15a7959",
   "metadata": {},
   "source": [
    "## In Mathematica (Wolfram Language), you can solve equations symbolically or numerically using the Solve, NSolve, DSolve (for differential equations), and FindRoot functions. Here’s a comprehensive guide:"
   ]
  },
  {
   "cell_type": "code",
   "execution_count": 15,
   "id": "4ca1768f-4800-4787-812d-574750ae632e",
   "metadata": {},
   "outputs": [
    {
     "data": {
      "text/html": [
       "<div><img alt=\"Output\" src=\"data:image/png;base64,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\"></div>"
      ],
      "text/plain": [
       "{{x -> -3}, {x -> 1}}"
      ]
     },
     "execution_count": 15,
     "metadata": {
      "text/html": [],
      "text/plain": []
     },
     "output_type": "execute_result"
    }
   ],
   "source": [
    "Solve[x^2 + 2x - 3 == 0, x]"
   ]
  },
  {
   "cell_type": "code",
   "execution_count": 15,
   "id": "debe2311-4910-4b8e-9c50-bdb0b95d74e9",
   "metadata": {},
   "outputs": [
    {
     "data": {
      "text/html": [
       "<div><img alt=\"Output\" src=\"data:image/png;base64,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\"></div>"
      ],
      "text/plain": [
       "                  2                             2\n",
       "       -b - Sqrt[b  - 4 a c]         -b + Sqrt[b  - 4 a c]\n",
       "{{x -> ---------------------}, {x -> ---------------------}}\n",
       "                2 a                           2 a"
      ]
     },
     "execution_count": 15,
     "metadata": {
      "text/html": [],
      "text/plain": []
     },
     "output_type": "execute_result"
    }
   ],
   "source": [
    "Solve[a x^2 + b x + c == 0, x]"
   ]
  },
  {
   "cell_type": "code",
   "execution_count": 39,
   "id": "7f8417cd-4b32-4871-b4b7-cb2f10e57a5d",
   "metadata": {},
   "outputs": [
    {
     "data": {
      "text/html": [
       "<div><img alt=\"Output\" src=\"data:image/png;base64,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\"></div>"
      ],
      "text/plain": [
       "            1/3             2/3\n",
       "{{x -> -(-1)   }, {x -> (-1)   }}"
      ]
     },
     "execution_count": 39,
     "metadata": {
      "text/html": [],
      "text/plain": []
     },
     "output_type": "execute_result"
    }
   ],
   "source": [
    "Solve[x^2 + x + 1 ==0 , x]"
   ]
  },
  {
   "cell_type": "markdown",
   "id": "2684bc26-554f-4029-a139-0bc895bd12e5",
   "metadata": {},
   "source": [
    "##  but th answer was :\n",
    "\n",
    "{{x-> -1(-1)^1/3} , {x-> 1(-1)^1/3}}\n",
    "This was the answer I expected.. but th answer was : {{x-> -1(-1)^1/3} , {x-> 1(-1)^1/3}}\n",
    "\n",
    "Pro Search\n",
    "## Ah, this is an interesting case of different but mathematically equivalent representations! Let's unpack why Mathematica shows this form and how it connects to the standard solution.\n",
    "\n",
    "Key Insight: Cube Roots of Unity\n",
    "The equation \n",
    "x\n",
    "2\n",
    "+\n",
    "x\n",
    "+\n",
    "1\n",
    "=\n",
    "0\n",
    "x \n",
    "2\n",
    " +x+1=0 is closely related to the cube roots of unity (solutions to \n",
    "x\n",
    "3\n",
    "=\n",
    "1\n",
    "x \n",
    "3\n",
    " =1). Specifically:\n",
    "x\n",
    "3\n",
    "−\n",
    "1\n",
    "=\n",
    "(\n",
    "x\n",
    "−\n",
    "1\n",
    ")\n",
    "(\n",
    "x\n",
    "2\n",
    "+\n",
    "x\n",
    "+\n",
    "1\n",
    ")\n",
    "x \n",
    "3\n",
    " −1=(x−1)(x \n",
    "2\n",
    " +x+1)\n",
    "\n",
    "Thus, the roots of your equation are the non-real cube roots of 1, which Mathematica expresses using radical notation.\n",
    "\n",
    "Why Mathematica Shows (-1)^(1/3)\n",
    "Radical Convention:\n",
    "Mathematica interprets \n",
    "(\n",
    "−\n",
    "1\n",
    ")\n",
    "1\n",
    "/\n",
    "3\n",
    "(−1) \n",
    "1/3\n",
    "  as the principal complex cube root of -1, not the real-valued root (-1). The principal root is:\n",
    "(\n",
    "−\n",
    "1\n",
    ")\n",
    "1\n",
    "/\n",
    "3\n",
    "=\n",
    "cos\n",
    "⁡\n",
    "(\n",
    "π\n",
    "3\n",
    ")\n",
    "+\n",
    "i\n",
    "sin\n",
    "⁡\n",
    "(\n",
    "π\n",
    "3\n",
    ")\n",
    "=\n",
    "1\n",
    "2\n",
    "+\n",
    "i\n",
    "3\n",
    "2\n",
    "(−1) \n",
    "1/3\n",
    " =cos( \n",
    "3\n",
    "π\n",
    " )+isin( \n",
    "3\n",
    "π\n",
    " )= \n",
    "2\n",
    "1\n",
    " +i \n",
    "2\n",
    "3\n",
    " \n",
    " \n",
    "\n",
    "Direct Connection to Your Solution:\n",
    "Multiply this principal root by -1 to match Mathematica's output:\n",
    "\n",
    "−\n",
    "(\n",
    "−\n",
    "1\n",
    ")\n",
    "1\n",
    "/\n",
    "3\n",
    "=\n",
    "−\n",
    "(\n",
    "1\n",
    "2\n",
    "+\n",
    "i\n",
    "3\n",
    "2\n",
    ")\n",
    "=\n",
    "−\n",
    "1\n",
    "±\n",
    "i\n",
    "3\n",
    "2\n",
    "−(−1) \n",
    "1/3\n",
    " =−( \n",
    "2\n",
    "1\n",
    " +i \n",
    "2\n",
    "3\n",
    " \n",
    " )= \n",
    "2\n",
    "−1±i \n",
    "3\n",
    " \n",
    " \n",
    "(The ± arises because there are two non-real roots)\n",
    "\n",
    "How to Get the Standard Form in Mathematica\n",
    "If you want the classic \n",
    "a\n",
    "+\n",
    "i\n",
    "b\n",
    "a+ib form, use:\n",
    "\n",
    "mathematica\n",
    "Solve[x^2 + x + 1 == 0, x] // ExpToTrig\n",
    "Output:\n",
    "\n",
    "text\n",
    "{{x -> -(1/2) - (I Sqrt[3])/2}, {x -> -(1/2) + (I Sqrt[3])/2}}\n",
    "Summary\n",
    "Mathematica's Output: Uses radical notation for roots of unity.\n",
    "\n",
    "Your Expected Form: Explicit complex numbers with \n",
    "i\n",
    "3\n",
    "i \n",
    "3\n",
    " .\n",
    "\n",
    "They’re Equivalent: Both represent the same solutions, just expressed differently. Use ExpToTrig for conversion if needed."
   ]
  },
  {
   "cell_type": "code",
   "execution_count": 44,
   "id": "49817312-4655-48b9-aa3e-9b7dd62becbf",
   "metadata": {},
   "outputs": [
    {
     "data": {
      "text/html": [
       "<div><img alt=\"Output\" src=\"data:image/png;base64,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\"></div>"
      ],
      "text/plain": [
       "         1    I                   1    I\n",
       "{{x -> -(-) - - Sqrt[3]}, {x -> -(-) + - Sqrt[3]}}\n",
       "         2    2                   2    2"
      ]
     },
     "execution_count": 44,
     "metadata": {
      "text/html": [],
      "text/plain": []
     },
     "output_type": "execute_result"
    }
   ],
   "source": [
    "Solve[x^2 + x + 1 == 0, x] // ExpToTrig"
   ]
  },
  {
   "cell_type": "markdown",
   "id": "671ae56b-3d99-4ba6-83fc-e3baee0d91b1",
   "metadata": {},
   "source": [
    "## Reduce \n",
    "In Mathematica, the Reduce function is used to find solutions to equations, inequalities, and systems of these, providing conditions under which the solutions are valid. It returns results in symbolic form, often expressed as logical statements that describe the solution set.\n",
    "\n",
    "Key Features of Reduce in Mathematica:\n",
    "Purpose: Solve equations or inequalities, and provide all possible solutions along with their conditions.\n",
    "\n",
    "Syntax:\n",
    "\n",
    "mathematica\n",
    "Reduce[expr, vars]\n",
    "Here, expr represents the equation or inequality to solve, and vars specifies the variables involved.\n",
    "\n",
    "Domains: You can specify the domain of solutions (e.g., integers, reals) using the syntax:\n",
    "\n",
    "mathematica\n",
    "Reduce[expr, vars, domain]\n",
    "Example:\n",
    "mathematica\n",
    "Reduce[x^2 - 4 == 0, x]\n",
    "\n",
    "Output:\n",
    "\n",
    "mathematica\n",
    "x == -2 || x == 2"
   ]
  },
  {
   "cell_type": "code",
   "execution_count": 6,
   "id": "99c8c87a-e4c2-453a-8dd3-9f16dd4cf9b6",
   "metadata": {},
   "outputs": [
    {
     "data": {
      "text/html": [
       "<div><img alt=\"Output\" src=\"data:image/png;base64,iVBORw0KGgoAAAANSUhEUgAAAHoAAAAWCAIAAACADR+SAAAAzXpUWHRSYXcgcHJvZmlsZSB0eXBlIGV4aWYAAHjabU9BDgMhCLz7ij4BAQd9jrt1k/6gzy+sts02nUQYhwExjefjSLcAZ0parKIB5NCmjbuTShMzZ2pnPGF91fJVTxlL7y6VbwFj6dtVt+Xn+jOIeBKJF5yLroY1SHjqeW2yLT/3Wv8OegP0Wf3vXcUYBdnUozKZoTmvyaknFKZiOLADbsy4M+nuecDM22DhkB6NAR52dY8EceEeX5A4Rbpn8eicQ5nch4hK5e10hSe+8wJT+VqzeYl5sAAAAAlwSFlzAAAOxAAADsQBlSsOGwAAADx0RVh0U29mdHdhcmUAQ3JlYXRlZCB3aXRoIHRoZSBXb2xmcmFtIExhbmd1YWdlIDogd3d3LndvbGZyYW0uY29tXKKmhQAAACF0RVh0Q3JlYXRpb24gVGltZQAyMDI1OjAzOjI1IDIzOjIwOjQ4f3PqbgAAA2hJREFUWEftWEtIalEUzYcVOqmoaBgJThpEk4oCJzVxVIRBQZJEQRJF9BHCokRs0rRR0yDIJtGoSRj4CaOoBMsoin6DavJS7EdRb4kPe1z1nHM71xuPPCP1rrP2Xsu99zmq+Pj4yMkuuRz4JVegbJyYA1m7Za2DrN0/zO6VlZW6ujq1Wl1WVjY2Nvbw8CCrARkIRlKEo/Ibl8PhyM/Pt9vtLpdrfn4ejhsMBmo+x8fH6+vr6WDkp1RyTgBZUQ4nO+f2ra2tzc3NBMnq6iqq7fr6mkzr8Xjm5ubSYchPOROmbicris1up9OpVCqBizdWNBotLy+3WCwZ6DMhZW1tbX19feLTmpoavD49Pc1o6IzqJSuK2d3e3t7a2trd3f3y8oK3ExMT8QZn1Hx2draxscEIJsNOTk4AqKiokIQtHYkovYeHh4lC/EJWQkXx7ri7uystLZ2ent7d3UWlu91uatcAcHNzMzQ01Nvbe3FxwYKnYpqbm/V6PRXGP0zY9YbDYavV2tnZGQwGqYklAwSKPmf38vJyXl5eZWXl4OAglff+/n5yctJkMuHLp4IZAQsLCyqV6ujoiIrntxshROm9vb0dGRnp6+s7Pz+nppcAJCv6tPvp6amkpEShUFxdXREYHx8fZ2dnjUYj+oAa+PX19XfSQqDkjT6fD14jPyonAJLYzaj333wuLy8HBgZGR0fhPjXPlIo+7QZLVVVVdXV1R0cHgWtpaUmn0+3s7FDjAXBwcIBpI1hra2uCvXt7e4WFhTgtWDilsptRryAljM2WlhabzUZONZ2iv3bjq8jNzfX7/YFAAC8WFxcJdJFIBPFwtIZCIUaDCDBkVlxcPD4+zk7FX92i9MYTw7jHr7D+/n5y9wNJUBSzGz/ktFrt8PBwnHdmZga1RiVFQ2GL2WzmOSe3t7eLiooaGxvhYGLhQ7L1nHaL1YvTcmpqqquri6W8yIpiduNs1Gg0SCIu8u3traGhoamp6f39nVpxuAX29PTgJktFpgRgLiXfrnDrz6jdovSiVNva2tD3jALJihRg+cJ1UrAFF3Zc1fl5GBm8Xu/+/j5OrZR48lPGEAmYtNKk+UdQTq/F+sWJl1aaNHZzSvo526UZJjL79fz8jB4vKChIGZf8VOZUBeH+S7u/1zKe6NlhwuOe6L1/AL2O3BG0XLdvAAAAAElFTkSuQmCC\"></div>"
      ],
      "text/plain": [
       "x < -2 || x > 2"
      ]
     },
     "execution_count": 6,
     "metadata": {
      "text/html": [],
      "text/plain": []
     },
     "output_type": "execute_result"
    }
   ],
   "source": [
    "Reduce[x^2 - 4 > 0, x]"
   ]
  },
  {
   "cell_type": "code",
   "execution_count": null,
   "id": "1f3d94ca-421b-4fc6-b2cd-f72929f8d456",
   "metadata": {},
   "outputs": [],
   "source": []
  },
  {
   "cell_type": "code",
   "execution_count": null,
   "id": "f32ef5a3-da81-4aec-9607-a2fb1672d1e6",
   "metadata": {},
   "outputs": [],
   "source": []
  }
 ],
 "metadata": {
  "kernelspec": {
   "display_name": "Wolfram Language 14.2",
   "language": "Wolfram Language",
   "name": "wolframlanguage14.2"
  },
  "language_info": {
   "codemirror_mode": "mathematica",
   "file_extension": ".m",
   "mimetype": "application/vnd.wolfram.m",
   "name": "Wolfram Language",
   "pygments_lexer": "mathematica",
   "version": "12.0"
  }
 },
 "nbformat": 4,
 "nbformat_minor": 5
}
