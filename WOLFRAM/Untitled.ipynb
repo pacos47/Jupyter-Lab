{
 "cells": [
  {
   "cell_type": "code",
   "execution_count": null,
   "id": "c0b0591c-d9bb-41d7-af1d-e2ab9c3a243f",
   "metadata": {},
   "outputs": [],
   "source": []
  },
  {
   "cell_type": "code",
   "execution_count": null,
   "id": "379ab405-9267-41d0-a67d-4e3d36058e87",
   "metadata": {},
   "outputs": [],
   "source": [
    "N[4!]"
   ]
  },
  {
   "cell_type": "code",
   "execution_count": null,
   "id": "bd10955d-00c6-43c8-a0d5-b602a1b122c6",
   "metadata": {},
   "outputs": [],
   "source": [
    "4!"
   ]
  },
  {
   "cell_type": "code",
   "execution_count": null,
   "id": "7ba121a4-d4cc-477e-9fe2-a304961ca1e2",
   "metadata": {},
   "outputs": [],
   "source": [
    "[4!]"
   ]
  },
  {
   "cell_type": "code",
   "execution_count": null,
   "id": "03476a5e-7459-4a8e-86eb-392abe7fc52e",
   "metadata": {},
   "outputs": [],
   "source": [
    "Print[4!]"
   ]
  },
  {
   "cell_type": "code",
   "execution_count": null,
   "id": "44098bdb-c676-4401-9a78-2fb2b72a4322",
   "metadata": {},
   "outputs": [],
   "source": [
    "Echo[4!]"
   ]
  },
  {
   "cell_type": "code",
   "execution_count": null,
   "id": "48d9b260-bca7-471a-aea2-101c347ca82c",
   "metadata": {},
   "outputs": [],
   "source": []
  }
 ],
 "metadata": {
  "kernelspec": {
   "display_name": "Wolfram Language 14.2",
   "language": "Wolfram Language",
   "name": "wolframlanguage14.2"
  },
  "language_info": {
   "name": ""
  }
 },
 "nbformat": 4,
 "nbformat_minor": 5
}
