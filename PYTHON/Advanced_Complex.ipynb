{
 "cells": [
  {
   "cell_type": "markdown",
   "id": "4547bb23-8abf-4554-8490-d3c7c4681c97",
   "metadata": {},
   "source": [
    "### more advanced complex number operations (like roots, equations, or signal processing)\n",
    "\n",
    "\n"
   ]
  },
  {
   "cell_type": "markdown",
   "id": "e47515e0-b956-406e-aad9-d57a888885a2",
   "metadata": {},
   "source": [
    "### e^x\n",
    "The most straightforward and accurate way to calculate \n",
    "$$e^x$$\n",
    "  for a single value is with the math.exp() function:"
   ]
  },
  {
   "cell_type": "code",
   "execution_count": 5,
   "id": "9feb1f13-9ee5-4b30-a053-8c2b09b1d2ec",
   "metadata": {},
   "outputs": [
    {
     "name": "stdout",
     "output_type": "stream",
     "text": [
      "e^3 is: 20.085536923187668\n"
     ]
    }
   ],
   "source": [
    "import math\n",
    "\n",
    "x = 3\n",
    "result = math.exp(x)\n",
    "print(\"e^3 is:\", result)  # Output: e^3 is: 20.085536923187668"
   ]
  },
  {
   "cell_type": "markdown",
   "id": "e5ea415e-b857-458c-9e10-4df5b62724b5",
   "metadata": {},
   "source": [
    "### Using NumPy (for arrays or element-wise calculation):\n",
    "\n"
   ]
  },
  {
   "cell_type": "code",
   "execution_count": 10,
   "id": "c7d44aaf-7d66-4dda-8cce-cf957046a435",
   "metadata": {},
   "outputs": [
    {
     "name": "stdout",
     "output_type": "stream",
     "text": [
      "[ 2.718282   7.3890557 20.085537  54.59815  ]\n"
     ]
    }
   ],
   "source": [
    "import numpy as np\n",
    "\n",
    "x = np.array([1., 2., 3., 4.], np.float32)\n",
    "result = np.exp(x)\n",
    "print(result)  # Output: [ 2.7182817  7.389056 20.085537 54.59815 ]"
   ]
  },
  {
   "cell_type": "markdown",
   "id": "caba9c06-f2a6-4283-ae19-7069c14c1d04",
   "metadata": {},
   "source": []
  },
  {
   "cell_type": "code",
   "execution_count": null,
   "id": "291d93ab-8ce5-426a-98c9-c732bc072846",
   "metadata": {},
   "outputs": [],
   "source": []
  },
  {
   "cell_type": "code",
   "execution_count": null,
   "id": "2ec998fb-7cf6-4f4a-b18d-7e5bac568068",
   "metadata": {},
   "outputs": [],
   "source": []
  },
  {
   "cell_type": "code",
   "execution_count": null,
   "id": "665acec6-7ada-484e-ab9f-69726b2520eb",
   "metadata": {},
   "outputs": [],
   "source": []
  },
  {
   "cell_type": "code",
   "execution_count": null,
   "id": "7e64f10f-cd0e-4878-91fe-744c9f4b55bc",
   "metadata": {},
   "outputs": [],
   "source": []
  },
  {
   "cell_type": "markdown",
   "id": "e09fea00-4078-4351-bcc3-8063680649b9",
   "metadata": {},
   "source": [
    "## Euler's Formula:\n",
    "\n",
    "\n",
    "\n",
    "$e^{ix}\n",
    " =cos(x)+isin(x)$"
   ]
  },
  {
   "cell_type": "markdown",
   "id": "202b7a41-f9fe-49d5-9fcb-831cc2d34aa3",
   "metadata": {},
   "source": [
    "#### Using numpy"
   ]
  },
  {
   "cell_type": "code",
   "execution_count": 6,
   "id": "d68adf9a-0fe9-4c1c-97be-932c86edbe85",
   "metadata": {},
   "outputs": [
    {
     "name": "stdout",
     "output_type": "stream",
     "text": [
      "(-1+1.2246467991473532e-16j)\n"
     ]
    }
   ],
   "source": [
    "import numpy as np\n",
    "\n",
    "x = np.pi\n",
    "z = np.exp(1j * x)\n",
    "print(z)  # Output: (-1+1.2246467991473532e-16j)"
   ]
  },
  {
   "cell_type": "markdown",
   "id": "f36ec9ea-f6a6-4923-a57f-cc2a24eab826",
   "metadata": {},
   "source": [
    "#### Using cmath"
   ]
  },
  {
   "cell_type": "code",
   "execution_count": 8,
   "id": "ac34f987-6bf2-4ce7-a455-caf9b89985e7",
   "metadata": {},
   "outputs": [
    {
     "name": "stdout",
     "output_type": "stream",
     "text": [
      "e^(i * 1.0) = (0.5403023058681398+0.8414709848078965j)\n"
     ]
    }
   ],
   "source": [
    "import cmath\n",
    "\n",
    "# Define x (real number)\n",
    "x = 1.0\n",
    "\n",
    "# Calculate e^(ix)\n",
    "result = cmath.exp(1j * x)\n",
    "\n",
    "print(f\"e^(i * {x}) = {result}\")"
   ]
  },
  {
   "cell_type": "code",
   "execution_count": null,
   "id": "0855cd8d-f78a-4e25-af32-911ed74bb4af",
   "metadata": {},
   "outputs": [],
   "source": []
  },
  {
   "cell_type": "code",
   "execution_count": null,
   "id": "9c3a9b72-6238-4456-8e39-fc7d7accaf28",
   "metadata": {},
   "outputs": [],
   "source": []
  },
  {
   "cell_type": "markdown",
   "id": "f6a92fc5-d8a2-415b-b723-1eb6e983b45a",
   "metadata": {},
   "source": []
  },
  {
   "cell_type": "markdown",
   "id": "f02fa97c-7138-4e77-b9db-51309dc5cbe9",
   "metadata": {},
   "source": [
    "#### Using NumPy for Arrays\n",
    "If you need to compute \n",
    "$e^{jx}$\n",
    "  element-wise for an array of values, NumPy's np.exp() function can be used with complex numbers."
   ]
  },
  {
   "cell_type": "code",
   "execution_count": 14,
   "id": "42e4d3a6-01f6-44dc-82fa-8c64a20f64f8",
   "metadata": {},
   "outputs": [
    {
     "name": "stdout",
     "output_type": "stream",
     "text": [
      "e^(i * x) values:\n",
      "[ 1.0000000e+00+0.0000000e+00j  6.1232340e-17+1.0000000e+00j\n",
      " -1.0000000e+00+1.2246468e-16j -1.8369702e-16-1.0000000e+00j]\n"
     ]
    }
   ],
   "source": [
    "import numpy as np\n",
    "\n",
    "# Define an array of x values\n",
    "x_values = np.array([0, np.pi/2, np.pi, 3*np.pi/2])\n",
    "\n",
    "# Calculate e^(ix) for each element\n",
    "results = np.exp(1j * x_values)\n",
    "\n",
    "print(\"e^(i * x) values:\")\n",
    "print(results)"
   ]
  },
  {
   "cell_type": "markdown",
   "id": "377e5233-2769-43c5-a9bc-25217b731306",
   "metadata": {},
   "source": [
    "### FFT"
   ]
  },
  {
   "cell_type": "code",
   "execution_count": 17,
   "id": "0fd47a09-e0e6-4359-ac17-5deafb7aceef",
   "metadata": {},
   "outputs": [
    {
     "name": "stdout",
     "output_type": "stream",
     "text": [
      "[10.+0.j -2.+2.j -2.+0.j -2.-2.j]\n"
     ]
    }
   ],
   "source": [
    "import numpy as np\n",
    "\n",
    "x = np.array([1, 2, 3, 4])  # Time-domain signal\n",
    "X = np.fft.fft(x)  # Frequency-domain representation\n",
    "print(X)\n",
    " \n"
   ]
  },
  {
   "cell_type": "markdown",
   "id": "ffd93440-663c-4e0a-8867-55d50cd37830",
   "metadata": {},
   "source": [
    "### explanation\n",
    "\n",
    "Sure! Let's break down the lines of the code you've provided step by step:\n",
    "\n",
    "1. **Importing NumPy Library**:\n",
    "   ```python\n",
    "   import numpy as np\n",
    "   ```\n",
    "   This line imports the NumPy library, which is a popular library in Python for numerical computations. We use `np` as a shorthand to easily reference functions and features from the NumPy library.\n",
    "\n",
    "2. **Creating a Time-Domain Signal**:\n",
    "   ```python\n",
    "   x = np.array([1, 2, 3, 4]) # Time-domain signal\n",
    "   ```\n",
    "   Here, we create a NumPy array named `x` that contains four elements: 1, 2, 3, and 4. This array represents a signal in the time domain, meaning it shows the amplitude of the signal at different time intervals.\n",
    "\n",
    "3. **Computing the Frequency-Domain Representation**:\n",
    "   ```python\n",
    "   X = np.fft.fft(x) # Frequency-domain representation\n",
    "   ```\n",
    "   This line uses the Fast Fourier Transform (FFT), a mathematical algorithm implemented in NumPy under the name `np.fft.fft`. The FFT converts the time-domain signal `x` into its frequency-domain representation `X`. This means it transforms the time signal into a form that shows how much of each frequency exists in the original signal.\n",
    "\n",
    "4. **Printing the Result**:\n",
    "   ```python\n",
    "   print(X)\n",
    "   ```\n",
    "   Finally, this line prints the frequency-domain representation `X` to the console, allowing you to see the results of the FFT.\n",
    "\n",
    "In summary, the code imports NumPy, creates a simple time-domain signal, converts it to the frequency domain using the Fast Fourier Transform, and prints the resulting frequency components."
   ]
  },
  {
   "cell_type": "markdown",
   "id": "32d7887f-6028-4007-a4d6-e8de7d597228",
   "metadata": {},
   "source": [
    "## Roots of Unity\n",
    "The n-th roots of unity are the complex numbers satisfying:\n",
    "\n",
    "𝑧\n",
    "𝑛\n",
    "=\n",
    "1\n",
    "z \n",
    "n\n",
    " =1\n",
    "They are evenly spaced on the unit circle.\n",
    "\n",
    "Formula:\n",
    "\n",
    "𝜔\n",
    "𝑘\n",
    "=\n",
    "𝑒\n",
    "2\n",
    "𝜋\n",
    "𝑖\n",
    "𝑘\n",
    "/\n",
    "𝑛\n",
    ",\n",
    "𝑘\n",
    "=\n",
    "0\n",
    ",\n",
    "1\n",
    ",\n",
    ".\n",
    ".\n",
    ".\n",
    ",\n",
    "𝑛\n",
    "−\n",
    "1\n",
    "\n",
    "ω \n",
    "k\n",
    "​\n",
    " =e \n",
    "2πik/n\n",
    " ,k=0,1,...,n−1"
   ]
  },
  {
   "cell_type": "code",
   "execution_count": 23,
   "id": "71ed196f-0ee7-47e1-b523-26dc88453379",
   "metadata": {},
   "outputs": [
    {
     "name": "stdout",
     "output_type": "stream",
     "text": [
      "[(1+0j), (0.7071067811865476+0.7071067811865475j), (6.123233995736766e-17+1j), (-0.7071067811865475+0.7071067811865476j), (-1+1.2246467991473532e-16j), (-0.7071067811865477-0.7071067811865475j), (-1.8369701987210297e-16-1j), (0.7071067811865474-0.7071067811865477j)]\n"
     ]
    }
   ],
   "source": [
    "n = 8\n",
    "roots = [np.exp(2j * np.pi * k / n) for k in range(n)]\n",
    "print(roots)"
   ]
  },
  {
   "cell_type": "code",
   "execution_count": null,
   "id": "492d84ef-c0fe-4879-a01c-20fa08fe8933",
   "metadata": {},
   "outputs": [],
   "source": []
  },
  {
   "cell_type": "code",
   "execution_count": null,
   "id": "9e10a48e-7b9c-45d7-b93e-bb35db91e4ab",
   "metadata": {},
   "outputs": [],
   "source": []
  }
 ],
 "metadata": {
  "kernelspec": {
   "display_name": "Python 3 (ipykernel)",
   "language": "python",
   "name": "python3"
  },
  "language_info": {
   "codemirror_mode": {
    "name": "ipython",
    "version": 3
   },
   "file_extension": ".py",
   "mimetype": "text/x-python",
   "name": "python",
   "nbconvert_exporter": "python",
   "pygments_lexer": "ipython3",
   "version": "3.12.2"
  }
 },
 "nbformat": 4,
 "nbformat_minor": 5
}
