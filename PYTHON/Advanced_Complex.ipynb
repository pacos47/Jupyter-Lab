{
 "cells": [
  {
   "cell_type": "markdown",
   "id": "4547bb23-8abf-4554-8490-d3c7c4681c97",
   "metadata": {},
   "source": [
    "### more advanced complex number operations (like roots, equations, or signal processing)\n",
    "\n",
    "\n"
   ]
  },
  {
   "cell_type": "markdown",
   "id": "e09fea00-4078-4351-bcc3-8063680649b9",
   "metadata": {},
   "source": [
    "## Euler's Formula:\n",
    "\n",
    "\n",
    "\n",
    "$e^{ix}\n",
    " =cos(x)+isin(x)$"
   ]
  },
  {
   "cell_type": "markdown",
   "id": "202b7a41-f9fe-49d5-9fcb-831cc2d34aa3",
   "metadata": {},
   "source": [
    "#### Using numpy"
   ]
  },
  {
   "cell_type": "code",
   "execution_count": 6,
   "id": "d68adf9a-0fe9-4c1c-97be-932c86edbe85",
   "metadata": {},
   "outputs": [
    {
     "name": "stdout",
     "output_type": "stream",
     "text": [
      "(-1+1.2246467991473532e-16j)\n"
     ]
    }
   ],
   "source": [
    "import numpy as np\n",
    "\n",
    "x = np.pi\n",
    "z = np.exp(1j * x)\n",
    "print(z)  # Output: (-1+1.2246467991473532e-16j)"
   ]
  },
  {
   "cell_type": "markdown",
   "id": "f36ec9ea-f6a6-4923-a57f-cc2a24eab826",
   "metadata": {},
   "source": [
    "#### Using cmath"
   ]
  },
  {
   "cell_type": "code",
   "execution_count": 8,
   "id": "ac34f987-6bf2-4ce7-a455-caf9b89985e7",
   "metadata": {},
   "outputs": [
    {
     "name": "stdout",
     "output_type": "stream",
     "text": [
      "e^(i * 1.0) = (0.5403023058681398+0.8414709848078965j)\n"
     ]
    }
   ],
   "source": [
    "import cmath\n",
    "\n",
    "# Define x (real number)\n",
    "x = 1.0\n",
    "\n",
    "# Calculate e^(ix)\n",
    "result = cmath.exp(1j * x)\n",
    "\n",
    "print(f\"e^(i * {x}) = {result}\")"
   ]
  },
  {
   "cell_type": "markdown",
   "id": "f6a92fc5-d8a2-415b-b723-1eb6e983b45a",
   "metadata": {},
   "source": []
  },
  {
   "cell_type": "markdown",
   "id": "f02fa97c-7138-4e77-b9db-51309dc5cbe9",
   "metadata": {},
   "source": [
    "#### Using NumPy for Arrays\n",
    "If you need to compute \n",
    "$e^{jx}$\n",
    "  element-wise for an array of values, NumPy's np.exp() function can be used with complex numbers."
   ]
  },
  {
   "cell_type": "code",
   "execution_count": 14,
   "id": "42e4d3a6-01f6-44dc-82fa-8c64a20f64f8",
   "metadata": {},
   "outputs": [
    {
     "name": "stdout",
     "output_type": "stream",
     "text": [
      "e^(i * x) values:\n",
      "[ 1.0000000e+00+0.0000000e+00j  6.1232340e-17+1.0000000e+00j\n",
      " -1.0000000e+00+1.2246468e-16j -1.8369702e-16-1.0000000e+00j]\n"
     ]
    }
   ],
   "source": [
    "import numpy as np\n",
    "\n",
    "# Define an array of x values\n",
    "x_values = np.array([0, np.pi/2, np.pi, 3*np.pi/2])\n",
    "\n",
    "# Calculate e^(ix) for each element\n",
    "results = np.exp(1j * x_values)\n",
    "\n",
    "print(\"e^(i * x) values:\")\n",
    "print(results)"
   ]
  },
  {
   "cell_type": "code",
   "execution_count": null,
   "id": "0a32940f-f31e-4079-b15b-8febc92b78ce",
   "metadata": {},
   "outputs": [],
   "source": []
  },
  {
   "cell_type": "code",
   "execution_count": null,
   "id": "0fd47a09-e0e6-4359-ac17-5deafb7aceef",
   "metadata": {},
   "outputs": [],
   "source": []
  },
  {
   "cell_type": "code",
   "execution_count": null,
   "id": "16e385c2-90ce-4741-b28e-8582eb088775",
   "metadata": {},
   "outputs": [],
   "source": []
  }
 ],
 "metadata": {
  "kernelspec": {
   "display_name": "Python 3 (ipykernel)",
   "language": "python",
   "name": "python3"
  },
  "language_info": {
   "codemirror_mode": {
    "name": "ipython",
    "version": 3
   },
   "file_extension": ".py",
   "mimetype": "text/x-python",
   "name": "python",
   "nbconvert_exporter": "python",
   "pygments_lexer": "ipython3",
   "version": "3.12.2"
  }
 },
 "nbformat": 4,
 "nbformat_minor": 5
}
