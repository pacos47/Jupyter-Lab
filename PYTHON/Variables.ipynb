{
 "cells": [
  {
   "cell_type": "markdown",
   "id": "f77f9f8c-344e-403b-864c-dc1e1ac044c1",
   "metadata": {},
   "source": [
    "## python variables"
   ]
  },
  {
   "cell_type": "code",
   "execution_count": 3,
   "id": "82c13f37-60b2-4cb3-89d1-375c3b0e7c2c",
   "metadata": {},
   "outputs": [
    {
     "name": "stdout",
     "output_type": "stream",
     "text": [
      "<class 'int'>\n",
      "t is : <class 'int'>\n",
      "<class 'type'>\n",
      "3\n",
      "<class 'int'>\n",
      "7\n",
      "7\n",
      "type of pi is <class 'float'>\n",
      "type of name is: <class 'str'>\n",
      "120.0\n",
      "3.141592653589793\n"
     ]
    }
   ],
   "source": [
    "import math\n",
    "x = 3\n",
    "name = \"Κώστας\"\n",
    "pi = 3.14   #THE pi is math.pi\n",
    "print(type(x))\n",
    "t=type(x)\n",
    "tt=type(t)\n",
    "print(\"t is :\",t)\n",
    "#print(t[0])  error: not subscriptable\n",
    "print(tt)\n",
    "print(x)\n",
    "print(type(22))\n",
    "print(\"7\")\n",
    "print(7)\n",
    "print(\"type of pi is\",type(pi))\n",
    "print(\"type of name is:\", type(name))\n",
    "# y=pi*100\n",
    "print(1.2E2)\n",
    "#print(piE2) #error enw to pi einai orismeno\n",
    "print(math.pi)\n",
    "# comment added\n",
    "# new comment added at the origin(git-hub file) by some malicious person"
   ]
  },
  {
   "cell_type": "code",
   "execution_count": null,
   "id": "d0dcf6e2-fb9e-44fb-bb67-78ebb072e4fb",
   "metadata": {},
   "outputs": [],
   "source": []
  }
 ],
 "metadata": {
  "kernelspec": {
   "display_name": "Python [conda env:base] *",
   "language": "python",
   "name": "conda-base-py"
  },
  "language_info": {
   "codemirror_mode": {
    "name": "ipython",
    "version": 3
   },
   "file_extension": ".py",
   "mimetype": "text/x-python",
   "name": "python",
   "nbconvert_exporter": "python",
   "pygments_lexer": "ipython3",
   "version": "3.11.7"
  }
 },
 "nbformat": 4,
 "nbformat_minor": 5
}
