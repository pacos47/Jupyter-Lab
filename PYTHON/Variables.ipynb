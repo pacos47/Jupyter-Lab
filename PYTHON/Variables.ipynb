{
 "cells": [
  {
   "cell_type": "markdown",
   "id": "f77f9f8c-344e-403b-864c-dc1e1ac044c1",
   "metadata": {},
   "source": [
    "## python variables"
   ]
  },
  {
   "cell_type": "markdown",
   "id": "3a8c21e2-e3b1-449a-ac59-8adc95dc1da1",
   "metadata": {},
   "source": [
    "### 🟢 Creating Variables\n",
    "Python uses a simple syntax:\n",
    "\n",
    "python\n",
    "Copy\n",
    "Edit\n",
    "x = 5           # Integer\n",
    "name = \"Alice\"  # String\n",
    "pi = 3.14       # Float\n",
    "is_valid = True # Boolean\n",
    "You don’t need to declare the type—Python figures it out automatically.\n",
    "\n",
    "✏️ Variable Naming Rules\n",
    "Must start with a letter (a–z, A–Z) or an underscore (_)\n",
    "\n",
    "Can contain letters, numbers, and underscores\n",
    "\n",
    "Case-sensitive (myVar and myvar are different)\n",
    "\n",
    "Avoid using Python keywords (like class, def, if, etc.)\n",
    "\n",
    "Examples of valid names:\n",
    "\n",
    "python\n",
    "Copy\n",
    "Edit\n",
    "age = 25\n",
    "_userName = \"Bob\"\n",
    "total_3 = 100\n",
    "Invalid:\n",
    "\n",
    "python\n",
    "Copy\n",
    "Edit\n",
    "3total = 100     # Starts with a number\n",
    "user-name = \"Sam\" # Hyphen not allowed\n",
    "📦 Changing the Value\n",
    "Variables can change type:\n",
    "\n",
    "python\n",
    "Copy\n",
    "Edit\n",
    "x = 10\n",
    "x = \"Now I'm a string!\"\n",
    "🔄 Multiple Assignments\n",
    "python\n",
    "Copy\n",
    "Edit\n",
    "a, b, c = 1, 2, 3\n",
    "x = y = z = 0     # All assigned 0\n",
    "🧪 Check Type\n",
    "python\n",
    "Copy\n",
    "Edit\n",
    "print(type(x))"
   ]
  },
  {
   "cell_type": "code",
   "execution_count": 1,
   "id": "c2efd43e-3543-452e-aae6-f56bc2a3ca87",
   "metadata": {},
   "outputs": [],
   "source": [
    "x = 5           # Integer\n",
    "name = \"Alice\"  # String\n",
    "pi = 3.14       # Float\n",
    "is_valid = True # Boolean"
   ]
  },
  {
   "cell_type": "code",
   "execution_count": null,
   "id": "e62f131f-cfc6-4bab-bde1-e7db2ff6522b",
   "metadata": {},
   "outputs": [],
   "source": []
  },
  {
   "cell_type": "code",
   "execution_count": null,
   "id": "7882558b-d047-4e3d-8f7b-0804853a3bba",
   "metadata": {},
   "outputs": [],
   "source": []
  },
  {
   "cell_type": "code",
   "execution_count": null,
   "id": "3475851f-8694-4645-b482-a5435fd002ac",
   "metadata": {},
   "outputs": [],
   "source": []
  },
  {
   "cell_type": "code",
   "execution_count": 13,
   "id": "d61729f7-c161-47a3-9fdb-a09de30b7f40",
   "metadata": {},
   "outputs": [],
   "source": [
    "# valid\n",
    "age = 25\n",
    "_userName = \"Bob\"\n",
    "total_3 = 100\n"
   ]
  },
  {
   "cell_type": "code",
   "execution_count": null,
   "id": "654336d2-fe1f-4362-8b95-0f0808babfa5",
   "metadata": {},
   "outputs": [],
   "source": [
    "3total = 100     # Starts with a number\n",
    "user-name = \"Sam\" # Hyphen not allowed"
   ]
  },
  {
   "cell_type": "code",
   "execution_count": 15,
   "id": "430cf8b2-b231-42e1-9197-f5c4def13ee2",
   "metadata": {},
   "outputs": [
    {
     "name": "stdout",
     "output_type": "stream",
     "text": [
      "<class 'int'>\n",
      "<class 'str'>\n"
     ]
    }
   ],
   "source": [
    "x = 10\n",
    "print(type(x))\n",
    "x = \"Now I'm a string!\"\n",
    "print(type(x))"
   ]
  },
  {
   "cell_type": "code",
   "execution_count": null,
   "id": "9b7d0eac-ffae-4e52-bd9c-05d5f2070d26",
   "metadata": {},
   "outputs": [],
   "source": [
    "## Multiple Assignments\n",
    "\n",
    "a, b, c = 1, 2, 3\n",
    "x = y = z = 0     # All assigned 0"
   ]
  },
  {
   "cell_type": "code",
   "execution_count": null,
   "id": "2148ffa3-6b0a-4617-8d37-7254d7d8d602",
   "metadata": {},
   "outputs": [],
   "source": []
  },
  {
   "cell_type": "code",
   "execution_count": null,
   "id": "4b8de88f-2083-4f13-856b-2108b612ebe7",
   "metadata": {},
   "outputs": [],
   "source": []
  },
  {
   "cell_type": "code",
   "execution_count": null,
   "id": "15a8d58f-6518-41b9-9dbd-3e4417ad3bda",
   "metadata": {},
   "outputs": [],
   "source": []
  },
  {
   "cell_type": "code",
   "execution_count": 3,
   "id": "82c13f37-60b2-4cb3-89d1-375c3b0e7c2c",
   "metadata": {},
   "outputs": [
    {
     "name": "stdout",
     "output_type": "stream",
     "text": [
      "<class 'int'>\n",
      "t is : <class 'int'>\n",
      "<class 'type'>\n",
      "3\n",
      "<class 'int'>\n",
      "7\n",
      "7\n",
      "type of pi is <class 'float'>\n",
      "type of name is: <class 'str'>\n",
      "120.0\n",
      "3.141592653589793\n"
     ]
    }
   ],
   "source": [
    "import math\n",
    "x = 3\n",
    "name = \"Κώστας\"\n",
    "pi = 3.14   #THE pi is math.pi\n",
    "print(type(x))\n",
    "t=type(x)\n",
    "tt=type(t)\n",
    "print(\"t is :\",t)\n",
    "#print(t[0])  error: not subscriptable\n",
    "print(tt)\n",
    "print(x)\n",
    "print(type(22))\n",
    "print(\"7\")\n",
    "print(7)\n",
    "print(\"type of pi is\",type(pi))\n",
    "print(\"type of name is:\", type(name))\n",
    "# y=pi*100\n",
    "print(1.2E2)\n",
    "#print(piE2) #error enw to pi einai orismeno\n",
    "print(math.pi)\n",
    "# comment added\n",
    "# new comment added at the origin(git-hub file) by some malicious person"
   ]
  },
  {
   "cell_type": "code",
   "execution_count": null,
   "id": "2d71775c-9106-4ff9-80d7-945902b3e408",
   "metadata": {},
   "outputs": [],
   "source": []
  },
  {
   "cell_type": "markdown",
   "id": "33883f81-3596-451a-9ddf-e877669729bc",
   "metadata": {},
   "source": [
    "### main Python variable types"
   ]
  },
  {
   "cell_type": "code",
   "execution_count": 17,
   "id": "a066c08b-513b-45fb-ad86-4ddab1db6598",
   "metadata": {},
   "outputs": [
    {
     "name": "stdout",
     "output_type": "stream",
     "text": [
      "<class 'int'>\n"
     ]
    }
   ],
   "source": [
    "# Integer (int)\n",
    "#Whole numbers (positive or negative)\n",
    "\n",
    "x = 10\n",
    "y = -3\n",
    "print(type(x))  # <class 'int'>"
   ]
  },
  {
   "cell_type": "code",
   "execution_count": 19,
   "id": "4a3006f3-70a9-4d01-ad62-1d832ba13f76",
   "metadata": {},
   "outputs": [
    {
     "name": "stdout",
     "output_type": "stream",
     "text": [
      "<class 'float'>\n"
     ]
    }
   ],
   "source": [
    "#Floating-point (float)\n",
    "#Numbers with a decimal point\n",
    "\n",
    "\n",
    "pi = 3.14159\n",
    "temp = -0.5\n",
    "print(type(pi))  # <class 'float'>\n"
   ]
  },
  {
   "cell_type": "code",
   "execution_count": 21,
   "id": "a4ce67bc-32ac-467c-9bef-b93513267a83",
   "metadata": {},
   "outputs": [
    {
     "name": "stdout",
     "output_type": "stream",
     "text": [
      "<class 'str'>\n"
     ]
    }
   ],
   "source": [
    "#String (str)\n",
    "#Text data, enclosed in quotes (' or \")\n",
    "\n",
    "\n",
    "name = \"Alice\"\n",
    "greeting = 'Hello'\n",
    "print(type(name))  # <class 'str'>"
   ]
  },
  {
   "cell_type": "code",
   "execution_count": 23,
   "id": "a7c8df1a-76ae-4f2b-acfc-df8c1b1ebbb0",
   "metadata": {},
   "outputs": [
    {
     "name": "stdout",
     "output_type": "stream",
     "text": [
      "<class 'bool'>\n"
     ]
    }
   ],
   "source": [
    "#Boolean (bool)\n",
    "#Logical values: True or False\n",
    "\n",
    "\n",
    "is_active = True\n",
    "has_error = False\n",
    "print(type(is_active))  # <class 'bool'>"
   ]
  },
  {
   "cell_type": "code",
   "execution_count": 25,
   "id": "420434a9-21f3-4ec8-9263-435c0ca67dbb",
   "metadata": {},
   "outputs": [
    {
     "name": "stdout",
     "output_type": "stream",
     "text": [
      "<class 'list'>\n"
     ]
    }
   ],
   "source": [
    "#List (list)\n",
    "#Ordered, changeable collection (can contain mixed types)\n",
    "\n",
    "\n",
    "numbers = [1, 2, 3, 4]\n",
    "items = [\"apple\", 3.14, True]\n",
    "print(type(numbers))  # <class 'list'>"
   ]
  },
  {
   "cell_type": "code",
   "execution_count": 29,
   "id": "d0dcf6e2-fb9e-44fb-bb67-78ebb072e4fb",
   "metadata": {},
   "outputs": [
    {
     "name": "stdout",
     "output_type": "stream",
     "text": [
      "<class 'tuple'>\n"
     ]
    }
   ],
   "source": [
    "#Tuple (tuple)\n",
    "#Ordered, unchangeable collection\n",
    "\n",
    "\n",
    "coords = (10.0, 20.0)\n",
    "colors = (\"red\", \"green\", \"blue\")\n",
    "print(type(coords))  # <class 'tuple'>"
   ]
  },
  {
   "cell_type": "code",
   "execution_count": 31,
   "id": "80839542-8739-4550-8ede-111ecd44cfd5",
   "metadata": {},
   "outputs": [
    {
     "name": "stdout",
     "output_type": "stream",
     "text": [
      "{1, 2, 3}\n",
      "<class 'set'>\n"
     ]
    }
   ],
   "source": [
    "# Set (set)\n",
    "#Unordered collection of unique values\n",
    "\n",
    "\n",
    "unique_nums = {1, 2, 3, 2, 1}\n",
    "print(unique_nums)       # {1, 2, 3}\n",
    "print(type(unique_nums)) # <class 'set'>\n"
   ]
  },
  {
   "cell_type": "code",
   "execution_count": 33,
   "id": "2abd113b-a691-40d5-bb36-b9fc403c847f",
   "metadata": {},
   "outputs": [
    {
     "name": "stdout",
     "output_type": "stream",
     "text": [
      "<class 'dict'>\n"
     ]
    }
   ],
   "source": [
    " #Dictionary (dict)\n",
    "#Key-value pairs (like a mini database)\n",
    "\n",
    "\n",
    "person = {\n",
    "    \"name\": \"Alice\",\n",
    "    \"age\": 30,\n",
    "    \"is_student\": False\n",
    "}\n",
    "print(type(person))  # <class 'dict'>"
   ]
  },
  {
   "cell_type": "code",
   "execution_count": null,
   "id": "978dcac9-5796-4ac0-ba95-c2deb316c723",
   "metadata": {},
   "outputs": [],
   "source": []
  },
  {
   "cell_type": "code",
   "execution_count": null,
   "id": "0b15afe1-e8f2-470d-95b1-f8deac10ae0e",
   "metadata": {},
   "outputs": [],
   "source": []
  },
  {
   "cell_type": "markdown",
   "id": "77085540-8018-49b0-8519-59471aa0c170",
   "metadata": {},
   "source": [
    "### in addition to the basic built-in types we just covered (int, float, str, bool, list, tuple, set, dict), Python has several other useful data types—especially when you get into more advanced or specialized programming.\n",
    "\n",
    "Here’s a quick list of other data types you might come across:\n",
    "\n",
    "🔸 NoneType\n",
    "Represents a null value or no value at all.\n",
    "\n",
    "python\n",
    "Copy\n",
    "Edit\n",
    "result = None\n",
    "print(type(result))  # <class 'NoneType'>\n",
    "🔸 Bytes and Bytearray\n",
    "Used for binary data (like files, images, or network data)\n",
    "\n",
    "python\n",
    "Copy\n",
    "Edit\n",
    "data = b\"Hello\"          # bytes\n",
    "buffer = bytearray(5)    # bytearray of 5 zeros\n",
    "print(type(data))        # <class 'bytes'>\n",
    "🔸 Range\n",
    "Represents a sequence of numbers (often used in loops)\n",
    "\n",
    "python\n",
    "Copy\n",
    "Edit\n",
    "C\n",
    "🔸C\n",
    "🔸 frozenset\n",
    "Like a set, but immutable (cannot be changed)\n",
    "\n",
    "python\n",
    "Copy\n",
    "Edit\n",
    "fs = frozenset([1, 2, 3])\n",
    "print(type(fs))  # <class 'frozenset'>\n",
    "🧠 Advanced or Custom Types:\n",
    "Custom classes (you create your own types with class)\n",
    "\n",
    "NamedTuple, Enum, and dataclass (used in structuring complex data)\n",
    "\n",
    "Third-party types (e.g., numpy.array, pandas.DataFrame)"
   ]
  },
  {
   "cell_type": "code",
   "execution_count": 35,
   "id": "68886ca0-19b4-4efb-b937-be35ba42a81b",
   "metadata": {},
   "outputs": [
    {
     "name": "stdout",
     "output_type": "stream",
     "text": [
      "<class 'NoneType'>\n"
     ]
    }
   ],
   "source": [
    "#NoneType\n",
    "#Represents a null value or no value at all.\n",
    "\n",
    "\n",
    "result = None\n",
    "print(type(result))  # <class 'NoneType'>"
   ]
  },
  {
   "cell_type": "code",
   "execution_count": null,
   "id": "4055edc6-8253-4377-8409-e4e56860c807",
   "metadata": {},
   "outputs": [],
   "source": []
  },
  {
   "cell_type": "code",
   "execution_count": 5,
   "id": "e5f01898-84a7-4304-b255-5ced676e98c4",
   "metadata": {},
   "outputs": [
    {
     "name": "stdout",
     "output_type": "stream",
     "text": [
      "<class 'bytes'>\n",
      "b'Hello'\n"
     ]
    }
   ],
   "source": [
    "data = b\"Hello\"          # bytes\n",
    "buffer = bytearray(5)    # bytearray of 5 zeros\n",
    "print(type(data))        # <class 'bytes'>\n",
    "print(data)"
   ]
  },
  {
   "cell_type": "markdown",
   "id": "221458c5-a326-4c4f-98e0-b7d2c7e08778",
   "metadata": {},
   "source": [
    "### range\n",
    "The range() function in Python is a built-in tool for generating sequences of numbers. It is commonly used in loops for iteration and has three main forms:\n",
    "\n",
    "1. Single Argument: range(stop)\n",
    "Generates numbers starting from 0 up to, but not including, the stop value.\n",
    "\n",
    "Example: range(5) produces [0, 1,[3][4].\n",
    "\n",
    "If stop is less than or equal to 0, the result is an empty sequence12.\n",
    "\n",
    "2. Two Arguments: range(start, stop)\n",
    "Specifies both the starting (start) and stopping (stop) points of the sequence.\n",
    "\n",
    "The sequence starts at start and goes up to, but does not include, stop.\n",
    "\n",
    "Example: range(5, 10) produces [5,[6][7][8]12.\n",
    "\n",
    "3. Three Arguments: range(start, stop, step)\n",
    "Adds a step parameter to control the difference between consecutive numbers.\n",
    "\n",
    "Positive steps create ascending sequences; negative steps create descending sequences.\n",
    "\n",
    "Example: range(0, 10, 2) produces [0,[4][6][8], and range(10, 5, -1) produces [10, 9,6]13.\n",
    "\n",
    "Key Features\n",
    "Lazy Evaluation: The range object generates numbers on demand rather than storing them all in memory3.\n",
    "\n",
    "Reversed Iteration: Use the reversed() function to iterate over a range in reverse order13.\n",
    "\n",
    "Type: Technically, range() is a class constructor that returns a range object rather than a function3.\n",
    "\n",
    "Applications\n",
    "The range() function simplifies tasks like:\n",
    "\n",
    "Iterating over indices in lists or strings.\n",
    "\n",
    "Generating custom sequences for mathematical operations.\n",
    "\n",
    "Controlling loops with specific start/stop values and increments24.\n",
    "\n",
    "By mastering the variations of range(), you can write cleaner and more efficient Python code.\n",
    "\n",
    "\n",
    "Share\n",
    "\n",
    "Export\n",
    "\n",
    "Rewrite"
   ]
  },
  {
   "cell_type": "code",
   "execution_count": 21,
   "id": "68c75869-8f87-400a-b566-db96c9fab83e",
   "metadata": {},
   "outputs": [
    {
     "name": "stdout",
     "output_type": "stream",
     "text": [
      "range(0, 5)\n"
     ]
    },
    {
     "data": {
      "text/plain": [
       "range(0, 5)"
      ]
     },
     "metadata": {},
     "output_type": "display_data"
    },
    {
     "name": "stdout",
     "output_type": "stream",
     "text": [
      "1\n"
     ]
    }
   ],
   "source": [
    "#Single Argument: range(stop)\n",
    "#Generates numbers starting from 0 up to, but not including, the stop value.\n",
    "\n",
    "a=range(5)\n",
    "\n",
    "print(a)\n",
    "\n",
    "display(a)\n",
    "\n",
    "print(a[1])"
   ]
  },
  {
   "cell_type": "markdown",
   "id": "fcb61ee4-2b72-445d-98ca-96a054983bdf",
   "metadata": {},
   "source": [
    "When you define a = range(5) in Python, the variable a becomes a range object that represents a sequence of numbers from 0 to 4. However, when you print the range object directly using print(a), it outputs something like range(0, 5) instead of the actual numbers. This is because the range object is lazily evaluated—it does not generate the numbers until explicitly iterated over.\n",
    "\n",
    "To see the numbers in the range, you can convert the range object to a list or iterate through it:"
   ]
  },
  {
   "cell_type": "markdown",
   "id": "00bfdbe9-6eab-4f32-ae66-d60c3bc7cd35",
   "metadata": {},
   "source": [
    "### Why Does This Happen?\n",
    "### The range object in Python is lazy—it does not store all the numbers in memory. Instead, it behaves like an iterable that generates numbers on demand when you iterate over it. This design makes range() efficient for working with large sequences because it avoids creating a potentially huge list in memory.\n",
    "\n",
    "To Clarify:\n",
    "\n",
    "print(a): Prints the range object itself (e.g., range(0, 5)),\n",
    "\n",
    "which is just a description of the range.\n",
    "\n",
    "print(list(a)): Converts the range object into a list and prints the\n",
    "\n",
    "\n",
    "\n"
   ]
  },
  {
   "cell_type": "code",
   "execution_count": 25,
   "id": "9d3c1956-5832-43b6-8e11-71454ba79856",
   "metadata": {},
   "outputs": [
    {
     "name": "stdout",
     "output_type": "stream",
     "text": [
      "0\n",
      "1\n",
      "2\n",
      "3\n",
      "4\n"
     ]
    }
   ],
   "source": [
    "a = range(5)\n",
    "for number in a:\n",
    "    print(number)  # Output: 0, 1, 2, 3, 4 (printed one per line)"
   ]
  },
  {
   "cell_type": "code",
   "execution_count": 31,
   "id": "014d293f-c539-482c-b934-bbb9ee51685e",
   "metadata": {},
   "outputs": [
    {
     "name": "stdout",
     "output_type": "stream",
     "text": [
      "5\n",
      "6\n",
      "7\n",
      "8\n",
      "9\n"
     ]
    }
   ],
   "source": [
    "a=range(5,10)\n"
   ]
  },
  {
   "cell_type": "code",
   "execution_count": 33,
   "id": "1e899356-8109-437f-a6e9-050c5f0c25e3",
   "metadata": {},
   "outputs": [
    {
     "name": "stdout",
     "output_type": "stream",
     "text": [
      "0\n",
      "2\n",
      "4\n",
      "6\n",
      "8\n"
     ]
    }
   ],
   "source": [
    "a=range(0,10,2)\n",
    "for number in a:\n",
    "    print(number)"
   ]
  },
  {
   "cell_type": "markdown",
   "id": "4f260752-d2f4-49af-8733-47ae2bf2fd7b",
   "metadata": {},
   "source": [
    "### frozenset\n",
    "Like a set, but immutable (cannot be changed)\n"
   ]
  },
  {
   "cell_type": "code",
   "execution_count": 35,
   "id": "62f30f4e-30bc-48ae-997c-3d7b7b5753c6",
   "metadata": {},
   "outputs": [
    {
     "name": "stdout",
     "output_type": "stream",
     "text": [
      "<class 'frozenset'>\n"
     ]
    }
   ],
   "source": [
    "\n",
    "fs = frozenset([1, 2, 3])\n",
    "print(type(fs))  # <class 'frozenset'>"
   ]
  },
  {
   "cell_type": "markdown",
   "id": "961f1ad1-ddb9-48e4-a848-2c95aa2a36e2",
   "metadata": {},
   "source": [
    "### Custom Types:\n",
    "Custom classes (you create your own types with class)\n",
    "\n",
    "NamedTuple, Enum, and dataclass (used in structuring complex data)\n",
    "\n",
    "Third-party types (e.g., numpy.array, pandas.DataFrame)"
   ]
  },
  {
   "cell_type": "code",
   "execution_count": null,
   "id": "b75a298c-8444-48cc-afa5-a819c2f1754b",
   "metadata": {},
   "outputs": [],
   "source": []
  },
  {
   "cell_type": "code",
   "execution_count": null,
   "id": "1c60e84e-0656-4d08-84c2-d466a54fc503",
   "metadata": {},
   "outputs": [],
   "source": []
  },
  {
   "cell_type": "code",
   "execution_count": null,
   "id": "98e86acd-5d1b-481a-a912-5d28d9ed432a",
   "metadata": {},
   "outputs": [],
   "source": []
  }
 ],
 "metadata": {
  "kernelspec": {
   "display_name": "Python [conda env:base] *",
   "language": "python",
   "name": "conda-base-py"
  },
  "language_info": {
   "codemirror_mode": {
    "name": "ipython",
    "version": 3
   },
   "file_extension": ".py",
   "mimetype": "text/x-python",
   "name": "python",
   "nbconvert_exporter": "python",
   "pygments_lexer": "ipython3",
   "version": "3.11.7"
  }
 },
 "nbformat": 4,
 "nbformat_minor": 5
}
