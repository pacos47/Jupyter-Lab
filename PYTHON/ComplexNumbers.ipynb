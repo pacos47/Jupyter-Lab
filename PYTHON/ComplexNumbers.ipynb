{
 "cells": [
  {
   "cell_type": "markdown",
   "id": "c91a0043-7ee8-452b-9e6e-837323e7a331",
   "metadata": {},
   "source": [
    "### Basic Form of Complex Numbers in Python\n",
    "A complex number has the form:\n",
    "\n",
    "\n",
    "a + bj\n",
    "\n",
    "Where:\n",
    "\n",
    "a is the real part.\n",
    "\n",
    "b is the imaginary part.\n",
    "\n",
    "j is the imaginary unit (in Python, j is used instead of i from mathematics)."
   ]
  },
  {
   "cell_type": "code",
   "execution_count": 11,
   "id": "294bed73-35dd-42b5-9c78-ae87fb62963f",
   "metadata": {},
   "outputs": [
    {
     "name": "stdout",
     "output_type": "stream",
     "text": [
      "<class 'complex'>\n"
     ]
    }
   ],
   "source": [
    "x = 3 + 7j\n",
    "print(type(x))"
   ]
  },
  {
   "cell_type": "code",
   "execution_count": null,
   "id": "c806a0ca-b801-446a-b97d-b3109366e517",
   "metadata": {},
   "outputs": [],
   "source": []
  },
  {
   "cell_type": "markdown",
   "id": "73c45e7c-e40b-4e77-902e-f7eba4088d9a",
   "metadata": {},
   "source": [
    "### Declaring Complex Numbers\n",
    "\n",
    "z1 = 3 + 4j\n",
    "\n",
    "z2 = complex(2, -5)\n",
    "\n",
    "Here:\n",
    "\n",
    "z1 is a complex number with real part 3 and imaginary part 4.\n",
    "\n",
    "z2 is created using the complex() constructor.\n",
    "\n"
   ]
  },
  {
   "cell_type": "code",
   "execution_count": null,
   "id": "822685d8-3c69-42e8-8aa1-3b7ab4d33c77",
   "metadata": {},
   "outputs": [],
   "source": []
  },
  {
   "cell_type": "code",
   "execution_count": null,
   "id": "8ba18748-1e4a-45b7-9a02-6e2338ceb9bc",
   "metadata": {},
   "outputs": [],
   "source": []
  },
  {
   "cell_type": "code",
   "execution_count": 19,
   "id": "7c6474bc-493d-47c8-8090-3cc0caf34d4d",
   "metadata": {},
   "outputs": [],
   "source": [
    "z1 = 3 + 4j\n",
    "\n",
    "z2 = complex(2, -5)"
   ]
  },
  {
   "cell_type": "markdown",
   "id": "16b458d8-2f95-494e-9f23-d43548c7b4b9",
   "metadata": {},
   "source": [
    "### Accessing Real and Imaginary Parts"
   ]
  },
  {
   "cell_type": "code",
   "execution_count": 21,
   "id": "cbe79182-48f8-4353-b8bd-0d04241d352b",
   "metadata": {},
   "outputs": [
    {
     "name": "stdout",
     "output_type": "stream",
     "text": [
      "3.0\n",
      "4.0\n"
     ]
    }
   ],
   "source": [
    "print(z1.real)      # Output: 3.0\n",
    "print(z1.imag)      # Output: 4.0"
   ]
  },
  {
   "cell_type": "markdown",
   "id": "b50513cc-7772-45ae-ac33-126911812099",
   "metadata": {},
   "source": [
    "### . Polar Form (using cmath module):"
   ]
  },
  {
   "cell_type": "code",
   "execution_count": 23,
   "id": "e3564839-3702-4e07-b28a-05c11bc1f45b",
   "metadata": {},
   "outputs": [
    {
     "name": "stdout",
     "output_type": "stream",
     "text": [
      "Modulus: 5.0\n",
      "Argument (radians): 0.9272952180016122\n"
     ]
    }
   ],
   "source": [
    "import cmath\n",
    "\n",
    "r, theta = cmath.polar(z1)\n",
    "print(\"Modulus:\", r)             # Output: 5.0\n",
    "print(\"Argument (radians):\", theta)  # Output: 0.927..."
   ]
  },
  {
   "cell_type": "markdown",
   "id": "e2aca599-a049-4140-9c0b-52f431f171b5",
   "metadata": {},
   "source": [
    "### Exponential Form (Euler's formula):\n",
    "Euler’s formula:\n",
    "\n",
    "𝑧\n",
    "=\n",
    "𝑟\n",
    "⋅\n",
    "𝑒\n",
    "𝑗\n",
    "𝜃\n",
    "\n",
    "$$ z=r⋅e^{jθ}$$"
   ]
  },
  {
   "cell_type": "code",
   "execution_count": 26,
   "id": "c9d5fe06-505e-419f-8b6f-fac3073ec03e",
   "metadata": {},
   "outputs": [
    {
     "name": "stdout",
     "output_type": "stream",
     "text": [
      "(3.0000000000000004+3.9999999999999996j)\n"
     ]
    }
   ],
   "source": [
    "z_polar = cmath.rect(r, theta)  # Convert back to rectangular\n",
    "print(z_polar)  # Output: (3+4j)"
   ]
  },
  {
   "cell_type": "markdown",
   "id": "7fc9e997-ab24-4f5f-a44e-abfe11772736",
   "metadata": {},
   "source": [
    "### Operations"
   ]
  },
  {
   "cell_type": "code",
   "execution_count": 32,
   "id": "619d3811-ef8f-4da7-849c-02440d8e2e7d",
   "metadata": {},
   "outputs": [
    {
     "name": "stdout",
     "output_type": "stream",
     "text": [
      "(5-1j) (26-7j) (-0.48275862068965514+0.793103448275862j) (3-4j)\n"
     ]
    }
   ],
   "source": [
    "z3 = z1 + z2    # Addition\n",
    "z4 = z1 * z2    # Multiplication\n",
    "z5 = z1 / z2    # Division\n",
    "z6 = z1.conjugate()  # Complex conjugate\n",
    "\n",
    "print(z3, z4, z5, z6)"
   ]
  },
  {
   "cell_type": "markdown",
   "id": "2ed93c59-3f16-4cbc-8607-d703d2500749",
   "metadata": {},
   "source": [
    "### Summary"
   ]
  },
  {
   "cell_type": "code",
   "execution_count": 34,
   "id": "fa870c94-4c72-4153-b7d5-b3c152c95f9a",
   "metadata": {},
   "outputs": [
    {
     "name": "stdout",
     "output_type": "stream",
     "text": [
      "z = (1+2j)\n",
      "Real part: 1.0\n",
      "Imaginary part: 2.0\n",
      "Conjugate: (1-2j)\n",
      "Modulus: 2.23606797749979\n",
      "Polar form: r = 2.23606797749979 , theta = 1.1071487177940904\n",
      "Back to rectangular form: (1.0000000000000002+2j)\n"
     ]
    }
   ],
   "source": [
    "import cmath\n",
    "\n",
    "z = 1 + 2j\n",
    "print(\"z =\", z)\n",
    "print(\"Real part:\", z.real)\n",
    "print(\"Imaginary part:\", z.imag)\n",
    "print(\"Conjugate:\", z.conjugate())\n",
    "print(\"Modulus:\", abs(z))\n",
    "\n",
    "r, theta = cmath.polar(z)\n",
    "print(\"Polar form: r =\", r, \", theta =\", theta)\n",
    "\n",
    "z_rect = cmath.rect(r, theta)\n",
    "print(\"Back to rectangular form:\", z_rect)"
   ]
  },
  {
   "cell_type": "markdown",
   "id": "fef4b7ff-92e8-4d98-aeee-fd92f0f02eef",
   "metadata": {},
   "source": [
    "### Awesome! Here's a Jupyter Notebook-style version of the complex numbers tutorial, ready to copy-paste into your environment:"
   ]
  },
  {
   "cell_type": "code",
   "execution_count": 37,
   "id": "634aad4a-7fdf-449a-a526-07363e670079",
   "metadata": {},
   "outputs": [],
   "source": [
    "# Cell 1: Import necessary modules\n",
    "import cmath"
   ]
  },
  {
   "cell_type": "code",
   "execution_count": 39,
   "id": "56b335f4-6e82-47b2-823f-cf3da9a5c242",
   "metadata": {},
   "outputs": [
    {
     "name": "stdout",
     "output_type": "stream",
     "text": [
      "z1 = (3+4j)\n",
      "z2 = (2-5j)\n"
     ]
    }
   ],
   "source": [
    "# Cell 2: Define complex numbers\n",
    "z1 = 3 + 4j\n",
    "z2 = complex(2, -5)\n",
    "\n",
    "print(\"z1 =\", z1)\n",
    "print(\"z2 =\", z2)"
   ]
  },
  {
   "cell_type": "code",
   "execution_count": 41,
   "id": "90a9b168-da00-4571-86f7-0c5cdab483b7",
   "metadata": {},
   "outputs": [
    {
     "name": "stdout",
     "output_type": "stream",
     "text": [
      "Real part of z1: 3.0\n",
      "Imaginary part of z1: 4.0\n"
     ]
    }
   ],
   "source": [
    "# Cell 3: Access real and imaginary parts\n",
    "print(\"Real part of z1:\", z1.real)\n",
    "print(\"Imaginary part of z1:\", z1.imag)"
   ]
  },
  {
   "cell_type": "code",
   "execution_count": 43,
   "id": "7b998be8-6d83-42eb-ad12-7a7c7b760851",
   "metadata": {},
   "outputs": [
    {
     "name": "stdout",
     "output_type": "stream",
     "text": [
      "Conjugate of z1: (3-4j)\n",
      "Magnitude of z1: 5.0\n"
     ]
    }
   ],
   "source": [
    "# Cell 4: Conjugate and magnitude\n",
    "print(\"Conjugate of z1:\", z1.conjugate())\n",
    "print(\"Magnitude of z1:\", abs(z1))  # same as modulus\n"
   ]
  },
  {
   "cell_type": "code",
   "execution_count": 45,
   "id": "d8ddb60d-2167-4f3c-96f0-aaac5f862a00",
   "metadata": {},
   "outputs": [
    {
     "name": "stdout",
     "output_type": "stream",
     "text": [
      "Polar form of z1:\n",
      "  Modulus (r): 5.0\n",
      "  Argument (theta in radians): 0.9272952180016122\n"
     ]
    }
   ],
   "source": [
    "# Cell 5: Convert to polar form\n",
    "r, theta = cmath.polar(z1)\n",
    "print(\"Polar form of z1:\")\n",
    "print(\"  Modulus (r):\", r)\n",
    "print(\"  Argument (theta in radians):\", theta)"
   ]
  },
  {
   "cell_type": "code",
   "execution_count": 47,
   "id": "cb948715-2eae-434f-8876-26f57b065deb",
   "metadata": {},
   "outputs": [
    {
     "name": "stdout",
     "output_type": "stream",
     "text": [
      "Back to rectangular form: (3.0000000000000004+3.9999999999999996j)\n"
     ]
    }
   ],
   "source": [
    "# Cell 6: Convert back to rectangular (rectangular from polar)\n",
    "z_rect = cmath.rect(r, theta)\n",
    "print(\"Back to rectangular form:\", z_rect)"
   ]
  },
  {
   "cell_type": "code",
   "execution_count": 49,
   "id": "8bdbf965-f782-4364-a507-31e1f2010b8b",
   "metadata": {},
   "outputs": [
    {
     "name": "stdout",
     "output_type": "stream",
     "text": [
      "Addition (z1 + z2): (5-1j)\n",
      "Multiplication (z1 * z2): (26-7j)\n",
      "Division (z1 / z2): (-0.48275862068965514+0.793103448275862j)\n"
     ]
    }
   ],
   "source": [
    "# Cell 7: Operations with complex numbers\n",
    "z_add = z1 + z2\n",
    "z_mul = z1 * z2\n",
    "z_div = z1 / z2\n",
    "\n",
    "print(\"Addition (z1 + z2):\", z_add)\n",
    "print(\"Multiplication (z1 * z2):\", z_mul)\n",
    "print(\"Division (z1 / z2):\", z_div)"
   ]
  },
  {
   "cell_type": "code",
   "execution_count": 51,
   "id": "95c34b4f-f035-4a77-b5d8-33037f160e21",
   "metadata": {},
   "outputs": [
    {
     "data": {
      "image/png": "[encoded data removed]",
      "text/plain": [
       "<Figure size 640x480 with 1 Axes>"
      ]
     },
     "metadata": {},
     "output_type": "display_data"
    }
   ],
   "source": [
    "# Cell 8: Optional Visualization (requires matplotlib)\n",
    "import matplotlib.pyplot as plt\n",
    "\n",
    "def plot_complex(z_list, labels):\n",
    "    for z, label in zip(z_list, labels):\n",
    "        plt.plot([0, z.real], [0, z.imag], label=label, marker='o')\n",
    "    plt.axhline(0, color='black', linewidth=0.5)\n",
    "    plt.axvline(0, color='black', linewidth=0.5)\n",
    "    plt.grid(True)\n",
    "    plt.axis('equal')\n",
    "    plt.xlabel('Real')\n",
    "    plt.ylabel('Imaginary')\n",
    "    plt.title('Complex Numbers on Argand Plane')\n",
    "    plt.legend()\n",
    "    plt.show()\n",
    "\n",
    "plot_complex([z1, z2, z_add], ['z1', 'z2', 'z1+z2'])\n"
   ]
  },
  {
   "cell_type": "markdown",
   "id": "9c285bff-7d77-4f02-af3e-0d6f5bd6ed5e",
   "metadata": {},
   "source": []
  },
  {
   "cell_type": "code",
   "execution_count": null,
   "id": "db775164-72c0-453b-b956-c5589ecf0bad",
   "metadata": {},
   "outputs": [],
   "source": []
  },
  {
   "cell_type": "code",
   "execution_count": null,
   "id": "a55b14fb-8da8-4f5b-8b83-5a7c19f72104",
   "metadata": {},
   "outputs": [],
   "source": []
  }
 ],
 "metadata": {
  "kernelspec": {
   "display_name": "Python 3 (ipykernel)",
   "language": "python",
   "name": "python3"
  },
  "language_info": {
   "codemirror_mode": {
    "name": "ipython",
    "version": 3
   },
   "file_extension": ".py",
   "mimetype": "text/x-python",
   "name": "python",
   "nbconvert_exporter": "python",
   "pygments_lexer": "ipython3",
   "version": "3.12.2"
  }
 },
 "nbformat": 4,
 "nbformat_minor": 5
}
