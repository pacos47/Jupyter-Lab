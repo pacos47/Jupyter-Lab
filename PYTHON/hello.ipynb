{
 "cells": [
  {
   "cell_type": "code",
   "execution_count": 2,
   "id": "b2b190b6-d937-4a8c-bad8-dcb28f93bd40",
   "metadata": {},
   "outputs": [
    {
     "data": {
      "text/plain": [
       "'hello'"
      ]
     },
     "metadata": {},
     "output_type": "display_data"
    }
   ],
   "source": [
    "display(\"hello\")"
   ]
  },
  {
   "cell_type": "code",
   "execution_count": 4,
   "id": "c7c76651-7b21-460e-ad23-bf9727a2fc3f",
   "metadata": {},
   "outputs": [
    {
     "name": "stdout",
     "output_type": "stream",
     "text": [
      "hi...\n"
     ]
    }
   ],
   "source": [
    "print(\"hi...\")"
   ]
  },
  {
   "cell_type": "markdown",
   "id": "1e3fac5c-8715-4b71-9885-4d745aea42b3",
   "metadata": {},
   "source": [
    "### so whats the difference between print and display\n",
    "\n",
    "### print()\n",
    "Built-in Python function\n",
    "\n",
    "Converts the object to a string using str() and writes it to standard output (usually the terminal or console).\n",
    "\n",
    "Works in any Python environment.\n",
    "\n",
    "Example:\n",
    "\n",
    "python\n",
    "Copy\n",
    "Edit\n",
    "print(\"Hello, world!\")\n",
    "🧠 You get plain text output:\n",
    "\n",
    "Copy\n",
    "Edit\n",
    "Hello, world!\n",
    "\n",
    "\n",
    "### 🔹###  display()  is used in Jupyter Notebooks.\n",
    "\n",
    "\n",
    "Not a built-in Python function; it's provided by IPython, which is used in Jupyter Notebooks.\n",
    "\n",
    "Displays rich representations (HTML, LaTeX, images, audio, etc.) of objects.\n",
    "\n",
    "Comes from:\n",
    "\n",
    "python\n",
    "Copy\n",
    "Edit\n",
    "from IPython.display import display\n",
    "Example:\n",
    "\n",
    "python\n",
    "Copy\n",
    "Edit\n",
    "from IPython.display import display\n",
    "display(\"Hello, world!\")"
   ]
  },
  {
   "cell_type": "markdown",
   "id": "38cec45d-a760-4224-af97-51380942561e",
   "metadata": {},
   "source": [
    "### examples "
   ]
  },
  {
   "cell_type": "code",
   "execution_count": 6,
   "id": "f7ea08ad-4576-4b60-b58b-55b58e27d2af",
   "metadata": {},
   "outputs": [
    {
     "name": "stdout",
     "output_type": "stream",
     "text": [
      "    Name  Age\n",
      "0  Alice   25\n",
      "1    Bob   30\n"
     ]
    }
   ],
   "source": [
    "import pandas as pd\n",
    "\n",
    "df = pd.DataFrame({'Name': ['Alice', 'Bob'], 'Age': [25, 30]})\n",
    "print(df)"
   ]
  },
  {
   "cell_type": "markdown",
   "id": "2a033937-108b-45c8-970d-5fca7e47b0ce",
   "metadata": {},
   "source": [
    "### pandas \n",
    "Pandas is an open-source data analysis and data manipulation library for the Python programming language. It provides data structures and functions needed to work with structured data effectively. Here are some key features and components of pandas:\n",
    "\n",
    "Data Structures:\n",
    "\n",
    "Series: A one-dimensional labeled array that can hold data of any type. It is similar to a list or an array in Python but with additional features like index labels.\n",
    "\n",
    "DataFrame: A two-dimensional labeled data structure, similar to a table in a database or a spreadsheet. It consists of rows and columns and can hold different types of data in each column.\n",
    "\n",
    "\n",
    "\n",
    "Data Manipulation: Pandas provides a wide range of tools to manipulate and analyze data. You can easily filter, group, sort, and transform data.\n",
    "\n",
    "Data Cleaning: It has functions for handling missing data, duplicating, and formatting data, which is essential in data preparation and cleaning.\n",
    "\n",
    "Data Analysis: Pandas supports various statistical operations and calculations, making it suitable for tasks like data analysis and exploratory data analysis (EDA).\n",
    "\n",
    "Input/Output: It can read from and write to various file formats, including CSV, Excel, SQL databases, JSON, and more, facilitating data import and export.\n",
    "\n",
    "Integration: Pandas works seamlessly with other libraries in the Python ecosystem, such as NumPy, Matplotlib, and SciPy, making it a powerful tool for data science and analytics projects.\n",
    "\n",
    "\n",
    "Pandas is widely used in data analysis and data science due to its ease of use, flexibility, and comprehensive functionality. It is particularly popular for tasks in finance, statistics, and machine learning."
   ]
  },
  {
   "cell_type": "code",
   "execution_count": null,
   "id": "5edc1094-2cc8-4c43-8fc9-60d81515f3a0",
   "metadata": {},
   "outputs": [],
   "source": []
  },
  {
   "cell_type": "code",
   "execution_count": 7,
   "id": "32d6f9bb-fc23-48dc-95d3-f1fb094b6837",
   "metadata": {},
   "outputs": [
    {
     "data": {
      "text/html": [
       "<div>\n",
       "<style scoped>\n",
       "    .dataframe tbody tr th:only-of-type {\n",
       "        vertical-align: middle;\n",
       "    }\n",
       "\n",
       "    .dataframe tbody tr th {\n",
       "        vertical-align: top;\n",
       "    }\n",
       "\n",
       "    .dataframe thead th {\n",
       "        text-align: right;\n",
       "    }\n",
       "</style>\n",
       "<table border=\"1\" class=\"dataframe\">\n",
       "  <thead>\n",
       "    <tr style=\"text-align: right;\">\n",
       "      <th></th>\n",
       "      <th>Name</th>\n",
       "      <th>Age</th>\n",
       "    </tr>\n",
       "  </thead>\n",
       "  <tbody>\n",
       "    <tr>\n",
       "      <th>0</th>\n",
       "      <td>Alice</td>\n",
       "      <td>25</td>\n",
       "    </tr>\n",
       "    <tr>\n",
       "      <th>1</th>\n",
       "      <td>Bob</td>\n",
       "      <td>30</td>\n",
       "    </tr>\n",
       "  </tbody>\n",
       "</table>\n",
       "</div>"
      ],
      "text/plain": [
       "    Name  Age\n",
       "0  Alice   25\n",
       "1    Bob   30"
      ]
     },
     "metadata": {},
     "output_type": "display_data"
    }
   ],
   "source": [
    "display(df)"
   ]
  },
  {
   "cell_type": "markdown",
   "id": "6ee30f17-09a4-42bc-b38f-a492e7c3e1ff",
   "metadata": {},
   "source": [
    "### 4. Displaying HTML\n",
    "❌ With print():\n",
    "python\n",
    "Copy\n",
    "Edit\n",
    "from IPython.display import HTML\n",
    "\n",
    "print(HTML(\"<b>Bold Text</b>\"))"
   ]
  },
  {
   "cell_type": "code",
   "execution_count": 9,
   "id": "b53da56e-8e5d-4a14-b850-5c5e9797d0ff",
   "metadata": {},
   "outputs": [
    {
     "name": "stdout",
     "output_type": "stream",
     "text": [
      "<IPython.core.display.HTML object>\n"
     ]
    }
   ],
   "source": [
    "from IPython.display import HTML\n",
    "\n",
    "print(HTML(\"<b>Bold Text</b>\"))"
   ]
  },
  {
   "cell_type": "code",
   "execution_count": 10,
   "id": "8ac1e643-6974-468c-8ad2-d9790e767649",
   "metadata": {},
   "outputs": [
    {
     "data": {
      "text/html": [
       "<b>Bold Text</b>"
      ],
      "text/plain": [
       "<IPython.core.display.HTML object>"
      ]
     },
     "metadata": {},
     "output_type": "display_data"
    }
   ],
   "source": [
    "from IPython.display import HTML, display\n",
    "\n",
    "display(HTML(\"<b>Bold Text</b>\"))"
   ]
  },
  {
   "cell_type": "markdown",
   "id": "b29ed7b0-cb5c-4d95-b71b-1679e274cf46",
   "metadata": {},
   "source": [
    "### 🔚 Summary\n",
    "Example\tTerminal\tJupyter Notebook\n",
    "\n",
    "\n",
    "print(\"text\")\t✅\t✅\n",
    "\n",
    "display(\"text\")\t❌ (unless imported)\t✅ (with import)\n",
    "\n",
    "display(HTML(...))\t❌\t\n",
    "\n",
    "print(DataFrame)\t✅\t✅\n",
    "\n",
    "display(DataFrame)\t❌\t✅\n",
    "###  (pretty format) see above"
   ]
  },
  {
   "cell_type": "code",
   "execution_count": null,
   "id": "53f1a87f-45f4-44fe-be10-a94f1bad1e54",
   "metadata": {},
   "outputs": [],
   "source": []
  }
 ],
 "metadata": {
  "kernelspec": {
   "display_name": "Python 3 (ipykernel)",
   "language": "python",
   "name": "python3"
  },
  "language_info": {
   "codemirror_mode": {
    "name": "ipython",
    "version": 3
   },
   "file_extension": ".py",
   "mimetype": "text/x-python",
   "name": "python",
   "nbconvert_exporter": "python",
   "pygments_lexer": "ipython3",
   "version": "3.11.9"
  }
 },
 "nbformat": 4,
 "nbformat_minor": 5
}
