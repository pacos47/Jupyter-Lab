{
 "cells": [
  {
   "attachments": {},
   "cell_type": "markdown",
   "id": "deef4250-11e6-4025-9c5e-82a63cbe7a85",
   "metadata": {},
   "source": [
    "# Heading 1\n",
    "## Heading 2\n",
    "### Heading 3\n",
    "#### Heading 4\n",
    "\n",
    "# This is a Heading\n",
    "- Bullet Point 1\n",
    "- Bullet Point 2"
   ]
  },
  {
   "cell_type": "markdown",
   "id": "4d0b2c0e-8bd3-4f05-b2ad-0877e56b14e8",
   "metadata": {},
   "source": [
    "## hello there"
   ]
  },
  {
   "cell_type": "code",
   "execution_count": 16,
   "id": "3974cdae-79c2-4345-9424-eead142db4b8",
   "metadata": {},
   "outputs": [
    {
     "name": "stdout",
     "output_type": "stream",
     "text": [
      "This line will be printed.\n"
     ]
    }
   ],
   "source": [
    "print(\"This line will be printed.\")"
   ]
  },
  {
   "cell_type": "markdown",
   "id": "addb18c1-adf5-4e80-ae5a-72117b755c36",
   "metadata": {
    "panel-layout": {
     "height": 51.1406,
     "visible": true,
     "width": 100
    }
   },
   "source": [
    "### To include math within a line, wrap the expression with single dollar signs ($):\n",
    "\n",
    "Ο τύπος του Euler: $e^{i\\pi} + 1 = 0$"
   ]
  },
  {
   "cell_type": "markdown",
   "id": "05ad9417-9bb7-484b-92b0-756449b3469d",
   "metadata": {},
   "source": [
    "## Δεύτερη μέθοδος\n",
    "### Block LaTeX Math\n",
    "For larger, standalone math expressions, wrap the equation with double dollar signs ($$):\n",
    "\n",
    "$$E = mc^2$$"
   ]
  },
  {
   "cell_type": "code",
   "execution_count": null,
   "id": "c3a3a869-1518-451f-9a28-043a77ad7003",
   "metadata": {},
   "outputs": [],
   "source": []
  },
  {
   "cell_type": "markdown",
   "id": "98825f67-072d-4320-8a08-5c7978436481",
   "metadata": {},
   "source": [
    "## integral\n",
    "\n",
    "To write integrals in LaTeX, you can use the \\int command for single integrals, along with additional commands for more complex integrals. Below are examples of different types of integrals:\n",
    "\n",
    "Basic Integral\n",
    "For an indefinite integral:\n",
    "\n",
    "∫\n",
    "f\n",
    "(\n",
    "x\n",
    ")\n",
    " \n",
    "d\n",
    "x\n",
    "∫f(x)dx\n",
    "LaTeX Code:\n",
    "\n",
    "tex\n",
    "\\int f(x) \\, dx\n",
    "\n",
    "so : $$\\int f(x) \\, dx$$\n",
    "\n",
    "### Definite Integral\n",
    "For a definite integral with bounds:\n",
    "\n",
    "∫\n",
    "a\n",
    "b\n",
    "f\n",
    "(\n",
    "x\n",
    ")\n",
    " \n",
    "d\n",
    "x\n",
    "∫ \n",
    "a\n",
    "b\n",
    " f(x)dx\n",
    "LaTeX Code:\n",
    "\n",
    "tex\n",
    "\\int_{a}^{b} f(x) \\, dx\n",
    "\n",
    "so :        $\\int_{a}^{b} f(x) \\, dx$\n",
    "\n",
    "### infinite\n",
    "\n",
    "\\int_{a}^{\\infty} f(x) \\, dx\n",
    "\n",
    "so $$\\int_{a}^{\\infty} f(x) \\, dx$$\n",
    "and $$ \\int_{-\\infty}^{\\infty} f(x) \\, dx $$\n",
    "For a closed-loop integral:\n",
    "\n",
    "∮\n",
    "C\n",
    "F\n",
    "⋅\n",
    "d\n",
    "r\n",
    "∮ \n",
    "C\n",
    " F⋅dr\n",
    "LaTeX Code:\n",
    "\n",
    "tex\n",
    "\\oint_{C} \\mathbf{F} \\cdot d\\mathbf{r}\n",
    "\n",
    "so : $$ \\oint_{C} \\mathbf{F} \\cdot d\\mathbf{r}$$\n",
    "\n",
    "\n",
    "\n",
    "\n"
   ]
  },
  {
   "cell_type": "markdown",
   "id": "ca30e537-4e6d-40d6-9f53-76b1c6c0ab5a",
   "metadata": {},
   "source": [
    "## absolute value\n",
    "tex\n",
    "\n",
    "$|x + y|$\n",
    "\n",
    "\n"
   ]
  },
  {
   "cell_type": "code",
   "execution_count": null,
   "id": "39035e62-de6e-4f66-95cb-fcb76bac4d01",
   "metadata": {},
   "outputs": [],
   "source": []
  },
  {
   "cell_type": "code",
   "execution_count": null,
   "id": "59b9ea85-60d5-4435-bbe8-54111c6790ed",
   "metadata": {},
   "outputs": [],
   "source": []
  },
  {
   "cell_type": "markdown",
   "id": "47fa106a-cc50-4313-94f2-87f4443d3b1a",
   "metadata": {},
   "source": [
    "## gpt Yes, you can insert images in Markdown.\n",
    "\n",
    " The syntax for adding an image is similar to that of a link, but with an exclamation mark ! at the beginning. Here's the basic format:\n",
    "\n",
    "markdown\n",
    "Copy\n",
    "![Alt text](URL_or_path_to_image \"Optional title\")\n",
    "Alt text: This is the alternative text that will be displayed if the image cannot be loaded. It's also used by screen readers for accessibility.\n",
    "\n",
    "URL_or_path_to_image: This is the URL of the image if it's hosted online, or the relative path to the image if it's stored locally.\n",
    "\n",
    "Optional title: This is an optional title for the image, which will be displayed as a tooltip when the user hovers over the image.\n",
    "\n",
    "Examples\n",
    "Online Image:\n",
    "\n",
    "markdown\n",
    "Copy\n",
    "![Markdown Logo](https://markdown-here.com/img/icon256.png \"Markdown Logo\")\n",
    "Local Image:\n",
    "If the image is stored locally in the same directory as your Markdown file:\n",
    "\n",
    "markdown\n",
    "Copy\n",
    "![Local Image](image.png \"Local Image\")\n",
    "If the image is in a subdirectory:\n",
    "\n",
    "markdown\n",
    "Copy\n",
    "![Local Image](/images/image.png \"Local Image\")\n",
    "Notes\n",
    "Make sure the path to the image is correct, especially when using local images.\n",
    "\n",
    "If you're using a Markdown editor or viewer that supports it, you might also be able to drag and drop images directly into the editor, which will automatically insert the correct Markdown syntax.\n",
    "\n",
    "This will render the image in your Markdown document when viewed in a compatible viewer or editor.\n",
    "\n",
    "New chat\n"
   ]
  },
  {
   "cell_type": "markdown",
   "id": "311ae0ee-0620-4474-8ba1-6f353fcfaad7",
   "metadata": {},
   "source": [
    "# image MUST be in the working directory\n",
    "![Local Image](sample.png \"optional title\")"
   ]
  },
  {
   "cell_type": "markdown",
   "id": "c7b5127d-2390-4fac-9ce8-1c515121d0e8",
   "metadata": {},
   "source": [
    "# or URL\n",
    "![Jupyter Logo](https://upload.wikimedia.org/wikipedia/commons/3/38/Jupyter_logo.svg)"
   ]
  },
  {
   "cell_type": "markdown",
   "id": "2937359e-7e81-476b-9fe6-844ad9cac864",
   "metadata": {},
   "source": [
    "## jupyter markdown cuts new line\n",
    "\n",
    "Markdown in Jupyter Notebooks (and other Markdown renderers) often \"cuts\" or ignores single line breaks because it follows the CommonMark specification, which treats single line breaks as spaces rather than new paragraphs. This is a design choice to make Markdown more readable and compact in its raw form.\n",
    "\n",
    "Why Markdown Ignores Single Line Breaks:\n",
    "Readability in Raw Text: Markdown is designed to be easy to read and write in its raw form. If every single line break created a new paragraph, the raw text would look fragmented and harder to read.\n",
    "\n",
    "#### Paragraphs vs. Line Breaks:\n",
    "\n",
    "#### To create a new paragraph in Markdown, you need to leave a blank line between two blocks of text.\n",
    "\n",
    "#### If you want a line break within the same paragraph (like a soft return), you need to end the line with two spaces or a backslash (\\)."
   ]
  },
  {
   "cell_type": "code",
   "execution_count": null,
   "id": "3e970947-5ee0-4717-be55-f847be15da60",
   "metadata": {},
   "outputs": [],
   "source": []
  },
  {
   "cell_type": "code",
   "execution_count": null,
   "id": "706813ab-1eac-4eeb-8c9f-8b348100e748",
   "metadata": {},
   "outputs": [],
   "source": []
  },
  {
   "cell_type": "code",
   "execution_count": null,
   "id": "8a46274b-f0bb-4a94-a214-9a9b45bcb940",
   "metadata": {},
   "outputs": [],
   "source": []
  }
 ],
 "metadata": {
  "kernelspec": {
   "display_name": "Python 3 (ipykernel)",
   "language": "python",
   "name": "python3"
  },
  "language_info": {
   "codemirror_mode": {
    "name": "ipython",
    "version": 3
   },
   "file_extension": ".py",
   "mimetype": "text/x-python",
   "name": "python",
   "nbconvert_exporter": "python",
   "pygments_lexer": "ipython3",
   "version": "3.12.2"
  },
  "panel-cell-order": [
   "addb18c1-adf5-4e80-ae5a-72117b755c36"
  ]
 },
 "nbformat": 4,
 "nbformat_minor": 5
}
