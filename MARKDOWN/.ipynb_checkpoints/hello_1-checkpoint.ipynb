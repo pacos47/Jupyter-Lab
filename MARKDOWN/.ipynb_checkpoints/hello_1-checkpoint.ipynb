{
 "cells": [
  {
   "cell_type": "markdown",
   "id": "adadbe80-5f0a-4f7e-a743-4e843c37569d",
   "metadata": {},
   "source": [
    "# Heading 1\n",
    "## Heading 2\n",
    "### Heading 3\n",
    "#### Heading 4"
   ]
  },
  {
   "cell_type": "markdown",
   "id": "dd761954-4438-4e4c-af9c-2b3d57e56193",
   "metadata": {},
   "source": [
    "# This is a Heading\n",
    "- Bullet Point 1\n",
    "- Bullet Point 2"
   ]
  },
  {
   "cell_type": "markdown",
   "id": "4d0b2c0e-8bd3-4f05-b2ad-0877e56b14e8",
   "metadata": {},
   "source": [
    "## hello there"
   ]
  },
  {
   "cell_type": "code",
   "execution_count": 17,
   "id": "3974cdae-79c2-4345-9424-eead142db4b8",
   "metadata": {},
   "outputs": [
    {
     "name": "stdout",
     "output_type": "stream",
     "text": [
      "This line will be printed.\n"
     ]
    }
   ],
   "source": [
    "print(\"This line will be printed.\")"
   ]
  },
  {
   "cell_type": "markdown",
   "id": "addb18c1-adf5-4e80-ae5a-72117b755c36",
   "metadata": {
    "panel-layout": {
     "height": 51.1406,
     "visible": true,
     "width": 100
    }
   },
   "source": [
    "### To include math within a line, wrap the expression with single dollar signs ($):\n",
    "\n",
    "Ο τύπος του Euler: $e^{i\\pi} + 1 = 0$"
   ]
  },
  {
   "cell_type": "markdown",
   "id": "05ad9417-9bb7-484b-92b0-756449b3469d",
   "metadata": {},
   "source": [
    "## Δεύτερη μέθοδος\n",
    "### Block LaTeX Math\n",
    "For larger, standalone math expressions, wrap the equation with double dollar signs ($$):\n",
    "\n",
    "$$E = mc^2$$"
   ]
  },
  {
   "cell_type": "code",
   "execution_count": null,
   "id": "b4488a77-13cb-4413-ad81-6fa03cc89ace",
   "metadata": {},
   "outputs": [],
   "source": [
    "Yes, you can insert images in Markdown. The syntax for adding an image is similar to that of a link, but with an exclamation mark ! at the beginning. Here's the basic format:\n",
    "\n",
    "markdown\n",
    "Copy\n",
    "![Alt text](URL_or_path_to_image \"Optional title\")\n",
    "Alt text: This is the alternative text that will be displayed if the image cannot be loaded. It's also used by screen readers for accessibility.\n",
    "\n",
    "URL_or_path_to_image: This is the URL of the image if it's hosted online, or the relative path to the image if it's stored locally.\n",
    "\n",
    "Optional title: This is an optional title for the image, which will be displayed as a tooltip when the user hovers over the image.\n",
    "\n",
    "Examples\n",
    "Online Image:\n",
    "\n",
    "markdown\n",
    "Copy\n",
    "![Markdown Logo](https://markdown-here.com/img/icon256.png \"Markdown Logo\")\n",
    "Local Image:\n",
    "If the image is stored locally in the same directory as your Markdown file:\n",
    "\n",
    "markdown\n",
    "Copy\n",
    "![Local Image](image.png \"Local Image\")\n",
    "If the image is in a subdirectory:\n",
    "\n",
    "markdown\n",
    "Copy\n",
    "![Local Image](/images/image.png \"Local Image\")\n",
    "Notes\n",
    "Make sure the path to the image is correct, especially when using local images.\n",
    "\n",
    "If you're using a Markdown editor or viewer that supports it, you might also be able to drag and drop images directly into the editor, which will automatically insert the correct Markdown syntax.\n",
    "\n",
    "This will render the image in your Markdown document when viewed in a compatible viewer or editor.\n",
    "\n",
    "New chat\n"
   ]
  },
  {
   "cell_type": "markdown",
   "id": "311ae0ee-0620-4474-8ba1-6f353fcfaad7",
   "metadata": {},
   "source": [
    "# image MUST be in the working directory\n",
    "![Local Image](sample.png \"optional title\")"
   ]
  },
  {
   "cell_type": "markdown",
   "id": "c7b5127d-2390-4fac-9ce8-1c515121d0e8",
   "metadata": {},
   "source": [
    "# or URL\n",
    "![Jupyter Logo](https://upload.wikimedia.org/wikipedia/commons/3/38/Jupyter_logo.svg)"
   ]
  },
  {
   "cell_type": "code",
   "execution_count": null,
   "id": "ba6b6d6a-092f-4f91-b4b1-781a8097a44d",
   "metadata": {},
   "outputs": [],
   "source": []
  }
 ],
 "metadata": {
  "kernelspec": {
   "display_name": "Python [conda env:base] *",
   "language": "python",
   "name": "conda-base-py"
  },
  "language_info": {
   "codemirror_mode": {
    "name": "ipython",
    "version": 3
   },
   "file_extension": ".py",
   "mimetype": "text/x-python",
   "name": "python",
   "nbconvert_exporter": "python",
   "pygments_lexer": "ipython3",
   "version": "3.12.7"
  },
  "panel-cell-order": [
   "addb18c1-adf5-4e80-ae5a-72117b755c36"
  ]
 },
 "nbformat": 4,
 "nbformat_minor": 5
}
