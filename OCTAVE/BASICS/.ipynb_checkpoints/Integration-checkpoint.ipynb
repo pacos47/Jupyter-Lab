{
 "cells": [
  {
   "cell_type": "code",
   "execution_count": 14,
   "id": "fdde8142-c4ea-4c45-8b57-f448003267dc",
   "metadata": {},
   "outputs": [],
   "source": [
    "graphics_toolkit gnuplot\n",
    "pkg load symbolic"
   ]
  },
  {
   "cell_type": "code",
   "execution_count": null,
   "id": "5c09d0a4-8e81-403b-b9da-87c528de7c1b",
   "metadata": {},
   "outputs": [],
   "source": []
  },
  {
   "cell_type": "markdown",
   "id": "95192848-9afe-4a63-9e6c-5ccb901b37fd",
   "metadata": {},
   "source": [
    "## integration\n",
    "To compute the integral of over a given interval in MATLAB, you can use the integral function (for numerical integration) or int from the Symbolic Math Toolbox (for symbolic integration).\n",
    "\n",
    "### 1. Numerical Integration (Using integral)\n",
    "If you want a numerical result, use:\n",
    "\n",
    "matlab\n",
    "Copy\n",
    "f = @(x) cos(x).^2;  % Define the integrand as a function handle\n",
    "a = 0;               % Lower limit\n",
    "b = pi;              % Upper limit (example interval [0, π])\n",
    "result = integral(f, a, b);\n",
    "disp(result);\n",
    "Output:\n",
    "For , the result is (which is , the exact value).\n",
    "\n",
    "2. Symbolic Integration (Using int)\n",
    "If you want an exact symbolic result:\n",
    "\n",
    "matlab\n",
    "Copy\n",
    "syms x;\n",
    "f = cos(x)^2;        % Symbolic integrand\n",
    "a = 0;               % Lower limit\n",
    "b = pi;              % Upper limit\n",
    "result = int(f, x, a, b);\n",
    "disp(result);\n",
    "Output:\n",
    "For , MATLAB returns .\n",
    "\n",
    "\n",
    "\n",
    "Key Notes\n",
    "integral() is for numerical integration (works with function handles).\n",
    "\n",
    "int() is for symbolic integration (requires the Symbolic Math Toolbox).\n",
    "\n",
    "The exact integral of over is .\n",
    "\n",
    "Would you like to compute it over a different interval?\n",
    "\n",
    "New chat\n",
    "Message DeepSeek\n",
    "AI-generated, for reference only\n"
   ]
  },
  {
   "cell_type": "code",
   "execution_count": 1,
   "id": "6fa7adcf-e514-429a-88ee-a569c041fb4e",
   "metadata": {},
   "outputs": [
    {
     "name": "stdout",
     "output_type": "stream",
     "text": [
      "1.5708\n"
     ]
    }
   ],
   "source": [
    "f = @(x) cos(x).^2;  % Define the integrand as a function handle\n",
    "a = 0;               % Lower limit\n",
    "b = pi;              % Upper limit (example interval [0, π])\n",
    "result = integral(f, a, b);\n",
    "disp(result);"
   ]
  },
  {
   "cell_type": "code",
   "execution_count": 18,
   "id": "d40b780e-e840-46b2-ae56-3152603f2e8e",
   "metadata": {},
   "outputs": [
    {
     "name": "stdout",
     "output_type": "stream",
     "text": [
      "  π\n",
      "  ─\n",
      "  2\n"
     ]
    }
   ],
   "source": [
    "syms x;\n",
    "f = cos(x)^2;        % Symbolic integrand\n",
    "a = 0;               % Lower limit\n",
    "b = pi;              % Upper limit\n",
    "result = int(f, x, a, b);\n",
    "disp(result);\n"
   ]
  },
  {
   "cell_type": "markdown",
   "id": "4a9654eb-227d-4df2-8bac-41a5e0f2eccc",
   "metadata": {},
   "source": [
    "## ολοκλήρωση\n",
    "## what is trapz in matlab\n",
    "In MATLAB, the trapz function performs numerical integration using the trapezoidal rule. This method approximates the integral of a function by dividing the area under its curve into trapezoids and summing their areas. Here’s an overview:\n",
    "\n",
    "Syntax Q = trapz(Y): Computes the integral of Y assuming unit spacing between data points.\n",
    "\n",
    "Q = trapz(X, Y): Computes the integral of Y with respect to coordinates or spacing defined in X.\n",
    "\n",
    "Q = trapz(___, dim): Specifies the dimension along which to integrate for multidimensional arrays.\n",
    "\n",
    "Functionality For Vectors: If Y is a vector, trapz(Y) computes the approximate integral of Y.\n",
    "\n",
    "For Matrices: If Y is a matrix, trapz(Y) integrates over each column and returns a row vector of integration values.\n",
    "\n",
    "For Multidimensional Arrays: The function integrates along the first nonsingleton dimension unless specified otherwise using the dim parameter.\n",
    "\n",
    "Examples Unit Spacing:\n",
    "\n",
    "matlab Y = [2 4 8 16 32]; Q = trapz(Y); % Integrates with unit spacing disp(Q); This computes the integral of Y assuming equal spacing between points.\n",
    "\n",
    "Custom Spacing:\n",
    "\n",
    "matlab X = 0:pi/100:pi/2; Y = cos(X); Q = trapz(X, Y); % Integrates with respect to X disp(Q); Integration Along Specific Dimension:\n",
    "\n",
    "matlab Y = [1 2 3; 4 5 6; 7 8 9]; Q = trapz(Y, 2); % Integrates along rows disp(Q);"
   ]
  },
  {
   "cell_type": "code",
   "execution_count": 25,
   "id": "674e0b00-fc9c-496f-88cf-a7bb9cfed8d4",
   "metadata": {},
   "outputs": [
    {
     "name": "stdout",
     "output_type": "stream",
     "text": [
      "45\n"
     ]
    }
   ],
   "source": [
    "Y = [2 4 8 16 32];\n",
    "Q = trapz(Y); % Integrates with unit spacing\n",
    "disp(Q);"
   ]
  },
  {
   "cell_type": "code",
   "execution_count": 28,
   "id": "7282dd3e-c9db-40f9-9fa9-0405b7bba041",
   "metadata": {},
   "outputs": [
    {
     "name": "stdout",
     "output_type": "stream",
     "text": [
      "0.9999\n"
     ]
    }
   ],
   "source": [
    "X = 0:pi/100:pi/2;\n",
    "Y = cos(X);\n",
    "Q = trapz(X, Y); % Integrates with respect to X\n",
    "disp(Q);\n",
    "%Integration Along Specific Dimension:"
   ]
  },
  {
   "cell_type": "code",
   "execution_count": 31,
   "id": "8add1175-1f24-4add-8804-5ae626d6677c",
   "metadata": {},
   "outputs": [
    {
     "name": "stdout",
     "output_type": "stream",
     "text": [
      "-6.9389e-17\n"
     ]
    }
   ],
   "source": [
    "X = 0:2*pi/100:2*pi;\n",
    "Y = cos(X);\n",
    "Q = trapz(X, Y); % Integrates with respect to X\n",
    "disp(Q);"
   ]
  },
  {
   "cell_type": "code",
   "execution_count": 34,
   "id": "a8edafa6-b939-4f22-8f71-a927748d59de",
   "metadata": {},
   "outputs": [
    {
     "name": "stdout",
     "output_type": "stream",
     "text": [
      "3.1416\n"
     ]
    }
   ],
   "source": [
    "X = 0:2*pi/100:2*pi;\n",
    "Y = cos(X).^2;\n",
    "Q = trapz(X, Y); % Integrates with respect to X\n",
    "disp(Q);"
   ]
  },
  {
   "cell_type": "markdown",
   "id": "e62ad83e-7d53-44c3-b1eb-cd956f54a919",
   "metadata": {
    "jupyter": {
     "source_hidden": true
    }
   },
   "source": [
    "## In MATLAB, you can integrate the complex exponential function using the integral function. Here's how you can do it:\n",
    "\n",
    "Example: Integrate from 0 to\n",
    "matlab\n",
    "Copy\n",
    "% Define the integrand as an anonymous function\n",
    "f = @(x) exp(1i * x);\n",
    "\n",
    "% Perform the integration from 0 to pi\n",
    "result = integral(f, 0, pi, 'ArrayValued', true);\n",
    "\n",
    "% Display the result\n",
    "disp('The integral of e^(ix) from 0 to pi is:');\n",
    "disp(result);\n",
    "Explanation:\n",
    "exp(1i * x) represents , where 1i is MATLAB's notation for the imaginary unit .\n",
    "\n",
    "integral(f, 0, pi, 'ArrayValued', true) computes the integral of from to .\n",
    "\n",
    "The 'ArrayValued', true option allows the integration of array-valued functions (useful for complex-valued functions).\n",
    "\n",
    "The result is a complex number, which MATLAB displays in the form .\n",
    "\n",
    "Expected Output:\n",
    "The exact result of is:\n",
    "\n",
    "MATLAB will output something like:\n",
    "\n",
    "Copy\n",
    "The integral of e^(ix) from 0 to pi is:\n",
    "   0.0000 + 2.0000i\n",
    "Integration Over a Different Interval:\n",
    "If you want to integrate over a different range, say from a to b, modify the limits in the integral function:\n",
    "\n",
    "matlab\n",
    "Copy\n",
    "a = 0;\n",
    "b = 2*pi;\n",
    "result = integral(f, a, b, 'ArrayValued', true);\n",
    "disp(['The integral of e^(ix) from ', num2str(a), ' to ', num2str(b), ' is:']);\n",
    "disp(result);\n",
    "For , the result should be , as the function completes a full period. MATLAB will output something like:\n",
    "\n",
    "Copy\n",
    "The integral of e^(ix) from 0 to 6.2832 is:\n",
    "  -0.0000 + 0.0000i\n",
    "This approach works for any finite interval . Let me know if you need further clarification!\n",
    "\n",
    "New chat"
   ]
  },
  {
   "cell_type": "code",
   "execution_count": 48,
   "id": "f72c017b-f7ff-4166-954f-11c75acce4d6",
   "metadata": {},
   "outputs": [
    {
     "name": "stdout",
     "output_type": "stream",
     "text": [
      "The integral of e^(ix) from 0 to pi is:\n",
      " 3.3307e-16 + 2.0000e+00i\n"
     ]
    }
   ],
   "source": [
    "% Define the integrand as an anonymous function\n",
    "f = @(x) exp(1i * x);\n",
    "\n",
    "% Perform the integration from 0 to pi\n",
    "result = integral(f, 0, pi, 'ArrayValued', true);\n",
    "\n",
    "% Display the result\n",
    "disp('The integral of e^(ix) from 0 to pi is:');\n",
    "disp(result);"
   ]
  },
  {
   "cell_type": "code",
   "execution_count": 50,
   "id": "d7f70a02-4cbb-44d3-9096-8fb1f85038d5",
   "metadata": {},
   "outputs": [
    {
     "name": "stdout",
     "output_type": "stream",
     "text": [
      "The integral of e^(ix) from 0 to 6.2832 is:\n",
      "-1.5099e-14\n"
     ]
    }
   ],
   "source": [
    "a = 0;\n",
    "b = 2*pi;\n",
    "result = integral(f, a, b, 'ArrayValued', true);\n",
    "disp(['The integral of e^(ix) from ', num2str(a), ' to ', num2str(b), ' is:']);\n",
    "disp(result);"
   ]
  },
  {
   "cell_type": "code",
   "execution_count": 52,
   "id": "d8c5133c-26bf-45f4-81d0-587d037ca635",
   "metadata": {},
   "outputs": [
    {
     "name": "stdout",
     "output_type": "stream",
     "text": [
      "The integral of e^(ix) from -0.7854 to 0.7854 is:\n",
      "1.4142\n"
     ]
    }
   ],
   "source": [
    "a = -pi/4;\n",
    "b = pi/4;\n",
    "result = integral(f, a, b, 'ArrayValued', true);\n",
    "disp(['The integral of e^(ix) from ', num2str(a), ' to ', num2str(b), ' is:']);\n",
    "disp(result);"
   ]
  },
  {
   "cell_type": "markdown",
   "id": "6e485a1e-b609-4709-842c-f80349378cd5",
   "metadata": {},
   "source": [
    "# Symbolic Integration of \n",
    "\n",
    "### $$ e^{ix} $$\n"
   ]
  },
  {
   "cell_type": "code",
   "execution_count": 78,
   "id": "7cf62c1f-ac0f-448e-9bcf-fdfb99bfa7b2",
   "metadata": {},
   "outputs": [
    {
     "name": "stdout",
     "output_type": "stream",
     "text": [
      "      ⅈ⋅x\n",
      "  -ⅈ⋅ℯ   \n"
     ]
    }
   ],
   "source": [
    "syms x\n",
    "f = exp(1i*x);\n",
    "int_f = int(f, x);\n",
    "disp(int_f)"
   ]
  },
  {
   "cell_type": "markdown",
   "id": "0e46d050-e0c7-4f0a-b574-1f95c6cc76ed",
   "metadata": {},
   "source": [
    "### Definite Integral Example:"
   ]
  },
  {
   "cell_type": "code",
   "execution_count": 80,
   "id": "6c849b47-cdc3-444e-ad56-972186bf8b05",
   "metadata": {},
   "outputs": [
    {
     "name": "stdout",
     "output_type": "stream",
     "text": [
      "  2⋅ⅈ\n"
     ]
    }
   ],
   "source": [
    "syms x\n",
    "f = exp(1i*x);\n",
    "int_def = int(f, x, 0, pi);  % from 0 to π\n",
    "disp(int_def)"
   ]
  },
  {
   "cell_type": "code",
   "execution_count": 82,
   "id": "da16b331-86f3-4195-aff6-8d579ace2baf",
   "metadata": {},
   "outputs": [
    {
     "name": "stdout",
     "output_type": "stream",
     "text": [
      "       ⅈ      -ⅈ\n",
      "  - ⅈ⋅ℯ  + ⅈ⋅ℯ  \n"
     ]
    }
   ],
   "source": [
    "syms x\n",
    "f = exp(1i*x);\n",
    "int_def = int(f, x, -1, 1);  % from 0 to π\n",
    "disp(int_def)   % gives 2sin1"
   ]
  },
  {
   "cell_type": "markdown",
   "id": "9142db75-817c-479a-ae32-d82a5e362555",
   "metadata": {},
   "source": [
    "#### the above result is : 2sin1 (rad), -1/+1 beingthe integration limits"
   ]
  },
  {
   "cell_type": "code",
   "execution_count": null,
   "id": "ccf8de28-bd86-4a01-8a7c-76458cd5fd3d",
   "metadata": {},
   "outputs": [],
   "source": []
  }
 ],
 "metadata": {
  "kernelspec": {
   "display_name": "Octave",
   "language": "octave",
   "name": "octave"
  },
  "language_info": {
   "file_extension": ".m",
   "help_links": [
    {
     "text": "GNU Octave",
     "url": "https://www.gnu.org/software/octave/support.html"
    },
    {
     "text": "Octave Kernel",
     "url": "https://github.com/Calysto/octave_kernel"
    },
    {
     "text": "MetaKernel Magics",
     "url": "https://metakernel.readthedocs.io/en/latest/source/README.html"
    }
   ],
   "mimetype": "text/x-octave",
   "name": "octave",
   "version": "6.4.0"
  }
 },
 "nbformat": 4,
 "nbformat_minor": 5
}
