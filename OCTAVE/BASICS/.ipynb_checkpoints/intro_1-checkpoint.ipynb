{
 "cells": [
  {
   "cell_type": "markdown",
   "id": "51edf4f6-6d33-4bc5-98e8-180911c8646a",
   "metadata": {},
   "source": [
    "## Remarks on straring lab\n",
    "\n",
    "I created anew directory for OCTAVE : /home/pacos/Documents/JUPYTER-LAB/OCTAVE/BASICS\n",
    "From within this dir (as suggsted so as to work from current directory)\n",
    "I asked for terminal and from terminal .....$jupyter-lab\n",
    "\n",
    "\n"
   ]
  },
  {
   "cell_type": "code",
   "execution_count": 1,
   "id": "e8b37381-4f60-4b2d-a848-35ef470f46b8",
   "metadata": {},
   "outputs": [
    {
     "name": "stdout",
     "output_type": "stream",
     "text": [
      "ans = 6\n"
     ]
    }
   ],
   "source": [
    "1+5\n"
   ]
  },
  {
   "cell_type": "code",
   "execution_count": 3,
   "id": "26047e33-6f57-487a-814d-73c27b907b29",
   "metadata": {},
   "outputs": [
    {
     "name": "stdout",
     "output_type": "stream",
     "text": [
      "ans =\n",
      "\n",
      "   1   2   3\n",
      "\n"
     ]
    }
   ],
   "source": [
    "[1 2 3]"
   ]
  },
  {
   "cell_type": "code",
   "execution_count": 5,
   "id": "0c83c66c-1ea2-4ca1-93e0-8948ad2aadce",
   "metadata": {},
   "outputs": [
    {
     "name": "stdout",
     "output_type": "stream",
     "text": [
      "ans =\n",
      "\n",
      "   1   2   3\n",
      "   4   5   6\n",
      "\n"
     ]
    }
   ],
   "source": [
    "[[1 2 3];[4 5 6]]"
   ]
  },
  {
   "cell_type": "code",
   "execution_count": null,
   "id": "8fa1a1c1-f2ea-4d9d-afde-95110c8911e4",
   "metadata": {},
   "outputs": [],
   "source": []
  }
 ],
 "metadata": {
  "kernelspec": {
   "display_name": "Octave [conda env:base] *",
   "language": "octave",
   "name": "conda-base-octave"
  },
  "language_info": {
   "file_extension": ".m",
   "help_links": [
    {
     "text": "GNU Octave",
     "url": "https://www.gnu.org/software/octave/support.html"
    },
    {
     "text": "Octave Kernel",
     "url": "https://github.com/Calysto/octave_kernel"
    },
    {
     "text": "MetaKernel Magics",
     "url": "https://metakernel.readthedocs.io/en/latest/source/README.html"
    }
   ],
   "mimetype": "text/x-octave",
   "name": "octave",
   "version": "6.4.0"
  }
 },
 "nbformat": 4,
 "nbformat_minor": 5
}
