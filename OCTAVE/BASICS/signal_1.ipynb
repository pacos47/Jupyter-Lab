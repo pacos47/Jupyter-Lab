{
 "cells": [
  {
   "cell_type": "markdown",
   "id": "0b19a374-846d-4bfd-ae00-ebc329d8c0a8",
   "metadata": {},
   "source": [
    "# signal"
   ]
  },
  {
   "cell_type": "code",
   "execution_count": 4,
   "id": "40ba02ce-0d51-4f6b-819c-45f08f5b4e84",
   "metadata": {},
   "outputs": [],
   "source": [
    "graphics_toolkit gnuplot"
   ]
  },
  {
   "cell_type": "code",
   "execution_count": 6,
   "id": "aefd4db6-2a13-42d2-88e7-b6115fb06185",
   "metadata": {},
   "outputs": [
    {
     "data": {
      "image/png": "[encoded data removed]",
      "text/plain": [
       "<IPython.core.display.Image object>"
      ]
     },
     "metadata": {},
     "output_type": "display_data"
    }
   ],
   "source": [
    "graphics_toolkit('gnuplot');  % or 'qt' if available\n",
    "% Create a time vector\n",
    "t = -10:0.1:10;  % From -10 to 10 in steps of 0.1\n",
    "\n",
    "% Create a Dirac delta at t=0\n",
    "delta = zeros(size(t));\n",
    "delta(t == 0) = 1;  % Set value to 1 only at t=0\n",
    "\n",
    "% Plot the Dirac delta\n",
    "stem(t, delta);\n",
    "title('Dirac Delta Function');\n",
    "xlabel('Time');\n",
    "ylabel('Amplitude');"
   ]
  },
  {
   "cell_type": "code",
   "execution_count": 8,
   "id": "b44ea59a-9713-45ea-ab65-e4b65dc1d94c",
   "metadata": {},
   "outputs": [
    {
     "name": "stdout",
     "output_type": "stream",
     "text": [
      "error: graphics_toolkit: qt toolkit is not available\n",
      "error: called from\n",
      "    graphics_toolkit at line 88 column 5\n"
     ]
    },
    {
     "data": {
      "image/png": "[encoded data removed]",
      "text/plain": [
       "<IPython.core.display.Image object>"
      ]
     },
     "metadata": {},
     "output_type": "display_data"
    }
   ],
   "source": [
    "graphics_toolkit('qt');  % or 'qt' if available\n",
    "% Create a time vector\n",
    "t = -10:0.1:10;  % From -10 to 10 in steps of 0.1\n",
    "\n",
    "% Create a Dirac delta at t=0\n",
    "delta = zeros(size(t));\n",
    "delta(t == 0) = 1;  % Set value to 1 only at t=0\n",
    "\n",
    "% Plot the Dirac delta\n",
    "stem(t, delta);\n",
    "title('Dirac Delta Function');\n",
    "xlabel('Time');\n",
    "ylabel('Amplitude');"
   ]
  },
  {
   "cell_type": "markdown",
   "id": "ba816135-8c1d-48ad-bb1e-436fb6f967c8",
   "metadata": {},
   "source": [
    "### Check Available Toolkits\n",
    "First, see which toolkits are already installed:\n",
    "\n",
    "octave\n",
    "Copy\n",
    "graphics_toolkit(\"list\")  % Lists available toolkits\n",
    "Install Missing Toolkits\n",
    "Linux (Debian/Ubuntu)\n",
    "sh\n",
    "Copy\n",
    "sudo apt update\n",
    "sudo apt install octave octave-qt  # Installs Octave + QT toolkit"
   ]
  },
  {
   "cell_type": "code",
   "execution_count": 8,
   "id": "bb47bf8b-b795-403c-b0f5-7dee60032310",
   "metadata": {},
   "outputs": [
    {
     "name": "stdout",
     "output_type": "stream",
     "text": [
      "error: graphics_toolkit: list toolkit is not available\n",
      "error: called from\n",
      "    graphics_toolkit at line 88 column 5\n"
     ]
    }
   ],
   "source": [
    "graphics_toolkit(\"list\")  % Lists available toolkits"
   ]
  },
  {
   "cell_type": "code",
   "execution_count": 10,
   "id": "61b5a64d-304f-4e71-8e37-20c07de59f23",
   "metadata": {},
   "outputs": [
    {
     "name": "stdout",
     "output_type": "stream",
     "text": [
      "error: graphics_toolkit: list toolkit is not available\n",
      "error: called from\n",
      "    graphics_toolkit at line 88 column 5\n"
     ]
    }
   ],
   "source": [
    "graphics_toolkit(\"list\")\n"
   ]
  },
  {
   "cell_type": "code",
   "execution_count": 1,
   "id": "6fc82ec8-82df-4dba-be77-f7988e591716",
   "metadata": {
    "scrolled": true
   },
   "outputs": [
    {
     "name": "stdout",
     "output_type": "stream",
     "text": [
      "error: graphics_toolkit: qt toolkit is not available\n",
      "error: called from\n",
      "    graphics_toolkit at line 88 column 5\n",
      "error: parse error:\n",
      "\n",
      "  syntax error\n",
      "\n",
      ">>> plot(1:10)setenv(\"QT_QPA_PLATFORM\", \"offscreen\")\n",
      "                   ^\n"
     ]
    }
   ],
   "source": [
    "setenv(\"QT_QPA_PLATFORM\", \"offscreen\")\n",
    "graphics_toolkit qt\n",
    "plot(1:10)setenv(\"QT_QPA_PLATFORM\", \"offscreen\")\n",
    "\n"
   ]
  },
  {
   "cell_type": "code",
   "execution_count": 3,
   "id": "d7447f31-bec5-44dd-b15d-0786cdd1d34d",
   "metadata": {},
   "outputs": [
    {
     "name": "stdout",
     "output_type": "stream",
     "text": [
      "ans =\n",
      "{\n",
      "  [1,1] = fltk\n",
      "  [1,2] = gnuplot\n",
      "}\n",
      "\n"
     ]
    }
   ],
   "source": [
    "available_graphics_toolkits()"
   ]
  },
  {
   "cell_type": "markdown",
   "id": "153a2a82-dc1f-45cd-9dfb-39caa0c3da94",
   "metadata": {},
   "source": [
    "\n",
    "## plot vs stem\n",
    "\n",
    "Η διαφορά μεταξύ plot και stem στο Octave (ή MATLAB) είναι ο τρόπος που αναπαριστούν τα δεδομένα:\n",
    "\n",
    "1. plot - Συνεχής γραμμή (Continuous Plot)\n",
    "Η συνάρτηση plot χρησιμοποιείται για να δημιουργήσει συνεχή γραφική παράσταση (γραμμές που συνδέουν τα σημεία). Χρησιμοποιείται κυρίως για συνεχή δεδομένα ή τάσεις.\n",
    "\n",
    "Παράδειγμα:\n",
    "\n",
    "octave\n",
    "Copy\n",
    "Edit\n",
    "x = 0:0.1:10;\n",
    "y = sin(x);\n",
    "plot(x, y, 'b-')  % Μπλε συνεχής γραμμή\n",
    "grid on;\n",
    "📌 Χαρακτηριστικά του plot:\n",
    "✔ Κατάλληλο για συνεχείς συναρτήσεις\n",
    "✔ Εμφανίζει δεδομένα με συνδεδεμένα σημεία\n",
    "✔ Χρησιμοποιείται κυρίως για smooth γραφήματα\n",
    "\n",
    "2. stem - Διακριτά σημεία (Discrete Plot)\n",
    "Η συνάρτηση stem χρησιμοποιείται για να δημιουργήσει διακριτή γραφική παράσταση (μπάρες που ξεκινούν από τον άξονα x και καταλήγουν στα σημεία δεδομένων). Χρησιμοποιείται κυρίως για διακριτά δεδομένα ή ακολουθίες.\n",
    "\n",
    "Παράδειγμα:\n",
    "\n",
    "octave\n",
    "Copy\n",
    "Edit\n",
    "n = 0:10;\n",
    "y = sin(n);\n",
    "stem(n, y, 'r')  % Κόκκινα διακριτά σημεία με κάθετες γραμμές\n",
    "grid on;\n",
    "📌 Χαρακτηριστικά του stem:\n",
    "✔ Κατάλληλο για διακριτές ακολουθίες (π.χ. σήματα, δειγματοληψίες)\n",
    "✔ Δείχνει ξεχωριστά σημεία χωρίς να τα συνδέει\n",
    "✔ Χρησιμοποιείται σε σήματα DSP (Επεξεργασία Ψηφιακού Σήματος)\n",
    "\n",
    "🎯 Σύγκριση plot vs stem\n",
    "Χαρακτηριστικό\tplot\tstem\n",
    "Συνεχής ή διακριτή\tΣυνεχής γραμμή\tΔιακριτά σημεία\n",
    "Κατάλληλο για\tΣυναρτήσεις, smooth curves\tΔιακριτά σήματα, ακολουθίες\n",
    "Σύνδεση σημείων\tΝαι\tΌχι, μόνο κάθετες γραμμές\n",
    "Κλασική χρήση\tΓραφήματα συναρτήσεων\tΣήματα, ακολουθίες, δειγματοληψία\n",
    "📌 Παράδειγμα με τα δύο μαζί\n",
    "octave\n",
    "Copy\n",
    "Edit\n",
    "x = 0:0.1:10;\n",
    "y = sin(x);\n",
    "\n",
    "subplot(2,1,1);\n",
    "plot(x, y, 'b-');\n",
    "title(\"plot - Continuous\");\n",
    "\n",
    "subplot(2,1,2);\n",
    "stem(x, y, 'r');\n",
    "title(\"stem - Discrete\");\n",
    "Αυτό θα εμφανίσει δύο γραφήματα:\n",
    "✅ Πάνω: Συνεχές γράφημα με plot\n",
    "✅ Κάτω: Διακριτό γράφημα με stem\n",
    "\n"
   ]
  },
  {
   "cell_type": "code",
   "execution_count": 9,
   "id": "e63f8fe1-2cf8-445d-91b8-0d36729eb0b6",
   "metadata": {},
   "outputs": [
    {
     "data": {
      "image/png": "[encoded data removed]",
      "text/plain": [
       "<IPython.core.display.Image object>"
      ]
     },
     "metadata": {},
     "output_type": "display_data"
    }
   ],
   "source": [
    "x = 0:0.1:10;\n",
    "y = sin(x);\n",
    "plot(x, y, 'b-')  % Μπλε συνεχής γραμμή\n",
    "grid on;"
   ]
  },
  {
   "cell_type": "markdown",
   "id": "7a7ba766-0b89-423b-9384-0c22ec4f0ed6",
   "metadata": {},
   "source": [
    "## subplot\n",
    "\n",
    "\n",
    "\n",
    "Στην Octave, η συνάρτηση subplot χρησιμοποιείται για τη δημιουργία πολλαπλών γραφημάτων (plots) σε ένα ενιαίο παράθυρο. Η βασική σύνταξη είναι:\n",
    "\n",
    "\n",
    "subplot(m, n, p)\n",
    "Όπου:\n",
    "\n",
    "m είναι ο αριθμός των γραμμών στον πίνακα των γραφημάτων.\n",
    "\n",
    "n είναι ο αριθμός των στηλών στον πίνακα των γραφημάτων.\n",
    "\n",
    "p είναι η θέση του τρέχοντος γραφήματος (αριθμείται από αριστερά προς τα δεξιά και από πάνω προς τα κάτω).\n",
    "\n",
    "Παράδειγμα: Δημιουργία 4 γραφημάτων σε διάταξη 2×2\n",
    "octave\n",
    "Copy\n",
    "Edit\n",
    "x = 0:0.1:10;\n",
    "\n",
    "subplot(2, 2, 1);\n",
    "plot(x, sin(x));\n",
    "title(\"sin(x)\");\n",
    "\n",
    "subplot(2, 2, 2);\n",
    "plot(x, cos(x));\n",
    "title(\"cos(x)\");\n",
    "\n",
    "subplot(2, 2, 3);\n",
    "plot(x, tan(x));\n",
    "title(\"tan(x)\");\n",
    "\n",
    "subplot(2, 2, 4);\n",
    "plot(x, exp(-x));\n",
    "title(\"exp(-x)\");\n",
    "Αυτό το παράδειγμα δημιουργεί τέσσερα γραφήματα με διαφορετικές συναρτήσεις, τα οποία τοποθετούνται σε μια διάταξη 2×2."
   ]
  },
  {
   "cell_type": "code",
   "execution_count": 14,
   "id": "bbf0ca11-bb2a-4fb3-a8c2-81eb94620bc5",
   "metadata": {},
   "outputs": [
    {
     "data": {
      "image/png": "[encoded data removed]",
      "text/plain": [
       "<IPython.core.display.Image object>"
      ]
     },
     "metadata": {},
     "output_type": "display_data"
    }
   ],
   "source": [
    "x = 0:0.1:10;\n",
    "\n",
    "subplot(2, 2, 1);\n",
    "plot(x, sin(x));\n",
    "title(\"sin(x)\");\n",
    "\n",
    "subplot(2, 2, 2);\n",
    "plot(x, cos(x));\n",
    "title(\"cos(x)\");\n",
    "\n",
    "subplot(2, 2, 3);\n",
    "plot(x, tan(x));\n",
    "title(\"tan(x)\");\n",
    "\n",
    "subplot(2, 2, 4);\n",
    "plot(x, exp(-x));\n",
    "title(\"exp(-x)\");"
   ]
  },
  {
   "cell_type": "code",
   "execution_count": 11,
   "id": "8ee4cabc-ef33-4d4b-a858-c3d7472870a5",
   "metadata": {
    "scrolled": true
   },
   "outputs": [
    {
     "data": {
      "image/png": "[encoded data removed]",
      "text/plain": [
       "<IPython.core.display.Image object>"
      ]
     },
     "metadata": {},
     "output_type": "display_data"
    }
   ],
   "source": [
    "x = 0:0.1:10;\n",
    "y = sin(x);\n",
    "\n",
    "subplot(2,1,1);\n",
    "plot(x, y, 'b-');\n",
    "title(\"plot - Continuous\");\n",
    "\n",
    "subplot(2,1,2);\n",
    "stem(x, y, 'r');\n",
    "title(\"stem - Discrete\");"
   ]
  },
  {
   "cell_type": "code",
   "execution_count": 10,
   "id": "6d4ede52-8d19-4e8b-a829-63cf98e8eacc",
   "metadata": {},
   "outputs": [
    {
     "data": {
      "image/png": "[encoded data removed]",
      "text/plain": [
       "<IPython.core.display.Image object>"
      ]
     },
     "metadata": {},
     "output_type": "display_data"
    }
   ],
   "source": [
    "deltax = [1, 0, 0, 0, 0];  % Discrete impulse at n=0\n",
    "plot(deltax)\n",
    "stem(deltax)"
   ]
  },
  {
   "cell_type": "code",
   "execution_count": 23,
   "id": "6860bde4-b2e8-4558-8df8-0246362cdca6",
   "metadata": {},
   "outputs": [
    {
     "data": {
      "image/png": "[encoded data removed]",
      "text/plain": [
       "<IPython.core.display.Image object>"
      ]
     },
     "metadata": {},
     "output_type": "display_data"
    }
   ],
   "source": [
    "n = -5:5;\n",
    "greek_d = (n == 2);\n",
    "stem(n, greek_d);"
   ]
  },
  {
   "cell_type": "markdown",
   "id": "039733db-0f23-4444-8899-83d7c001e36c",
   "metadata": {},
   "source": [
    " Approximation of the Dirac Delta\n",
    "Since Dirac's delta is idealized, we approximate it numerically using Gaussian pulses or sinc functions:"
   ]
  },
  {
   "cell_type": "code",
   "execution_count": 34,
   "id": "de6d1477-8c5e-4d90-94c2-8812cd6b5f6a",
   "metadata": {},
   "outputs": [
    {
     "data": {
      "image/png": "[encoded data removed]",
      "text/plain": [
       "<IPython.core.display.Image object>"
      ]
     },
     "metadata": {},
     "output_type": "display_data"
    }
   ],
   "source": [
    "t = linspace(-1, 1, 1000);\n",
    "sigma = 0.01;  % Small width\n",
    "delta_approx = exp(-t.^2 / (2 * sigma^2)) / (sigma * sqrt(2 * pi));\n",
    "plot(t, delta_approx);"
   ]
  },
  {
   "cell_type": "code",
   "execution_count": 36,
   "id": "32f9eb08-d8ee-42a8-be79-6379382f06b3",
   "metadata": {},
   "outputs": [
    {
     "name": "stdout",
     "output_type": "stream",
     "text": [
      "   1   2   3   4   0   0   0\n"
     ]
    }
   ],
   "source": [
    "x = [1, 2, 3, 4];\n",
    "delta_n = [1, 0, 0, 0];  % Kronecker delta\n",
    "y = conv(x, delta_n);\n",
    "disp(y);"
   ]
  },
  {
   "cell_type": "markdown",
   "id": "62d2469c-398d-4f2c-a576-978b97be75e6",
   "metadata": {},
   "source": [
    "## (Impulse Train)\n",
    "\n",
    "Μπορούμε να ορίσουμε μια ακολουθία δέλτα που ενεργοποιείται σε συγκεκριμένα χρονικά σημεία (π.χ., κάθε \n",
    "𝑇\n",
    "𝑠\n",
    "T \n",
    "s\n",
    "​\n",
    "  δευτερόλεπτα).\n",
    "\n",
    "Παράδειγμα: Δειγματοληψία κάθε \n",
    "𝑇\n",
    "𝑠\n",
    "=\n",
    "2\n",
    "T \n",
    "s\n",
    "​\n",
    " =2 μονάδες χρόνου\n",
    "octave\n",
    "Copy\n",
    "Edit\n",
    "t = 0:0.1:10; % Συνεχής χρόνος (για σχεδίαση)\n",
    "Ts = 2; % Περίοδος δειγματοληψίας\n",
    "delta_series = mod(t, Ts) == 0; % Δέλτα σε κάθε πολλαπλάσιο του Ts\n",
    "\n",
    "stem(t, delta_series, 'filled');\n",
    "xlabel('Χρόνος t');\n",
    "ylabel('\\delta(t)');\n",
    "title('Δειγματοληπτικός Παλμός (Impulse Train)');\n",
    "grid on;\n",
    "📌 Τι κάνει αυτός ο κώδικας;\n",
    "\n",
    "Ορίζουμε το διάστημα t από 0 έως 10 με βήμα 0.1 (συνεχής χρόνος).\n",
    "\n",
    "## Η συνάρτηση mod(t, Ts) == 0 παράγει παλμούς στο 0, 2, 4, 6, ... (δηλαδή κάθε Ts = 2 μονάδες χρόνου).\n",
    "\n",
    "Χρησιμοποιούμε stem για να δείξουμε τα διακριτά σημεία της σειράς δέλτα.\n",
    "\n",
    "📌 2. Χρήση της Σειράς Δέλτα για Δειγματοληψία μιας Συνάρτησης\n",
    "Αν έχουμε μια συνεχή συνάρτηση \n",
    "𝑥\n",
    "(\n",
    "𝑡\n",
    ")\n",
    "x(t), μπορούμε να τη δειγματοληπτήσουμε πολλαπλασιάζοντάς την με τη σειρά δέλτα.\n",
    "\n",
    "Παράδειγμα: Δειγματοληψία της \n",
    "𝑥\n",
    "(\n",
    "𝑡\n",
    ")\n",
    "=\n",
    "sin\n",
    "⁡\n",
    "(\n",
    "𝑡\n",
    ")\n",
    "x(t)=sin(t)\n",
    "octave\n",
    "Copy\n",
    "Edit\n",
    "t = 0:0.1:10; % Συνεχής χρόνος\n",
    "Ts = 2; % Περίοδος δειγματοληψίας\n",
    "x = sin(t); % Συνεχής συνάρτηση\n",
    "\n",
    "delta_series = mod(t, Ts) == 0; % Δειγματολήπτης\n",
    "x_sampled = x .* delta_series; % Δειγματοληψία\n",
    "\n",
    "plot(t, x, 'b', 'LineWidth', 1); % Συνεχής συνάρτηση\n",
    "hold on;\n",
    "stem(t, x_sampled, 'r', 'filled'); % Δειγματοληπτημένα σημεία\n",
    "xlabel('Χρόνος t');\n",
    "ylabel('x(t) και x_s(t)');\n",
    "title('Δειγματοληψία της x(t) = sin(t) με παλμούς δέλτα');\n",
    "legend('Συνεχής x(t)', 'Δειγματοληπτημένα σημεία');\n",
    "grid on;\n",
    "hold off;\n",
    "📌 Τι κάνει αυτός ο κώδικας;\n",
    "\n",
    "Ορίζει τη συνεχή συνάρτηση \n",
    "𝑥\n",
    "(\n",
    "𝑡\n",
    ")\n",
    "=\n",
    "sin\n",
    "⁡\n",
    "(\n",
    "𝑡\n",
    ")\n",
    "x(t)=sin(t).\n",
    "\n",
    "Δημιουργεί τη σειρά δέλτα σε συγκεκριμένα χρονικά σημεία.\n",
    "\n",
    "Πολλαπλασιάζει \n",
    "𝑥\n",
    "(\n",
    "𝑡\n",
    ")\n",
    "x(t) με τη σειρά δέλτα για να κρατήσει μόνο τα δείγματα στις σωστές χρονικές στιγμές.\n",
    "\n",
    "Σχεδιάζει τόσο τη συνεχή συνάρτηση όσο και τα δείγματά της."
   ]
  },
  {
   "cell_type": "code",
   "execution_count": 20,
   "id": "46d6f5d1-3ac6-4df8-af11-169b1c071ded",
   "metadata": {},
   "outputs": [
    {
     "data": {
      "image/png": "[encoded data removed]",
      "text/plain": [
       "<IPython.core.display.Image object>"
      ]
     },
     "metadata": {},
     "output_type": "display_data"
    }
   ],
   "source": [
    "t = 0:0.1:10; % Συνεχής χρόνος (για σχεδίαση)\n",
    "Ts = 2; % Περίοδος δειγματοληψίας\n",
    "delta_series = mod(t, Ts) == 0; % Δέλτα σε κάθε πολλαπλάσιο του Ts\n",
    "\n",
    "stem(t, delta_series, 'filled');\n",
    "xlabel('Χρόνος t');\n",
    "ylabel('\\delta(t)');\n",
    "title('Δειγματοληπτικός Παλμός (Impulse Train)');\n",
    "grid on;"
   ]
  },
  {
   "cell_type": "code",
   "execution_count": null,
   "id": "3d76239c-d4e9-426e-b200-1d4ef4ff07d6",
   "metadata": {},
   "outputs": [],
   "source": []
  },
  {
   "cell_type": "code",
   "execution_count": 23,
   "id": "667cebe2-b2f5-4ac6-8fa6-d005d13cc9bf",
   "metadata": {},
   "outputs": [
    {
     "data": {
      "image/png": "[encoded data removed]",
      "text/plain": [
       "<IPython.core.display.Image object>"
      ]
     },
     "metadata": {},
     "output_type": "display_data"
    }
   ],
   "source": [
    "t = 0:0.1:10; % Συνεχής χρόνος\n",
    "Ts = 2; % Περίοδος δειγματοληψίας\n",
    "x = sin(t); % Συνεχής συνάρτηση\n",
    "\n",
    "delta_series = mod(t, Ts) == 0; % Δειγματολήπτης\n",
    "x_sampled = x .* delta_series; % Δειγματοληψία\n",
    "\n",
    "plot(t, x, 'b', 'LineWidth', 1); % Συνεχής συνάρτηση\n",
    "hold on;\n",
    "stem(t, x_sampled, 'r', 'filled'); % Δειγματοληπτημένα σημεία\n",
    "xlabel('Χρόνος t');\n",
    "ylabel('x(t) και x_s(t)');\n",
    "title('Δειγματοληψία της x(t) = sin(t) με παλμούς δέλτα');\n",
    "legend('Συνεχής x(t)', 'Δειγματοληπτημένα σημεία');\n",
    "grid on;\n",
    "hold off;"
   ]
  },
  {
   "cell_type": "code",
   "execution_count": null,
   "id": "b3d3e273-fea8-4e3d-a4a1-79e89381b4e6",
   "metadata": {},
   "outputs": [],
   "source": []
  },
  {
   "cell_type": "code",
   "execution_count": null,
   "id": "c9278d62-dd62-44d2-ada6-bddbcfe59fe1",
   "metadata": {},
   "outputs": [],
   "source": []
  },
  {
   "cell_type": "code",
   "execution_count": null,
   "id": "72216f15-0826-4902-b64b-b22544ad07c5",
   "metadata": {},
   "outputs": [],
   "source": []
  },
  {
   "cell_type": "code",
   "execution_count": null,
   "id": "153c0585-d3ea-4b00-bee3-d9ee93960421",
   "metadata": {},
   "outputs": [],
   "source": []
  },
  {
   "cell_type": "code",
   "execution_count": null,
   "id": "27fface1-14a7-4133-9ac3-e44327ff87a7",
   "metadata": {},
   "outputs": [],
   "source": []
  }
 ],
 "metadata": {
  "kernelspec": {
   "display_name": "Octave",
   "language": "octave",
   "name": "octave"
  },
  "language_info": {
   "file_extension": ".m",
   "help_links": [
    {
     "text": "GNU Octave",
     "url": "https://www.gnu.org/software/octave/support.html"
    },
    {
     "text": "Octave Kernel",
     "url": "https://github.com/Calysto/octave_kernel"
    },
    {
     "text": "MetaKernel Magics",
     "url": "https://metakernel.readthedocs.io/en/latest/source/README.html"
    }
   ],
   "mimetype": "text/x-octave",
   "name": "octave",
   "version": "6.4.0"
  }
 },
 "nbformat": 4,
 "nbformat_minor": 5
}
