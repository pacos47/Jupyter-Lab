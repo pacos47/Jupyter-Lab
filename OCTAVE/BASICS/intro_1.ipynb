{
 "cells": [
  {
   "cell_type": "markdown",
   "id": "51edf4f6-6d33-4bc5-98e8-180911c8646a",
   "metadata": {},
   "source": [
    "## Remarks on strarting lab\n",
    "\n",
    "I created anew directory for OCTAVE : /home/pacos/Documents/JUPYTER-LAB/OCTAVE/BASICS\n",
    "\n",
    "\n",
    "From within this dir (as suggsted so as to work from current directory)\n",
    "I asked for terminal and from terminal .....$jupyter-lab\n",
    "\n",
    "##### second way to work drom this directory:\n",
    "\n",
    "From applications =>jupyter lab and you enter ther last working dir.\n",
    "\n",
    "if it is the one you want , ok , else you have the file brwser on your left and go wherever you want\n",
    "\n",
    "\n",
    "\n",
    "\n",
    "\n",
    "\n"
   ]
  },
  {
   "cell_type": "code",
   "execution_count": 4,
   "id": "e8b37381-4f60-4b2d-a848-35ef470f46b8",
   "metadata": {},
   "outputs": [
    {
     "name": "stdout",
     "output_type": "stream",
     "text": [
      "ans = 12\n"
     ]
    }
   ],
   "source": [
    "1+11\n"
   ]
  },
  {
   "cell_type": "code",
   "execution_count": 3,
   "id": "26047e33-6f57-487a-814d-73c27b907b29",
   "metadata": {},
   "outputs": [
    {
     "name": "stdout",
     "output_type": "stream",
     "text": [
      "ans =\n",
      "\n",
      "   1   2   3\n",
      "\n"
     ]
    }
   ],
   "source": [
    "[1 2 3]"
   ]
  },
  {
   "cell_type": "code",
   "execution_count": 5,
   "id": "0c83c66c-1ea2-4ca1-93e0-8948ad2aadce",
   "metadata": {},
   "outputs": [
    {
     "name": "stdout",
     "output_type": "stream",
     "text": [
      "ans =\n",
      "\n",
      "   1   2   3\n",
      "   4   5   6\n",
      "\n"
     ]
    }
   ],
   "source": [
    "[[1 2 3];[4 5 6]]"
   ]
  },
  {
   "cell_type": "markdown",
   "id": "f0bff3c0-96be-4049-864c-9448bf91079a",
   "metadata": {},
   "source": [
    "### ορισμος πινακα με αρχή , βήμα , τέλος\n",
    "\n",
    "α=[αρχή:βημα:τελος]"
   ]
  },
  {
   "cell_type": "markdown",
   "id": "69047339-feb4-43ab-bbff-08c9610f3f8d",
   "metadata": {},
   "source": [
    " ##### Για να προσθέσεις σχόλια μέσα σε ένα Jupyter Notebook cell, μπορείς να χρησιμοποιήσεις: #\n",
    "\n",
    " \n",
    "\n"
   ]
  },
  {
   "cell_type": "code",
   "execution_count": 12,
   "id": "7cd30a0d-d8a4-40d3-be31-f2840bed647e",
   "metadata": {},
   "outputs": [
    {
     "name": "stdout",
     "output_type": "stream",
     "text": [
      "a =\n",
      "\n",
      "   1   2   3   4\n",
      "\n"
     ]
    }
   ],
   "source": [
    "# this is a comment\n",
    "a=[1:4]   # if missing , step defaults to one"
   ]
  },
  {
   "cell_type": "code",
   "execution_count": 14,
   "id": "9622c461-9b1d-4a86-957c-c4e77bebb645",
   "metadata": {},
   "outputs": [
    {
     "name": "stdout",
     "output_type": "stream",
     "text": [
      "b =\n",
      "\n",
      "  -0.5000   1.5000   3.5000\n",
      "\n"
     ]
    }
   ],
   "source": [
    "B =[-0.5:2:5]"
   ]
  },
  {
   "cell_type": "code",
   "execution_count": null,
   "id": "63547ae7-4430-4b31-8793-34dce7e8e9a2",
   "metadata": {},
   "outputs": [],
   "source": []
  },
  {
   "cell_type": "code",
   "execution_count": null,
   "id": "c8881b81-2b60-409a-b6e2-f00e2eccfc1c",
   "metadata": {},
   "outputs": [],
   "source": []
  },
  {
   "cell_type": "markdown",
   "id": "c6cb2a67-4860-459d-bcfc-d2f526954ca3",
   "metadata": {},
   "source": [
    "### linspace\n",
    "##### l=(αρχη, τελος, συνολο στοιχειων)"
   ]
  },
  {
   "cell_type": "code",
   "execution_count": 28,
   "id": "e52db6aa-353f-4599-9380-90c74a4c77b0",
   "metadata": {},
   "outputs": [
    {
     "name": "stdout",
     "output_type": "stream",
     "text": [
      "c =\n",
      "\n",
      " Columns 1 through 8:\n",
      "\n",
      "   2.1000   2.3111   2.5222   2.7333   2.9444   3.1556   3.3667   3.5778\n",
      "\n",
      " Columns 9 and 10:\n",
      "\n",
      "   3.7889   4.0000\n",
      "\n"
     ]
    }
   ],
   "source": [
    "c=linspace(2.1,4,10)"
   ]
  },
  {
   "cell_type": "code",
   "execution_count": 9,
   "id": "85288459-0772-4146-a6a2-5beff55b695f",
   "metadata": {},
   "outputs": [
    {
     "name": "stdout",
     "output_type": "stream",
     "text": [
      "b =\n",
      "\n",
      "   2.0000        0   4.0000\n",
      "   2.2048  -5.0000        0\n",
      "   1.0000        0  -9.0000\n",
      "\n"
     ]
    }
   ],
   "source": [
    "b = [2 0 4 ; 5*sqrt(7)/6 -5 0 ; 1 0 -9]"
   ]
  },
  {
   "cell_type": "markdown",
   "id": "84548386-2d57-4bc4-866d-d9dc792ae802",
   "metadata": {},
   "source": [
    "#### complex"
   ]
  },
  {
   "cell_type": "code",
   "execution_count": 11,
   "id": "59bca2f9-d8d6-43df-8688-3ef21502ec5f",
   "metadata": {},
   "outputs": [
    {
     "name": "stdout",
     "output_type": "stream",
     "text": [
      "A =\n",
      "\n",
      "   4 - 4i   4 + 7i\n",
      "   2 - 6i   7 - 9i\n",
      "\n"
     ]
    }
   ],
   "source": [
    "A = [4-4*i 4+7*i ; 2-6*i 7-9*i]"
   ]
  },
  {
   "cell_type": "markdown",
   "id": "cab91db4-d1a5-45d7-a1cc-68eba1477239",
   "metadata": {},
   "source": [
    "## add , subtruct element par element :ισες διαστάσεις"
   ]
  },
  {
   "cell_type": "code",
   "execution_count": null,
   "id": "0a5ae3e7-ed3b-4623-b8db-6f4fd56aa9c2",
   "metadata": {},
   "outputs": [],
   "source": []
  }
 ],
 "metadata": {
  "kernelspec": {
   "display_name": "Octave",
   "language": "octave",
   "name": "octave"
  },
  "language_info": {
   "file_extension": ".m",
   "help_links": [
    {
     "text": "GNU Octave",
     "url": "https://www.gnu.org/software/octave/support.html"
    },
    {
     "text": "Octave Kernel",
     "url": "https://github.com/Calysto/octave_kernel"
    },
    {
     "text": "MetaKernel Magics",
     "url": "https://metakernel.readthedocs.io/en/latest/source/README.html"
    }
   ],
   "mimetype": "text/x-octave",
   "name": "octave",
   "version": "6.4.0"
  }
 },
 "nbformat": 4,
 "nbformat_minor": 5
}
