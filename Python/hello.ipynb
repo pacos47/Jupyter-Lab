{
 "cells": [
  {
   "cell_type": "markdown",
   "id": "dfe5a39a-c7ad-484e-a2b2-563b3160aecb",
   "metadata": {
    "jupyter": {
     "source_hidden": true
    }
   },
   "source": [
    "### print\n"
   ]
  },
  {
   "cell_type": "code",
   "execution_count": 2,
   "id": "74fb4292-42f7-4bfc-8b1b-8ca8ec5bb494",
   "metadata": {},
   "outputs": [
    {
     "name": "stdout",
     "output_type": "stream",
     "text": [
      "Hello!\n"
     ]
    }
   ],
   "source": [
    "print(\"Hello!\")"
   ]
  },
  {
   "cell_type": "markdown",
   "id": "fbc3d44f-cf63-42e8-b333-eb66116c94dd",
   "metadata": {},
   "source": [
    "### Latex\n",
    "\n",
    "$e^{iπ}=-1$\n",
    "\n",
    "$exp(ix)=7$\n",
    "\n",
    "$Exp(rt)=4$"
   ]
  },
  {
   "cell_type": "code",
   "execution_count": null,
   "id": "9ceaa878-db78-43af-ada8-f6a0002eca98",
   "metadata": {},
   "outputs": [],
   "source": []
  },
  {
   "cell_type": "code",
   "execution_count": null,
   "id": "a896a4c1-72ee-47d3-8503-7f0a243baf05",
   "metadata": {},
   "outputs": [],
   "source": []
  }
 ],
 "metadata": {
  "kernelspec": {
   "display_name": "Python 3 (ipykernel)",
   "language": "python",
   "name": "python3"
  },
  "language_info": {
   "codemirror_mode": {
    "name": "ipython",
    "version": 3
   },
   "file_extension": ".py",
   "mimetype": "text/x-python",
   "name": "python",
   "nbconvert_exporter": "python",
   "pygments_lexer": "ipython3",
   "version": "3.11.9"
  }
 },
 "nbformat": 4,
 "nbformat_minor": 5
}
