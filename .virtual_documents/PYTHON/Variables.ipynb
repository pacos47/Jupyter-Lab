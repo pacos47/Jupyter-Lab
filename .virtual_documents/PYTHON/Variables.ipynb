


import math
x = 3
name = "Κώστας"
pi = 3.14   #THE pi is math.pi
print(type(x))
t=type(x)
tt=type(t)
print("t is :",t)
#print(t[0])  error: not subscriptable
print(tt)
print(x)
print(type(22))
print("7")
print(7)
print("type of pi is",type(pi))
print("type of name is:", type(name))
# y=pi*100
print(1.2E2)
#print(piE2) #error enw to pi einai orismeno
print(math.pi)
# comment added
# new comment added at the origin(git-hub file) by some malicious person



