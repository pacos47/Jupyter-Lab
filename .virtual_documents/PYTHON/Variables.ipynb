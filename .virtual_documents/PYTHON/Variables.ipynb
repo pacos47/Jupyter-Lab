





x = 5           # Integer
name = "Alice"  # String
pi = 3.14       # Float
is_valid = True # Boolean











# valid
age = 25
_userName = "Bob"
total_3 = 100



3total = 100     # Starts with a number
user-name = "Sam" # Hyphen not allowed


x = 10
print(type(x))
x = "Now I'm a string!"
print(type(x))


## Multiple Assignments

a, b, c = 1, 2, 3
x = y = z = 0     # All assigned 0











import math
x = 3
name = "Κώστας"
pi = 3.14   #THE pi is math.pi
print(type(x))
t=type(x)
tt=type(t)
print("t is :",t)
#print(t[0])  error: not subscriptable
print(tt)
print(x)
print(type(22))
print("7")
print(7)
print("type of pi is",type(pi))
print("type of name is:", type(name))
# y=pi*100
print(1.2E2)
#print(piE2) #error enw to pi einai orismeno
print(math.pi)
# comment added
# new comment added at the origin(git-hub file) by some malicious person








# Integer (int)
#Whole numbers (positive or negative)

x = 10
y = -3
print(type(x))  # <class 'int'>


#Floating-point (float)
#Numbers with a decimal point


pi = 3.14159
temp = -0.5
print(type(pi))  # <class 'float'>



#String (str)
#Text data, enclosed in quotes (' or ")


name = "Alice"
greeting = 'Hello'
print(type(name))  # <class 'str'>


#Boolean (bool)
#Logical values: True or False


is_active = True
has_error = False
print(type(is_active))  # <class 'bool'>


#List (list)
#Ordered, changeable collection (can contain mixed types)


numbers = [1, 2, 3, 4]
items = ["apple", 3.14, True]
print(type(numbers))  # <class 'list'>


#Tuple (tuple)
#Ordered, unchangeable collection


coords = (10.0, 20.0)
colors = ("red", "green", "blue")
print(type(coords))  # <class 'tuple'>


# Set (set)
#Unordered collection of unique values


unique_nums = {1, 2, 3, 2, 1}
print(unique_nums)       # {1, 2, 3}
print(type(unique_nums)) # <class 'set'>



 #Dictionary (dict)
#Key-value pairs (like a mini database)


person = {
    "name": "Alice",
    "age": 30,
    "is_student": False
}
print(type(person))  # <class 'dict'>











#NoneType
#Represents a null value or no value at all.


result = None
print(type(result))  # <class 'NoneType'>





data = b"Hello"          # bytes
buffer = bytearray(5)    # bytearray of 5 zeros
print(type(data))        # <class 'bytes'>
print(data)





#Single Argument: range(stop)
#Generates numbers starting from 0 up to, but not including, the stop value.

a=range(5)

print(a)

display(a)

print(a[1])








a = range(5)
for number in a:
    print(number)  # Output: 0, 1, 2, 3, 4 (printed one per line)


a=range(5,10)



a=range(0,10,2)
for number in a:
    print(number)






fs = frozenset([1, 2, 3])
print(type(fs))  # <class 'frozenset'>












