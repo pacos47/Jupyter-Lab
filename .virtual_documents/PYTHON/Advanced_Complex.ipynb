








import numpy as np

x = np.pi
z = np.exp(1j * x)
print(z)  # Output: (-1+1.2246467991473532e-16j)





import cmath

# Define x (real number)
x = 1.0

# Calculate e^(ix)
result = cmath.exp(1j * x)

print(f"e^(i * {x}) = {result}")


















