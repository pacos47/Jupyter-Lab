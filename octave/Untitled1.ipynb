{
 "cells": [
  {
   "cell_type": "code",
   "execution_count": null,
   "id": "35708ae5-be46-471f-b9b4-2509e1d2f384",
   "metadata": {
    "jupyter": {
     "source_hidden": true
    }
   },
   "outputs": [],
   "source": [
    "disp(\"Hello, Octave in Jupyter!\")"
   ]
  },
  {
   "cell_type": "code",
   "execution_count": null,
   "id": "9d992199-1c14-42ba-9ea1-c0bd08da0dd7",
   "metadata": {
    "jupyter": {
     "source_hidden": true
    }
   },
   "outputs": [],
   "source": [
    "2+6"
   ]
  },
  {
   "cell_type": "code",
   "execution_count": null,
   "id": "877604fd-f5e2-4d68-8c87-003bfd43a3f0",
   "metadata": {},
   "outputs": [],
   "source": []
  }
 ],
 "metadata": {
  "kernelspec": {
   "display_name": "Octave",
   "language": "octave",
   "name": "octave"
  },
  "language_info": {
   "name": ""
  }
 },
 "nbformat": 4,
 "nbformat_minor": 5
}
