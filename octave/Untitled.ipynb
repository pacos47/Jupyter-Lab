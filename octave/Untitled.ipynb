{
 "cells": [
  {
   "cell_type": "code",
   "execution_count": null,
   "id": "228710c6-f6fe-4ce0-9c0e-eda80967382f",
   "metadata": {},
   "outputs": [],
   "source": [
    "% Display a message\n",
    "printf(\"Hello, Octave!\\n\");"
   ]
  },
  {
   "cell_type": "code",
   "execution_count": null,
   "id": "0712c3dd-8d2e-49de-be3d-bd49d47963e0",
   "metadata": {},
   "outputs": [],
   "source": []
  }
 ],
 "metadata": {
  "kernelspec": {
   "display_name": "Octave",
   "language": "octave",
   "name": "octave"
  },
  "language_info": {
   "name": ""
  }
 },
 "nbformat": 4,
 "nbformat_minor": 5
}
