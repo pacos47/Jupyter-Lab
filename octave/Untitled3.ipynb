{
 "cells": [
  {
   "cell_type": "code",
   "execution_count": null,
   "id": "b19efe17-673f-453d-8312-b94cf35c4b93",
   "metadata": {},
   "outputs": [],
   "source": [
    "7-6"
   ]
  },
  {
   "cell_type": "code",
   "execution_count": null,
   "id": "a6c333ce-da05-4fbd-885f-e4782c18a209",
   "metadata": {},
   "outputs": [],
   "source": []
  }
 ],
 "metadata": {
  "kernelspec": {
   "display_name": "Octave",
   "language": "octave",
   "name": "octave"
  },
  "language_info": {
   "name": ""
  }
 },
 "nbformat": 4,
 "nbformat_minor": 5
}
